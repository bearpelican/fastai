{
 "cells": [
  {
   "cell_type": "code",
   "execution_count": 1,
   "metadata": {},
   "outputs": [],
   "source": [
    "%reload_ext autoreload\n",
    "%autoreload 2\n",
    "%matplotlib inline"
   ]
  },
  {
   "cell_type": "code",
   "execution_count": 2,
   "metadata": {},
   "outputs": [],
   "source": [
    "from IPython.core.display import display, Markdown, HTML"
   ]
  },
  {
   "cell_type": "code",
   "execution_count": 3,
   "metadata": {},
   "outputs": [],
   "source": [
    "from fastai.gen_doc import nbtest\n",
    "from fastai.gen_doc import nbdoc\n",
    "from fastai.gen_doc import gen_tests"
   ]
  },
  {
   "cell_type": "markdown",
   "metadata": {},
   "source": [
    "## Create test file for nbtest"
   ]
  },
  {
   "cell_type": "code",
   "execution_count": 4,
   "metadata": {},
   "outputs": [
    {
     "name": "stdout",
     "output_type": "stream",
     "text": [
      "Could not find exact file match: []\n"
     ]
    },
    {
     "data": {
      "text/markdown": [
       "No tests found for `fastai.gen_doc.nbtest`"
      ],
      "text/plain": [
       "<IPython.core.display.Markdown object>"
      ]
     },
     "metadata": {},
     "output_type": "display_data"
    }
   ],
   "source": [
    "# Show test file\n",
    "nbtest.show_test(nbtest)"
   ]
  },
  {
   "cell_type": "code",
   "execution_count": 5,
   "metadata": {},
   "outputs": [
    {
     "data": {
      "text/plain": [
       "PosixPath('/Users/andrewshaw/Projects/ML/fastai/tests/test_nbtest.py')"
      ]
     },
     "execution_count": 5,
     "metadata": {},
     "output_type": "execute_result"
    }
   ],
   "source": [
    "# Expected test file location\n",
    "gen_tests.test_filename(nbtest)"
   ]
  },
  {
   "cell_type": "code",
   "execution_count": 6,
   "metadata": {},
   "outputs": [
    {
     "data": {
      "text/plain": [
       "['show_test',\n",
       " 'doctest',\n",
       " 'find_tests',\n",
       " 'lookup_db',\n",
       " 'find_test_matches',\n",
       " 'find_test_files',\n",
       " 'direct_test_match',\n",
       " 'fuzzy_test_match']"
      ]
     },
     "execution_count": 6,
     "metadata": {},
     "output_type": "execute_result"
    }
   ],
   "source": [
    "# All functions\n",
    "nbdoc.get_ft_names(nbtest)"
   ]
  },
  {
   "cell_type": "code",
   "execution_count": 7,
   "metadata": {},
   "outputs": [
    {
     "data": {
      "text/markdown": [
       "```python\n",
       "import pytest\n",
       "from fastai.gen_doc.nbtest import *\n",
       "from fastai.gen_doc import nbtest\n",
       "\n",
       "```"
      ],
      "text/plain": [
       "<IPython.core.display.Markdown object>"
      ]
     },
     "metadata": {},
     "output_type": "display_data"
    }
   ],
   "source": [
    "gen_tests.show_md_code(gen_tests.skeleton_headers(nbtest))"
   ]
  },
  {
   "cell_type": "code",
   "execution_count": 8,
   "metadata": {},
   "outputs": [],
   "source": [
    "import pytest\n",
    "from fastai.gen_doc.nbtest import *\n",
    "from fastai.gen_doc import nbtest"
   ]
  },
  {
   "cell_type": "markdown",
   "metadata": {},
   "source": [
    "### Create tests"
   ]
  },
  {
   "cell_type": "markdown",
   "metadata": {},
   "source": [
    "submodule_name"
   ]
  },
  {
   "cell_type": "code",
   "execution_count": 10,
   "metadata": {},
   "outputs": [
    {
     "data": {
      "text/markdown": [
       "```python\n",
       "def test_submodule_name():\n",
       "\telt = # instantiate param 'elt'\n",
       "\tresult:str = _submodule_name(elt)\n",
       "\tassert result == None, f\"Failed: _submodule_name return unexpected result: {result}\"\n",
       "```"
      ],
      "text/plain": [
       "<IPython.core.display.Markdown object>"
      ]
     },
     "metadata": {},
     "output_type": "display_data"
    }
   ],
   "source": [
    "gen_tests.show_skeleton_test(nbtest._submodule_name)"
   ]
  },
  {
   "cell_type": "code",
   "execution_count": 11,
   "metadata": {},
   "outputs": [],
   "source": [
    "def test_submodule_name():\n",
    "    result:str = nbtest._submodule_name(nbtest.doctest)\n",
    "    assert result == 'gen_doc', 'should return submodule'\n",
    "    \n",
    "    from fastai.core import ifnone\n",
    "    result:str = nbtest._submodule_name(ifnone)\n",
    "    assert result == None, f'fastai/module should not have a submodule: {result}'"
   ]
  },
  {
   "cell_type": "code",
   "execution_count": 12,
   "metadata": {},
   "outputs": [],
   "source": [
    "# test\n",
    "test_submodule_name()"
   ]
  },
  {
   "cell_type": "code",
   "execution_count": 88,
   "metadata": {},
   "outputs": [
    {
     "name": "stdout",
     "output_type": "stream",
     "text": [
      "Could not find test file. Creating new one: /Users/andrewshaw/Projects/ML/fastai/tests/test_gen_doc_nbtest.py\n"
     ]
    },
    {
     "data": {
      "text/plain": [
       "PosixPath('/Users/andrewshaw/Projects/ML/fastai/tests/test_gen_doc_nbtest.py')"
      ]
     },
     "execution_count": 88,
     "metadata": {},
     "output_type": "execute_result"
    }
   ],
   "source": [
    "gen_tests.save_test(nbtest._submodule_name, test_submodule_name)"
   ]
  },
  {
   "cell_type": "markdown",
   "metadata": {},
   "source": [
    "is_file_match"
   ]
  },
  {
   "cell_type": "code",
   "execution_count": 13,
   "metadata": {},
   "outputs": [],
   "source": [
    "??nbtest._is_file_match"
   ]
  },
  {
   "cell_type": "code",
   "execution_count": 15,
   "metadata": {},
   "outputs": [
    {
     "data": {
      "text/markdown": [
       "```python\n",
       "def test_is_file_match():\n",
       "\telt = # instantiate param 'elt'\n",
       "\tfile_name:str = str() # instantiate param 'file_name'\n",
       "\tresult = _is_file_match(elt, file_name)\n",
       "\tassert result == None, f\"Failed: _is_file_match return unexpected result: {result}\"\n",
       "```"
      ],
      "text/plain": [
       "<IPython.core.display.Markdown object>"
      ]
     },
     "metadata": {},
     "output_type": "display_data"
    }
   ],
   "source": [
    "gen_tests.show_skeleton_test(nbtest._is_file_match)"
   ]
  },
  {
   "cell_type": "code",
   "execution_count": 16,
   "metadata": {},
   "outputs": [],
   "source": [
    "def test_is_file_match():\n",
    "    import fastai.text.data\n",
    "    result = nbtest._is_file_match(fastai.text.data, 'test_text_data.py')\n",
    "    assert result is not None, f\"matches test files with submodule\"\n",
    "    \n",
    "    import fastai.core\n",
    "    result = nbtest._is_file_match(fastai.core.ifnone, 'test_core_subset_category.py')\n",
    "    assert result is not None, f\"matches module subsets\""
   ]
  },
  {
   "cell_type": "code",
   "execution_count": 17,
   "metadata": {},
   "outputs": [],
   "source": [
    "test_is_file_match()"
   ]
  },
  {
   "cell_type": "code",
   "execution_count": 89,
   "metadata": {},
   "outputs": [
    {
     "name": "stdout",
     "output_type": "stream",
     "text": [
      "Test file already exists. Appending test function to end\n"
     ]
    },
    {
     "data": {
      "text/plain": [
       "PosixPath('/Users/andrewshaw/Projects/ML/fastai/tests/test_gen_doc_nbtest.py')"
      ]
     },
     "execution_count": 89,
     "metadata": {},
     "output_type": "execute_result"
    }
   ],
   "source": [
    "gen_tests.save_test(nbtest._is_file_match, test_is_file_match)"
   ]
  },
  {
   "cell_type": "markdown",
   "metadata": {},
   "source": [
    "direct_test_match"
   ]
  },
  {
   "cell_type": "code",
   "execution_count": 18,
   "metadata": {},
   "outputs": [
    {
     "data": {
      "text/markdown": [
       "```python\n",
       "def test_direct_test_match():\n",
       "\tfn_name:str = str() # instantiate param 'fn_name'\n",
       "\tlines:List = List() # instantiate param 'lines'\n",
       "\trel_path:str = str() # instantiate param 'rel_path'\n",
       "\tresult:List = direct_test_match(fn_name, lines, rel_path)\n",
       "\tassert result == None, f\"Failed: direct_test_match return unexpected result: {result}\"\n",
       "```"
      ],
      "text/plain": [
       "<IPython.core.display.Markdown object>"
      ]
     },
     "metadata": {},
     "output_type": "display_data"
    }
   ],
   "source": [
    "gen_tests.show_skeleton_test(nbtest.direct_test_match)"
   ]
  },
  {
   "cell_type": "code",
   "execution_count": 19,
   "metadata": {},
   "outputs": [],
   "source": [
    "import inspect"
   ]
  },
  {
   "cell_type": "code",
   "execution_count": 90,
   "metadata": {},
   "outputs": [],
   "source": [
    "def test_direct_test_match():\n",
    "    fn_name = '_is_file_match'\n",
    "    lines = inspect.getsourcelines(test_is_file_match)[0]\n",
    "    result = direct_test_match(fn_name, lines, '')\n",
    "    assert result[0]['line'] == 0\n",
    "    assert result[0]['test'] == 'test_is_file_match', \"should match private functions\""
   ]
  },
  {
   "cell_type": "code",
   "execution_count": 91,
   "metadata": {},
   "outputs": [],
   "source": [
    "test_direct_test_match()"
   ]
  },
  {
   "cell_type": "code",
   "execution_count": 92,
   "metadata": {},
   "outputs": [
    {
     "name": "stdout",
     "output_type": "stream",
     "text": [
      "Test file already exists. Appending test function to end\n"
     ]
    },
    {
     "data": {
      "text/plain": [
       "PosixPath('/Users/andrewshaw/Projects/ML/fastai/tests/test_gen_doc_nbtest.py')"
      ]
     },
     "execution_count": 92,
     "metadata": {},
     "output_type": "execute_result"
    }
   ],
   "source": [
    "gen_tests.save_test(nbtest.direct_test_match, test_direct_test_match)"
   ]
  },
  {
   "cell_type": "code",
   "execution_count": 34,
   "metadata": {},
   "outputs": [],
   "source": [
    "def test_direct_test_match_class_methods():\n",
    "    fn_name = 'DataBunch.get'\n",
    "    lines = ['def test_Databunch_get():', '\\tpass', 'def test_Databunch_get_specific_function():']\n",
    "    result = direct_test_match(fn_name, lines, '')\n",
    "    assert len(result) == 2"
   ]
  },
  {
   "cell_type": "code",
   "execution_count": 36,
   "metadata": {},
   "outputs": [],
   "source": [
    "test_direct_test_match_class_methods()"
   ]
  },
  {
   "cell_type": "code",
   "execution_count": 93,
   "metadata": {},
   "outputs": [
    {
     "name": "stdout",
     "output_type": "stream",
     "text": [
      "Test file already exists. Appending test function to end\n"
     ]
    },
    {
     "data": {
      "text/plain": [
       "PosixPath('/Users/andrewshaw/Projects/ML/fastai/tests/test_gen_doc_nbtest.py')"
      ]
     },
     "execution_count": 93,
     "metadata": {},
     "output_type": "execute_result"
    }
   ],
   "source": [
    "gen_tests.save_test(nbtest.direct_test_match, test_direct_test_match_class_methods)"
   ]
  },
  {
   "cell_type": "markdown",
   "metadata": {},
   "source": [
    "fuzzy_test_match"
   ]
  },
  {
   "cell_type": "code",
   "execution_count": 37,
   "metadata": {},
   "outputs": [
    {
     "data": {
      "text/markdown": [
       "```python\n",
       "def test_fuzzy_test_match():\n",
       "\tfn_name:str = str() # instantiate param 'fn_name'\n",
       "\tlines:List = List() # instantiate param 'lines'\n",
       "\trel_path:str = str() # instantiate param 'rel_path'\n",
       "\tresult:List = fuzzy_test_match(fn_name, lines, rel_path)\n",
       "\tassert result == None, f\"Failed: fuzzy_test_match return unexpected result: {result}\"\n",
       "```"
      ],
      "text/plain": [
       "<IPython.core.display.Markdown object>"
      ]
     },
     "metadata": {},
     "output_type": "display_data"
    }
   ],
   "source": [
    "gen_tests.show_skeleton_test(nbtest.fuzzy_test_match)"
   ]
  },
  {
   "cell_type": "code",
   "execution_count": 55,
   "metadata": {},
   "outputs": [],
   "source": [
    "def test_fuzzy_test_match():\n",
    "    lines = ['def test_mock_function():',\n",
    "             '    x = mock_function(testedapi)',\n",
    "             'def test_related():',\n",
    "             '    return related().mock_function()'\n",
    "            'def test_substring():',\n",
    "             '    a.mock_func()._mock_function(1,2)']\n",
    "    result = fuzzy_test_match('mock_function', lines, None)\n",
    "    assert result[0]['test'] == 'test_mock_function', 'matches simple function calls'\n",
    "    assert result[1]['test'] == 'test_related', 'matches related calls'\n",
    "    assert len(result) == 2, 'should not include test_substring'\n",
    "    \n",
    "    lines = ['def test_without_fcall():',\n",
    "             '    return None', \n",
    "             'def helper_func():',\n",
    "             '    x = func(testedapi)', \n",
    "             '    x = test_function(testedapi)', \n",
    "             'x = func()']\n",
    "    result = fuzzy_test_match('func', lines, None)\n",
    "    assert len(result) == 0, 'should only find parent test functions with `def test_` prefix'\n"
   ]
  },
  {
   "cell_type": "code",
   "execution_count": 56,
   "metadata": {},
   "outputs": [],
   "source": [
    "test_fuzzy_test_match()"
   ]
  },
  {
   "cell_type": "code",
   "execution_count": 94,
   "metadata": {},
   "outputs": [
    {
     "name": "stdout",
     "output_type": "stream",
     "text": [
      "Test file already exists. Appending test function to end\n"
     ]
    },
    {
     "data": {
      "text/plain": [
       "PosixPath('/Users/andrewshaw/Projects/ML/fastai/tests/test_gen_doc_nbtest.py')"
      ]
     },
     "execution_count": 94,
     "metadata": {},
     "output_type": "execute_result"
    }
   ],
   "source": [
    "gen_tests.save_test(nbtest.fuzzy_test_match, test_fuzzy_test_match)"
   ]
  },
  {
   "cell_type": "code",
   "execution_count": 65,
   "metadata": {},
   "outputs": [],
   "source": [
    "def test_fuzzy_line_match():\n",
    "    # Testing _fuzzy_test_match private methods\n",
    "    result = nbtest._fuzzy_line_match('Databunch.get', ['d = DataBunch()', 'item = d.get(5)'])\n",
    "    assert len(result) == 1, 'finds class methods'\n",
    "    \n",
    "    result = nbtest._fuzzy_line_match('TextList', ['tl = (TextList.from_df()', '', 'LMTextList()'])\n",
    "    assert len(result) == 1, 'matches classes'\n",
    "    "
   ]
  },
  {
   "cell_type": "code",
   "execution_count": 66,
   "metadata": {},
   "outputs": [],
   "source": [
    "test_fuzzy_line_match()"
   ]
  },
  {
   "cell_type": "code",
   "execution_count": 96,
   "metadata": {},
   "outputs": [
    {
     "name": "stdout",
     "output_type": "stream",
     "text": [
      "Test file already exists. Appending test function to end\n"
     ]
    },
    {
     "data": {
      "text/plain": [
       "PosixPath('/Users/andrewshaw/Projects/ML/fastai/tests/test_gen_doc_nbtest.py')"
      ]
     },
     "execution_count": 96,
     "metadata": {},
     "output_type": "execute_result"
    }
   ],
   "source": [
    "gen_tests.save_test(nbtest._fuzzy_line_match, test_fuzzy_line_match)"
   ]
  },
  {
   "cell_type": "markdown",
   "metadata": {},
   "source": [
    "get_tests_dir"
   ]
  },
  {
   "cell_type": "code",
   "execution_count": 67,
   "metadata": {},
   "outputs": [
    {
     "data": {
      "text/markdown": [
       "```python\n",
       "def test_get_tests_dir():\n",
       "\telt = # instantiate param 'elt'\n",
       "\tresult:Path = get_tests_dir(elt)\n",
       "\tassert result == None, f\"Failed: get_tests_dir return unexpected result: {result}\"\n",
       "```"
      ],
      "text/plain": [
       "<IPython.core.display.Markdown object>"
      ]
     },
     "metadata": {},
     "output_type": "display_data"
    }
   ],
   "source": [
    "gen_tests.show_skeleton_test(nbtest.get_tests_dir)"
   ]
  },
  {
   "cell_type": "code",
   "execution_count": 86,
   "metadata": {},
   "outputs": [],
   "source": [
    "def test_get_tests_dir():\n",
    "    result:Path = nbtest.get_tests_dir(nbtest)\n",
    "    assert result.parts[-1] == 'tests', f\"Failed: get_tests_dir return unexpected result: {result}\""
   ]
  },
  {
   "cell_type": "code",
   "execution_count": 87,
   "metadata": {},
   "outputs": [],
   "source": [
    "test_get_tests_dir()"
   ]
  },
  {
   "cell_type": "code",
   "execution_count": 97,
   "metadata": {},
   "outputs": [
    {
     "name": "stdout",
     "output_type": "stream",
     "text": [
      "Test file already exists. Appending test function to end\n"
     ]
    },
    {
     "data": {
      "text/plain": [
       "PosixPath('/Users/andrewshaw/Projects/ML/fastai/tests/test_gen_doc_nbtest.py')"
      ]
     },
     "execution_count": 97,
     "metadata": {},
     "output_type": "execute_result"
    }
   ],
   "source": [
    "gen_tests.save_test(nbtest.get_tests_dir, test_get_tests_dir)"
   ]
  },
  {
   "cell_type": "markdown",
   "metadata": {},
   "source": [
    "## Pytest"
   ]
  },
  {
   "cell_type": "code",
   "execution_count": 98,
   "metadata": {},
   "outputs": [
    {
     "data": {
      "text/markdown": [
       "Tests found for `fastai.gen_doc.nbtest`:\n",
       "\n",
       "Direct tests:\n",
       " * `pytest tests/test_gen_doc_nbtest.py::test_fuzzy_test_match` [\\[source\\]](https://github.com/fastai/fastai/blob/master/tests/test_gen_doc_nbtest.py#L34)\n",
       " * `pytest tests/test_gen_doc_nbtest.py::test_submodule_name` [\\[source\\]](https://github.com/fastai/fastai/blob/master/tests/test_gen_doc_nbtest.py#L4)\n",
       " * `pytest tests/test_gen_doc_nbtest.py::test_is_file_match` [\\[source\\]](https://github.com/fastai/fastai/blob/master/tests/test_gen_doc_nbtest.py#L12)\n",
       " * `pytest tests/test_gen_doc_nbtest.py::test_direct_test_match_class_methods` [\\[source\\]](https://github.com/fastai/fastai/blob/master/tests/test_gen_doc_nbtest.py#L28)\n",
       " * `pytest tests/test_gen_doc_nbtest.py::test_direct_test_match` [\\[source\\]](https://github.com/fastai/fastai/blob/master/tests/test_gen_doc_nbtest.py#L21)\n",
       " * `pytest tests/test_gen_doc_nbtest.py::test_fuzzy_line_match` [\\[source\\]](https://github.com/fastai/fastai/blob/master/tests/test_gen_doc_nbtest.py#L55)\n",
       " * `pytest tests/test_gen_doc_nbtest.py::test_get_tests_dir` [\\[source\\]](https://github.com/fastai/fastai/blob/master/tests/test_gen_doc_nbtest.py#L63)"
      ],
      "text/plain": [
       "<IPython.core.display.Markdown object>"
      ]
     },
     "metadata": {},
     "output_type": "display_data"
    }
   ],
   "source": [
    "nbtest.show_test(nbtest)"
   ]
  },
  {
   "cell_type": "code",
   "execution_count": 100,
   "metadata": {},
   "outputs": [
    {
     "name": "stdout",
     "output_type": "stream",
     "text": [
      "\u001b[1m============================= test session starts ==============================\u001b[0m\n",
      "platform darwin -- Python 3.7.0, pytest-4.2.0, py-1.7.0, pluggy-0.8.1\n",
      "rootdir: /Users/andrewshaw/Projects/ML/fastai, inifile: setup.cfg\n",
      "collected 7 items                                                              \u001b[0m\n",
      "\n",
      "tests/test_gen_doc_nbtest.py \u001b[32m.\u001b[0m\u001b[32m.\u001b[0m\u001b[31mF\u001b[0m\u001b[32m.\u001b[0m\u001b[32m.\u001b[0m\u001b[32m.\u001b[0m\u001b[32m.\u001b[0m\u001b[36m                                     [100%]\u001b[0m\n",
      "\n",
      "=================================== FAILURES ===================================\n",
      "\u001b[31m\u001b[1m____________________________ test_direct_test_match ____________________________\u001b[0m\n",
      "\n",
      "\u001b[1m    def test_direct_test_match():\u001b[0m\n",
      "\u001b[1m        fn_name = '_is_file_match'\u001b[0m\n",
      "\u001b[1m>       lines = inspect.getsourcelines(test_is_file_match)[0]\u001b[0m\n",
      "\u001b[1m\u001b[31mE       NameError: name 'inspect' is not defined\u001b[0m\n",
      "\n",
      "\u001b[1m\u001b[31mtests/test_gen_doc_nbtest.py\u001b[0m:24: NameError\n",
      "\u001b[31m\u001b[1m====================== 1 failed, 6 passed in 0.59 seconds ======================\u001b[0m\n"
     ]
    }
   ],
   "source": [
    "!pytest tests/test_gen_doc_nbtest.py"
   ]
  },
  {
   "cell_type": "code",
   "execution_count": 101,
   "metadata": {},
   "outputs": [
    {
     "name": "stdout",
     "output_type": "stream",
     "text": [
      "\u001b[1m============================= test session starts ==============================\u001b[0m\n",
      "platform darwin -- Python 3.7.0, pytest-4.2.0, py-1.7.0, pluggy-0.8.1\n",
      "rootdir: /Users/andrewshaw/Projects/ML/fastai, inifile: setup.cfg\n",
      "collected 7 items                                                              \u001b[0m\n",
      "\n",
      "tests/test_gen_doc_nbtest.py \u001b[32m.\u001b[0m\u001b[32m.\u001b[0m\u001b[32m.\u001b[0m\u001b[32m.\u001b[0m\u001b[32m.\u001b[0m\u001b[32m.\u001b[0m\u001b[32m.\u001b[0m\u001b[36m                                     [100%]\u001b[0m\n",
      "\n",
      "\u001b[32m\u001b[1m=========================== 7 passed in 0.32 seconds ===========================\u001b[0m\n"
     ]
    }
   ],
   "source": [
    "!pytest tests/test_gen_doc_nbtest.py"
   ]
  },
  {
   "cell_type": "markdown",
   "metadata": {},
   "source": [
    "## Features needed with using gen_tests:"
   ]
  },
  {
   "cell_type": "markdown",
   "metadata": {},
   "source": [
    "* add additional imports to test file (like inspect)\n",
    "* allow test function replacement if already exists\n",
    "* magical function to take a notebook and create a test_{module}.py from it"
   ]
  }
 ],
 "metadata": {
  "kernelspec": {
   "display_name": "Python 3",
   "language": "python",
   "name": "python3"
  },
  "language_info": {
   "codemirror_mode": {
    "name": "ipython",
    "version": 3
   },
   "file_extension": ".py",
   "mimetype": "text/x-python",
   "name": "python",
   "nbconvert_exporter": "python",
   "pygments_lexer": "ipython3",
   "version": "3.7.0"
  }
 },
 "nbformat": 4,
 "nbformat_minor": 2
}
