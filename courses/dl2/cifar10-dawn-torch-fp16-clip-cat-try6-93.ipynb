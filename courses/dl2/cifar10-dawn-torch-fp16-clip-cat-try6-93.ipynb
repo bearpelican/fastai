{
 "cells": [
  {
   "cell_type": "markdown",
   "metadata": {},
   "source": [
    "## CIFAR 10"
   ]
  },
  {
   "cell_type": "code",
   "execution_count": 13,
   "metadata": {},
   "outputs": [],
   "source": [
    "%matplotlib inline\n",
    "%reload_ext autoreload\n",
    "%autoreload 2"
   ]
  },
  {
   "cell_type": "code",
   "execution_count": 14,
   "metadata": {},
   "outputs": [],
   "source": [
    "from fastai.conv_learner import *\n",
    "from fastai.models.cifar10.wideresnet import wrn_22_cat, wrn_22\n",
    "torch.backends.cudnn.benchmark = True\n",
    "PATH = Path(\"data/cifar10/\")\n",
    "os.makedirs(PATH,exist_ok=True)"
   ]
  },
  {
   "cell_type": "code",
   "execution_count": 11,
   "metadata": {},
   "outputs": [],
   "source": [
    "classes = ('plane', 'car', 'bird', 'cat', 'deer', 'dog', 'frog', 'horse', 'ship', 'truck')\n",
    "stats = (np.array([ 0.4914 ,  0.48216,  0.44653]), np.array([ 0.24703,  0.24349,  0.26159]))\n",
    "\n",
    "bs=512\n",
    "sz=32\n",
    "workers=7"
   ]
  },
  {
   "cell_type": "code",
   "execution_count": 4,
   "metadata": {},
   "outputs": [],
   "source": [
    "import torchvision.transforms as transforms\n",
    "import torchvision.datasets as datasets\n",
    "\n",
    "def pad(img, p=4, padding_mode='reflect'):\n",
    "    return Image.fromarray(np.pad(np.asarray(img), ((p, p), (p, p), (0, 0)), padding_mode))\n",
    "\n",
    "def torch_loader(data_path, size):\n",
    "    if not os.path.exists(data_path+'/train'): download_cifar10(data_path)\n",
    "\n",
    "    # Data loading code\n",
    "    traindir = os.path.join(data_path, 'train')\n",
    "    valdir = os.path.join(data_path, 'test')\n",
    "    normalize = transforms.Normalize(mean=[0.4914 , 0.48216, 0.44653], std=[0.24703, 0.24349, 0.26159])\n",
    "    tfms = [transforms.ToTensor(), normalize]\n",
    "\n",
    "    train_tfms = transforms.Compose([\n",
    "        pad, # TODO: use `padding` rather than assuming 4\n",
    "        transforms.RandomCrop(size),\n",
    "        transforms.RandomHorizontalFlip(),\n",
    "    ] + tfms)\n",
    "    val_tfms = transforms.Compose(tfms)\n",
    "\n",
    "    train_dataset = datasets.ImageFolder(traindir, train_tfms)\n",
    "    val_dataset = datasets.ImageFolder(valdir, val_tfms)\n",
    "\n",
    "    train_loader = torch.utils.data.DataLoader(\n",
    "        train_dataset, batch_size=bs, shuffle=True,\n",
    "        num_workers=workers, pin_memory=True)\n",
    "\n",
    "    val_loader = torch.utils.data.DataLoader(\n",
    "        val_dataset, batch_size=bs*2, shuffle=False,\n",
    "        num_workers=workers, pin_memory=True)\n",
    "\n",
    "    train_loader = DataPrefetcher(train_loader)\n",
    "    val_loader = DataPrefetcher(val_loader)\n",
    "    \n",
    "    data = ModelData(data_path, train_loader, val_loader)\n",
    "    return data\n",
    "\n",
    "# Seems to speed up training by ~2%\n",
    "class DataPrefetcher():\n",
    "    def __init__(self, loader, stop_after=None):\n",
    "        self.loader = loader\n",
    "        self.dataset = loader.dataset\n",
    "        self.stream = torch.cuda.Stream()\n",
    "        self.stop_after = stop_after\n",
    "        self.next_input = None\n",
    "        self.next_target = None\n",
    "\n",
    "    def __len__(self):\n",
    "        return len(self.loader)\n",
    "\n",
    "    def preload(self):\n",
    "        try:\n",
    "            self.next_input, self.next_target = next(self.loaditer)\n",
    "        except StopIteration:\n",
    "            self.next_input = None\n",
    "            self.next_target = None\n",
    "            return\n",
    "        with torch.cuda.stream(self.stream):\n",
    "            self.next_input = self.next_input.cuda(async=True)\n",
    "            self.next_target = self.next_target.cuda(async=True)\n",
    "\n",
    "    def __iter__(self):\n",
    "        count = 0\n",
    "        self.loaditer = iter(self.loader)\n",
    "        self.preload()\n",
    "        while self.next_input is not None:\n",
    "            torch.cuda.current_stream().wait_stream(self.stream)\n",
    "            input = self.next_input\n",
    "            target = self.next_target\n",
    "            self.preload()\n",
    "            count += 1\n",
    "            yield input, target\n",
    "            if type(self.stop_after) is int and (count > self.stop_after):\n",
    "                break"
   ]
  },
  {
   "cell_type": "code",
   "execution_count": 5,
   "metadata": {},
   "outputs": [],
   "source": [
    "data = torch_loader(str(PATH), sz)"
   ]
  },
  {
   "cell_type": "code",
   "execution_count": 6,
   "metadata": {},
   "outputs": [
    {
     "data": {
      "application/vnd.jupyter.widget-view+json": {
       "model_id": "9f940e6f56c54658a444ed6b88e38412",
       "version_major": 2,
       "version_minor": 0
      },
      "text/plain": [
       "HBox(children=(IntProgress(value=0, description='Epoch', max=21), HTML(value='')))"
      ]
     },
     "metadata": {},
     "output_type": "display_data"
    },
    {
     "name": "stdout",
     "output_type": "stream",
     "text": [
      "epoch      trn_loss   val_loss   accuracy                 \n",
      "    0      1.66526    2.344898   0.3635    \n",
      "    1      1.256508   1.369473   0.5592                   \n",
      "    2      0.968212   0.942512   0.68                      \n",
      "    3      0.793817   0.729841   0.7539                    \n",
      "    4      0.674234   0.947319   0.6872                    \n",
      "    5      0.572293   0.571005   0.8089                    \n",
      "    6      0.505574   0.708097   0.7542                    \n",
      "    7      0.4773     0.544679   0.8225                    \n",
      "    8      0.427297   0.603911   0.8046                    \n",
      "    9      0.399874   0.589722   0.8057                    \n",
      "    10     0.366514   0.5199     0.8297                    \n",
      "    11     0.325982   0.420317   0.8652                    \n",
      "    12     0.30127    0.41153    0.8659                    \n",
      "    13     0.273297   0.43807    0.8577                    \n",
      "    14     0.237144   0.404576   0.8735                    \n",
      "    15     0.187449   0.327712   0.8949                    \n",
      "    16     0.134499   0.24507    0.922                     \n",
      "    17     0.088562   0.220373   0.9302                     \n",
      "    18     0.073381   0.221436   0.9292                     \n",
      "    19     0.068092   0.22101    0.9306                     \n",
      "    20     0.064092   0.220826   0.93                       \n",
      "\n"
     ]
    },
    {
     "data": {
      "text/plain": [
       "[array([0.22083]), 0.9299999996185303]"
      ]
     },
     "execution_count": 6,
     "metadata": {},
     "output_type": "execute_result"
    }
   ],
   "source": [
    "m = wrn_22_cat()\n",
    "learn = ConvLearner.from_model_data(m, data)\n",
    "learn.half()\n",
    "learn.crit = nn.CrossEntropyLoss()\n",
    "learn.metrics = [accuracy]\n",
    "wd=1e-4\n",
    "lr=.6\n",
    "learn.clip = 3e-1\n",
    "def_phase = {'opt_fn':optim.SGD, 'wds':wd}\n",
    "# TODO: add momentum\n",
    "lr=0.6\n",
    "phases = [\n",
    "    TrainingPhase(**def_phase, epochs=1, lr=(.005,.05), lr_decay=DecayType.EXPONENTIAL, momentum=0.95),\n",
    "    TrainingPhase(**def_phase, epochs=6, lr=(.05,.9), lr_decay=DecayType.COSINE, momentum=(0.95,0.85), momentum_decay=DecayType.COSINE),\n",
    "    TrainingPhase(**def_phase, epochs=4, lr=1, momentum=0.85),\n",
    "    TrainingPhase(**def_phase, epochs=7, lr=(.9,.01), lr_decay=DecayType.COSINE, momentum=(0.85,0.95), momentum_decay=DecayType.COSINE),\n",
    "    TrainingPhase(**def_phase, epochs=3, lr=(.01,.0005), lr_decay=DecayType.LINEAR, momentum=(0.95))]\n",
    "\n",
    "learn.fit_opt_sched(phases, data_list=[data], loss_scale=512)"
   ]
  },
  {
   "cell_type": "code",
   "execution_count": 7,
   "metadata": {},
   "outputs": [
    {
     "data": {
      "image/png": "[encoded data removed]",
      "text/plain": [
       "<Figure size 864x288 with 2 Axes>"
      ]
     },
     "metadata": {},
     "output_type": "display_data"
    }
   ],
   "source": [
    "learn.sched.plot_lr()"
   ]
  },
  {
   "cell_type": "code",
   "execution_count": 8,
   "metadata": {},
   "outputs": [
    {
     "data": {
      "application/vnd.jupyter.widget-view+json": {
       "model_id": "7cda8a981fc743caa69bd0f64c4a24e1",
       "version_major": 2,
       "version_minor": 0
      },
      "text/plain": [
       "HBox(children=(IntProgress(value=0, description='Epoch', max=21), HTML(value='')))"
      ]
     },
     "metadata": {},
     "output_type": "display_data"
    },
    {
     "name": "stdout",
     "output_type": "stream",
     "text": [
      "epoch      trn_loss   val_loss   accuracy                 \n",
      "    0      1.752474   2.304783   0.3772    \n",
      "    1      1.371828   1.583727   0.5268                   \n",
      "    2      1.046365   1.224758   0.5657                   \n",
      "    3      0.829661   1.096694   0.6638                    \n",
      "    4      0.71493    0.821677   0.7263                    \n",
      "    5      0.611736   0.973354   0.7029                    \n",
      "    6      0.553251   0.939936   0.7246                    \n",
      "    7      0.491462   0.540346   0.8178                    \n",
      "    8      0.43213    0.542638   0.8228                    \n",
      "    9      0.403893   0.666512   0.7979                    \n",
      "    10     0.383776   0.434796   0.8594                    \n",
      "    11     0.350318   0.548883   0.8077                    \n",
      "    12     0.331349   0.580524   0.8119                    \n",
      "    13     0.300143   0.628482   0.8139                    \n",
      "    14     0.276342   0.409791   0.8613                    \n",
      "    15     0.232132   0.358471   0.8831                    \n",
      "    16     0.176579   0.294133   0.9054                    \n",
      "    17     0.126253   0.237599   0.9242                    \n",
      "    18     0.086235   0.225938   0.9298                     \n",
      "    19     0.07358    0.225388   0.931                      \n",
      "    20     0.068453   0.227503   0.9298                     \n",
      "\n"
     ]
    },
    {
     "data": {
      "text/plain": [
       "[array([0.2275]), 0.9298000014305114]"
      ]
     },
     "execution_count": 8,
     "metadata": {},
     "output_type": "execute_result"
    }
   ],
   "source": [
    "m = wrn_22_cat()\n",
    "learn = ConvLearner.from_model_data(m, data)\n",
    "learn.half()\n",
    "learn.crit = nn.CrossEntropyLoss()\n",
    "learn.metrics = [accuracy]\n",
    "wd=1e-4\n",
    "lr=.6\n",
    "learn.clip = 4e-1\n",
    "def_phase = {'opt_fn':optim.SGD, 'wds':wd}\n",
    "# TODO: add momentum\n",
    "lr=0.6\n",
    "phases = [\n",
    "    TrainingPhase(**def_phase, epochs=1, lr=(.005,.05), lr_decay=DecayType.EXPONENTIAL, momentum=0.95),\n",
    "    TrainingPhase(**def_phase, epochs=6, lr=(.05,1.1), lr_decay=DecayType.COSINE, momentum=(0.95,0.85), momentum_decay=DecayType.COSINE),\n",
    "    TrainingPhase(**def_phase, epochs=4, lr=1.1, momentum=0.85),\n",
    "    TrainingPhase(**def_phase, epochs=8, lr=(1.1,.005), lr_decay=DecayType.COSINE, momentum=(0.85,0.95), momentum_decay=DecayType.COSINE),\n",
    "    TrainingPhase(**def_phase, epochs=2, lr=(.005,.001), lr_decay=DecayType.LINEAR, momentum=(0.95))]\n",
    "\n",
    "learn.fit_opt_sched(phases, data_list=[data], loss_scale=512)"
   ]
  },
  {
   "cell_type": "code",
   "execution_count": 12,
   "metadata": {},
   "outputs": [
    {
     "data": {
      "application/vnd.jupyter.widget-view+json": {
       "model_id": "cdfee4f33e4c4c1c9d565b79a855dac9",
       "version_major": 2,
       "version_minor": 0
      },
      "text/plain": [
       "HBox(children=(IntProgress(value=0, description='Epoch', max=21), HTML(value='')))"
      ]
     },
     "metadata": {},
     "output_type": "display_data"
    },
    {
     "name": "stdout",
     "output_type": "stream",
     "text": [
      "epoch      trn_loss   val_loss   accuracy                 \n",
      "    0      1.698742   3.318098   0.2957    \n",
      "    1      1.39156    5.488825   0.2282                   \n",
      "    2      1.13915    4.938947   0.2921                   \n",
      "    3      0.956944   1.458462   0.5873                    \n",
      "    4      0.841631   1.758545   0.5123                    \n",
      "    5      0.741075   1.131309   0.6443                    \n",
      "    6      0.694246   0.790346   0.7156                    \n",
      "    7      0.613475   0.840255   0.7138                    \n",
      "    8      0.556079   0.957055   0.6973                    \n",
      "    9      0.517534   0.84307    0.7226                    \n",
      "    10     0.482407   0.839548   0.7301                    \n",
      "    11     0.444594   0.615213   0.7984                    \n",
      "    12     0.420339   0.515712   0.833                     \n",
      "    13     0.381753   0.854218   0.7614                    \n",
      "    14     0.339466   0.488028   0.8387                    \n",
      "    15     0.290371   0.358797   0.8792                    \n",
      "    16     0.233364   0.361493   0.8809                    \n",
      "    17     0.170877   0.258801   0.9131                    \n",
      "    18     0.124025   0.250923   0.9187                    \n",
      "    19     0.107326   0.251029   0.9197                    \n",
      "    20     0.103691   0.251727   0.9204                    \n",
      "\n"
     ]
    },
    {
     "data": {
      "text/plain": [
       "[array([0.25173]), 0.9204000014305115]"
      ]
     },
     "execution_count": 12,
     "metadata": {},
     "output_type": "execute_result"
    }
   ],
   "source": [
    "# no activation scale\n",
    "m = wrn_22_cat()\n",
    "learn = ConvLearner.from_model_data(m, data)\n",
    "learn.half()\n",
    "learn.crit = nn.CrossEntropyLoss()\n",
    "learn.metrics = [accuracy]\n",
    "wd=1e-4\n",
    "lr=.6\n",
    "learn.clip = 4e-1\n",
    "def_phase = {'opt_fn':optim.SGD, 'wds':wd}\n",
    "# TODO: add momentum\n",
    "lr=0.6\n",
    "phases = [\n",
    "    TrainingPhase(**def_phase, epochs=1, lr=(.005,.05), lr_decay=DecayType.EXPONENTIAL, momentum=0.95),\n",
    "    TrainingPhase(**def_phase, epochs=6, lr=(.05,1.1), lr_decay=DecayType.COSINE, momentum=(0.95,0.85), momentum_decay=DecayType.COSINE),\n",
    "    TrainingPhase(**def_phase, epochs=4, lr=1.1, momentum=0.85),\n",
    "    TrainingPhase(**def_phase, epochs=8, lr=(1.1,.005), lr_decay=DecayType.COSINE, momentum=(0.85,0.95), momentum_decay=DecayType.COSINE),\n",
    "    TrainingPhase(**def_phase, epochs=2, lr=.005, lr_decay=DecayType.LINEAR, momentum=(0.95))]\n",
    "\n",
    "learn.fit_opt_sched(phases, data_list=[data], loss_scale=512)"
   ]
  },
  {
   "cell_type": "code",
   "execution_count": 15,
   "metadata": {},
   "outputs": [
    {
     "data": {
      "application/vnd.jupyter.widget-view+json": {
       "model_id": "de12a8c6e6d649a68842943ef505cc51",
       "version_major": 2,
       "version_minor": 0
      },
      "text/plain": [
       "HBox(children=(IntProgress(value=0, description='Epoch', max=21), HTML(value='')))"
      ]
     },
     "metadata": {},
     "output_type": "display_data"
    },
    {
     "name": "stdout",
     "output_type": "stream",
     "text": [
      "epoch      trn_loss   val_loss   accuracy                 \n",
      "    0      1.798473   1.817656   0.4346    \n",
      "    1      1.368729   1.164998   0.5741                   \n",
      "    2      1.068805   1.328745   0.5696                   \n",
      "    3      0.890238   0.895416   0.7002                    \n",
      "    4      0.785421   0.873376   0.7218                    \n",
      "    5      0.692066   0.687858   0.7767                    \n",
      "    6      0.623326   1.642933   0.5986                    \n",
      "    7      0.545686   0.886243   0.7189                    \n",
      "    8      0.48887    0.896244   0.7089                    \n",
      "    9      0.474913   0.776356   0.7388                    \n",
      "    10     0.439363   0.771902   0.7774                    \n",
      "    11     0.404382   0.683753   0.7853                    \n",
      "    12     0.388181   0.654763   0.7879                    \n",
      "    13     0.355072   0.564786   0.8181                    \n",
      "    14     0.314632   0.427668   0.8609                    \n",
      "    15     0.26979    0.404981   0.866                     \n",
      "    16     0.216052   0.312704   0.8903                    \n",
      "    17     0.155789   0.251315   0.9162                    \n",
      "    18     0.111925   0.243009   0.9232                    \n",
      "    19     0.099368   0.239444   0.9233                     \n",
      "    20     0.096649   0.240438   0.9234                     \n",
      "\n"
     ]
    },
    {
     "data": {
      "text/plain": [
       "[array([0.24044]), 0.9233999994277954]"
      ]
     },
     "execution_count": 15,
     "metadata": {},
     "output_type": "execute_result"
    }
   ],
   "source": [
    "# .1 activation scale\n",
    "m = wrn_22_cat()\n",
    "learn = ConvLearner.from_model_data(m, data)\n",
    "learn.half()\n",
    "learn.crit = nn.CrossEntropyLoss()\n",
    "learn.metrics = [accuracy]\n",
    "wd=1e-4\n",
    "lr=.6\n",
    "learn.clip = 4e-1\n",
    "def_phase = {'opt_fn':optim.SGD, 'wds':wd}\n",
    "# TODO: add momentum\n",
    "lr=0.6\n",
    "phases = [\n",
    "    TrainingPhase(**def_phase, epochs=1, lr=(.005,.05), lr_decay=DecayType.EXPONENTIAL, momentum=0.95),\n",
    "    TrainingPhase(**def_phase, epochs=6, lr=(.05,1.1), lr_decay=DecayType.COSINE, momentum=(0.95,0.85), momentum_decay=DecayType.COSINE),\n",
    "    TrainingPhase(**def_phase, epochs=4, lr=1.1, momentum=0.85),\n",
    "    TrainingPhase(**def_phase, epochs=8, lr=(1.1,.005), lr_decay=DecayType.COSINE, momentum=(0.85,0.95), momentum_decay=DecayType.COSINE),\n",
    "    TrainingPhase(**def_phase, epochs=2, lr=.005, lr_decay=DecayType.LINEAR, momentum=(0.95))]\n",
    "\n",
    "learn.fit_opt_sched(phases, data_list=[data], loss_scale=512)"
   ]
  },
  {
   "cell_type": "code",
   "execution_count": 16,
   "metadata": {},
   "outputs": [
    {
     "data": {
      "application/vnd.jupyter.widget-view+json": {
       "model_id": "40422b8fdd0642058b32d273d099158f",
       "version_major": 2,
       "version_minor": 0
      },
      "text/plain": [
       "HBox(children=(IntProgress(value=0, description='Epoch', max=21), HTML(value='')))"
      ]
     },
     "metadata": {},
     "output_type": "display_data"
    },
    {
     "name": "stdout",
     "output_type": "stream",
     "text": [
      "epoch      trn_loss   val_loss   accuracy                 \n",
      "    0      1.614084   1.880414   0.4276    \n",
      "    1      1.221256   1.767457   0.5128                   \n",
      "    2      0.940032   1.793488   0.5089                    \n",
      "    3      0.760124   0.893531   0.7065                    \n",
      "    4      0.659536   0.944209   0.6896                    \n",
      "    5      0.580415   0.741552   0.7622                    \n",
      "    6      0.493304   0.700595   0.7717                    \n",
      "    7      0.459025   0.735491   0.7542                    \n",
      "    8      0.397764   0.540741   0.8281                    \n",
      "    9      0.374453   0.633014   0.7941                    \n",
      "    10     0.359072   0.479243   0.8404                    \n",
      "    11     0.338738   0.494119   0.8393                    \n",
      "    12     0.303266   0.468642   0.8507                    \n",
      "    13     0.27293    0.386538   0.8746                    \n",
      "    14     0.238623   0.452832   0.8668                    \n",
      "    15     0.204306   0.312487   0.8977                    \n",
      "    16     0.153437   0.255485   0.9168                    \n",
      "    17     0.105431   0.222146   0.9296                    \n",
      "    18     0.069528   0.218538   0.9355                     \n",
      "    19     0.05706    0.220241   0.9354                     \n",
      "    20     0.054      0.221064   0.9354                     \n",
      "\n"
     ]
    },
    {
     "data": {
      "text/plain": [
       "[array([0.22106]), 0.9354000012397766]"
      ]
     },
     "execution_count": 16,
     "metadata": {},
     "output_type": "execute_result"
    }
   ],
   "source": [
    "# .1 activation scale\n",
    "m = wrn_22_cat()\n",
    "learn = ConvLearner.from_model_data(m, data)\n",
    "learn.half()\n",
    "learn.crit = nn.CrossEntropyLoss()\n",
    "learn.metrics = [accuracy]\n",
    "wd=1e-4\n",
    "lr=.6\n",
    "learn.clip = 4e-1\n",
    "def_phase = {'opt_fn':optim.SGD, 'wds':wd}\n",
    "# TODO: add momentum\n",
    "lr=0.6\n",
    "phases = [\n",
    "    TrainingPhase(**def_phase, epochs=1, lr=(.005,.05), lr_decay=DecayType.EXPONENTIAL, momentum=0.95),\n",
    "    TrainingPhase(**def_phase, epochs=6, lr=(.05,1.1), lr_decay=DecayType.COSINE, momentum=(0.95,0.85), momentum_decay=DecayType.COSINE),\n",
    "    TrainingPhase(**def_phase, epochs=4, lr=1.1, momentum=0.85),\n",
    "    TrainingPhase(**def_phase, epochs=8, lr=(1.1,.005), lr_decay=DecayType.COSINE, momentum=(0.85,0.95), momentum_decay=DecayType.COSINE),\n",
    "    TrainingPhase(**def_phase, epochs=2, lr=(.005,.0001), lr_decay=DecayType.LINEAR, momentum=(0.95))]\n",
    "\n",
    "learn.fit_opt_sched(phases, data_list=[data], loss_scale=512)"
   ]
  },
  {
   "cell_type": "code",
   "execution_count": 19,
   "metadata": {},
   "outputs": [
    {
     "data": {
      "application/vnd.jupyter.widget-view+json": {
       "model_id": "5b9e96224d0647abb644867c13bfdec7",
       "version_major": 2,
       "version_minor": 0
      },
      "text/plain": [
       "HBox(children=(IntProgress(value=0, description='Epoch', max=22), HTML(value='')))"
      ]
     },
     "metadata": {},
     "output_type": "display_data"
    },
    {
     "name": "stdout",
     "output_type": "stream",
     "text": [
      " 15%|█▌        | 15/98 [00:02<00:14,  5.79it/s, loss=2.16]\n",
      " 17%|█▋        | 17/98 [00:02<00:13,  5.95it/s, loss=2.12]"
     ]
    },
    {
     "name": "stderr",
     "output_type": "stream",
     "text": [
      "Exception in thread Thread-324:\n",
      "Traceback (most recent call last):\n",
      "  File \"/home/paperspace/anaconda3/envs/fastai/lib/python3.6/threading.py\", line 916, in _bootstrap_inner\n",
      "    self.run()\n",
      "  File \"/home/paperspace/anaconda3/envs/fastai/lib/python3.6/site-packages/tqdm/_monitor.py\", line 62, in run\n",
      "    for instance in self.tqdm_cls._instances:\n",
      "  File \"/home/paperspace/anaconda3/envs/fastai/lib/python3.6/_weakrefset.py\", line 60, in __iter__\n",
      "    for itemref in self.data:\n",
      "RuntimeError: Set changed size during iteration\n",
      "\n"
     ]
    },
    {
     "name": "stdout",
     "output_type": "stream",
     "text": [
      "epoch      trn_loss   val_loss   accuracy                 \n",
      "    0      1.541104   1.837962   0.445     \n",
      "    1      1.17998    1.279517   0.598                    \n",
      "    2      0.917544   1.301177   0.6069                    \n",
      "    3      0.738803   0.999455   0.6783                    \n",
      "    4      0.645763   0.836284   0.7311                    \n",
      "    5      0.583209   0.699085   0.7677                    \n",
      "    6      0.508644   1.113309   0.6438                    \n",
      "    7      0.462904   0.554062   0.8141                    \n",
      "    8      0.414427   0.564348   0.8051                    \n",
      "    9      0.394017   0.636807   0.7999                    \n",
      "    10     0.370853   0.652487   0.7936                    \n",
      "    11     0.349361   0.565336   0.814                     \n",
      "    12     0.330728   0.486724   0.8316                    \n",
      "    13     0.307535   0.458229   0.8504                    \n",
      "    14     0.273573   0.571538   0.8341                    \n",
      "    15     0.239782   0.389116   0.8742                    \n",
      "    16     0.200678   0.301382   0.9018                    \n",
      "    17     0.140103   0.239785   0.9228                    \n",
      "    18     0.09417    0.226173   0.9274                     \n",
      "    19     0.065737   0.219462   0.9331                     \n",
      "    20     0.055418   0.217772   0.9331                     \n",
      "    21     0.053511   0.217495   0.9341                     \n",
      "\n"
     ]
    },
    {
     "data": {
      "text/plain": [
       "[array([0.21749]), 0.9340999990463257]"
      ]
     },
     "execution_count": 19,
     "metadata": {},
     "output_type": "execute_result"
    }
   ],
   "source": [
    "# .1 activation scale\n",
    "m = wrn_22_cat()\n",
    "learn = ConvLearner.from_model_data(m, data)\n",
    "learn.half()\n",
    "learn.crit = nn.CrossEntropyLoss()\n",
    "learn.metrics = [accuracy]\n",
    "wd=1e-4\n",
    "lr=.6\n",
    "learn.clip = 3e-1\n",
    "def_phase = {'opt_fn':optim.SGD, 'wds':wd}\n",
    "# TODO: add momentum\n",
    "lr=0.6\n",
    "phases = [\n",
    "    TrainingPhase(**def_phase, epochs=1, lr=(.009,.05), lr_decay=DecayType.EXPONENTIAL, momentum=0.95),\n",
    "    TrainingPhase(**def_phase, epochs=6, lr=(.05,1.3), lr_decay=DecayType.COSINE, momentum=(0.95,0.85), momentum_decay=DecayType.COSINE),\n",
    "    TrainingPhase(**def_phase, epochs=4, lr=1.3, momentum=0.85),\n",
    "    TrainingPhase(**def_phase, epochs=9, lr=(1.3,.005), lr_decay=DecayType.COSINE, momentum=(0.85,0.95), momentum_decay=DecayType.COSINE),\n",
    "    TrainingPhase(**def_phase, epochs=2, lr=(.005,.0001), lr_decay=DecayType.LINEAR, momentum=(0.95))]\n",
    "\n",
    "learn.fit_opt_sched(phases, data_list=[data], loss_scale=512)"
   ]
  },
  {
   "cell_type": "code",
   "execution_count": 21,
   "metadata": {},
   "outputs": [
    {
     "data": {
      "image/png": "[encoded data removed]",
      "text/plain": [
       "<Figure size 864x288 with 2 Axes>"
      ]
     },
     "metadata": {},
     "output_type": "display_data"
    }
   ],
   "source": [
    "learn.sched.plot_lr()"
   ]
  },
  {
   "cell_type": "code",
   "execution_count": null,
   "metadata": {},
   "outputs": [],
   "source": []
  }
 ],
 "metadata": {
  "kernelspec": {
   "display_name": "Python 3",
   "language": "python",
   "name": "python3"
  },
  "language_info": {
   "codemirror_mode": {
    "name": "ipython",
    "version": 3
   },
   "file_extension": ".py",
   "mimetype": "text/x-python",
   "name": "python",
   "nbconvert_exporter": "python",
   "pygments_lexer": "ipython3",
   "version": "3.6.5"
  },
  "toc": {
   "colors": {
    "hover_highlight": "#DAA520",
    "navigate_num": "#000000",
    "navigate_text": "#333333",
    "running_highlight": "#FF0000",
    "selected_highlight": "#FFD700",
    "sidebar_border": "#EEEEEE",
    "wrapper_background": "#FFFFFF"
   },
   "moveMenuLeft": true,
   "nav_menu": {
    "height": "266px",
    "width": "252px"
   },
   "navigate_menu": true,
   "number_sections": true,
   "sideBar": true,
   "threshold": 4,
   "toc_cell": false,
   "toc_section_display": "block",
   "toc_window_display": false,
   "widenNotebook": false
  }
 },
 "nbformat": 4,
 "nbformat_minor": 2
}
