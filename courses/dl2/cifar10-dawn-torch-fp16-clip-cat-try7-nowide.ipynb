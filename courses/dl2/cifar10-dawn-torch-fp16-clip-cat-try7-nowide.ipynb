{
 "cells": [
  {
   "cell_type": "markdown",
   "metadata": {},
   "source": [
    "## CIFAR 10"
   ]
  },
  {
   "cell_type": "code",
   "execution_count": 5,
   "metadata": {},
   "outputs": [],
   "source": [
    "%matplotlib inline\n",
    "%reload_ext autoreload\n",
    "%autoreload 2"
   ]
  },
  {
   "cell_type": "code",
   "execution_count": 6,
   "metadata": {},
   "outputs": [],
   "source": [
    "from fastai.conv_learner import *\n",
    "from fastai.models.cifar10.wideresnet import wrn_22_cat, wrn_22, WideResNetConcat\n",
    "torch.backends.cudnn.benchmark = True\n",
    "PATH = Path(\"data/cifar10/\")\n",
    "os.makedirs(PATH,exist_ok=True)"
   ]
  },
  {
   "cell_type": "code",
   "execution_count": 7,
   "metadata": {},
   "outputs": [],
   "source": [
    "classes = ('plane', 'car', 'bird', 'cat', 'deer', 'dog', 'frog', 'horse', 'ship', 'truck')\n",
    "stats = (np.array([ 0.4914 ,  0.48216,  0.44653]), np.array([ 0.24703,  0.24349,  0.26159]))\n",
    "\n",
    "bs=512\n",
    "sz=32\n",
    "workers=7"
   ]
  },
  {
   "cell_type": "code",
   "execution_count": 8,
   "metadata": {},
   "outputs": [],
   "source": [
    "import torchvision.transforms as transforms\n",
    "import torchvision.datasets as datasets\n",
    "\n",
    "def pad(img, p=4, padding_mode='reflect'):\n",
    "    return Image.fromarray(np.pad(np.asarray(img), ((p, p), (p, p), (0, 0)), padding_mode))\n",
    "\n",
    "def torch_loader(data_path, size):\n",
    "    if not os.path.exists(data_path+'/train'): download_cifar10(data_path)\n",
    "\n",
    "    # Data loading code\n",
    "    traindir = os.path.join(data_path, 'train')\n",
    "    valdir = os.path.join(data_path, 'test')\n",
    "    normalize = transforms.Normalize(mean=[0.4914 , 0.48216, 0.44653], std=[0.24703, 0.24349, 0.26159])\n",
    "    tfms = [transforms.ToTensor(), normalize]\n",
    "\n",
    "    train_tfms = transforms.Compose([\n",
    "        pad, # TODO: use `padding` rather than assuming 4\n",
    "        transforms.RandomCrop(size),\n",
    "        transforms.RandomHorizontalFlip(),\n",
    "    ] + tfms)\n",
    "    val_tfms = transforms.Compose(tfms)\n",
    "\n",
    "    train_dataset = datasets.ImageFolder(traindir, train_tfms)\n",
    "    val_dataset = datasets.ImageFolder(valdir, val_tfms)\n",
    "\n",
    "    train_loader = torch.utils.data.DataLoader(\n",
    "        train_dataset, batch_size=bs, shuffle=True,\n",
    "        num_workers=workers, pin_memory=True)\n",
    "\n",
    "    val_loader = torch.utils.data.DataLoader(\n",
    "        val_dataset, batch_size=bs*2, shuffle=False,\n",
    "        num_workers=workers, pin_memory=True)\n",
    "\n",
    "    train_loader = DataPrefetcher(train_loader)\n",
    "    val_loader = DataPrefetcher(val_loader)\n",
    "    \n",
    "    data = ModelData(data_path, train_loader, val_loader)\n",
    "    return data\n",
    "\n",
    "# Seems to speed up training by ~2%\n",
    "class DataPrefetcher():\n",
    "    def __init__(self, loader, stop_after=None):\n",
    "        self.loader = loader\n",
    "        self.dataset = loader.dataset\n",
    "        self.stream = torch.cuda.Stream()\n",
    "        self.stop_after = stop_after\n",
    "        self.next_input = None\n",
    "        self.next_target = None\n",
    "\n",
    "    def __len__(self):\n",
    "        return len(self.loader)\n",
    "\n",
    "    def preload(self):\n",
    "        try:\n",
    "            self.next_input, self.next_target = next(self.loaditer)\n",
    "        except StopIteration:\n",
    "            self.next_input = None\n",
    "            self.next_target = None\n",
    "            return\n",
    "        with torch.cuda.stream(self.stream):\n",
    "            self.next_input = self.next_input.cuda(async=True)\n",
    "            self.next_target = self.next_target.cuda(async=True)\n",
    "\n",
    "    def __iter__(self):\n",
    "        count = 0\n",
    "        self.loaditer = iter(self.loader)\n",
    "        self.preload()\n",
    "        while self.next_input is not None:\n",
    "            torch.cuda.current_stream().wait_stream(self.stream)\n",
    "            input = self.next_input\n",
    "            target = self.next_target\n",
    "            self.preload()\n",
    "            count += 1\n",
    "            yield input, target\n",
    "            if type(self.stop_after) is int and (count > self.stop_after):\n",
    "                break"
   ]
  },
  {
   "cell_type": "code",
   "execution_count": 9,
   "metadata": {},
   "outputs": [],
   "source": [
    "data = torch_loader(str(PATH), sz)"
   ]
  },
  {
   "cell_type": "code",
   "execution_count": 10,
   "metadata": {},
   "outputs": [],
   "source": [
    "m = WideResNetConcat(num_groups=3, N=3, num_classes=10, k=1, drop_p=0.)"
   ]
  },
  {
   "cell_type": "code",
   "execution_count": 8,
   "metadata": {},
   "outputs": [
    {
     "data": {
      "application/vnd.jupyter.widget-view+json": {
       "model_id": "51d5cb39dd2144b0b3fb6d03613fd683",
       "version_major": 2,
       "version_minor": 0
      },
      "text/plain": [
       "HBox(children=(IntProgress(value=0, description='Epoch', max=21), HTML(value='')))"
      ]
     },
     "metadata": {},
     "output_type": "display_data"
    },
    {
     "name": "stdout",
     "output_type": "stream",
     "text": [
      "epoch      trn_loss   val_loss   accuracy                 \n",
      "    0      1.761852   1.757055   0.3898    \n",
      "    1      1.360327   1.520744   0.4945                   \n",
      "    2      1.109995   1.216925   0.589                    \n",
      "    3      0.969287   2.198741   0.4391                    \n",
      "    4      0.867365   1.614184   0.5497                    \n",
      "    5      0.791448   0.946364   0.6967                    \n",
      "    6      0.714904   0.878727   0.7158                    \n",
      "    7      0.692883   1.424522   0.6037                    \n",
      "    8      0.648858   0.79865    0.7406                    \n",
      "    9      0.60791    0.761378   0.756                     \n",
      "    10     0.576517   0.767685   0.7483                    \n",
      "    11     0.529468   0.769277   0.7641                    \n",
      "    12     0.510787   0.837388   0.735                     \n",
      "    13     0.479256   0.717998   0.7791                    \n",
      "    14     0.449621   0.486753   0.8384                    \n",
      "    15     0.390974   0.443203   0.8498                    \n",
      "    16     0.330609   0.361703   0.8767                    \n",
      "    17     0.283635   0.340966   0.8847                    \n",
      "    18     0.26332    0.33698    0.8869                    \n",
      "    19     0.258425   0.333571   0.8876                    \n",
      "    20     0.256302   0.333981   0.888                     \n",
      "\n"
     ]
    },
    {
     "data": {
      "text/plain": [
       "[array([0.33398]), 0.8880000001907349]"
      ]
     },
     "execution_count": 8,
     "metadata": {},
     "output_type": "execute_result"
    }
   ],
   "source": [
    "# m = wrn_22_cat()\n",
    "learn = ConvLearner.from_model_data(m, data)\n",
    "learn.half()\n",
    "learn.crit = nn.CrossEntropyLoss()\n",
    "learn.metrics = [accuracy]\n",
    "wd=1e-4\n",
    "lr=.6\n",
    "learn.clip = 3e-1\n",
    "def_phase = {'opt_fn':optim.SGD, 'wds':wd}\n",
    "# TODO: add momentum\n",
    "lr=0.6\n",
    "phases = [\n",
    "    TrainingPhase(**def_phase, epochs=1, lr=(.005,.05), lr_decay=DecayType.EXPONENTIAL, momentum=0.95),\n",
    "    TrainingPhase(**def_phase, epochs=6, lr=(.05,.9), lr_decay=DecayType.COSINE, momentum=(0.95,0.85), momentum_decay=DecayType.COSINE),\n",
    "    TrainingPhase(**def_phase, epochs=4, lr=1, momentum=0.85),\n",
    "    TrainingPhase(**def_phase, epochs=7, lr=(.9,.01), lr_decay=DecayType.COSINE, momentum=(0.85,0.95), momentum_decay=DecayType.COSINE),\n",
    "    TrainingPhase(**def_phase, epochs=3, lr=(.01,.0005), lr_decay=DecayType.LINEAR, momentum=(0.95))]\n",
    "\n",
    "learn.fit_opt_sched(phases, data_list=[data], loss_scale=512)"
   ]
  },
  {
   "cell_type": "code",
   "execution_count": 9,
   "metadata": {},
   "outputs": [
    {
     "data": {
      "image/png": "[encoded data removed]",
      "text/plain": [
       "<Figure size 864x288 with 2 Axes>"
      ]
     },
     "metadata": {},
     "output_type": "display_data"
    }
   ],
   "source": [
    "learn.sched.plot_lr()"
   ]
  },
  {
   "cell_type": "code",
   "execution_count": 32,
   "metadata": {},
   "outputs": [
    {
     "data": {
      "application/vnd.jupyter.widget-view+json": {
       "model_id": "eeac6f0633a8402494e528363b5a0a05",
       "version_major": 2,
       "version_minor": 0
      },
      "text/plain": [
       "HBox(children=(IntProgress(value=0, description='Epoch', max=23), HTML(value='')))"
      ]
     },
     "metadata": {},
     "output_type": "display_data"
    },
    {
     "name": "stdout",
     "output_type": "stream",
     "text": [
      "epoch      trn_loss   val_loss   accuracy                 \n",
      "    0      1.806261   2.38502    0.2867    \n",
      " 24%|██▍       | 24/98 [00:01<00:04, 15.70it/s, loss=1.74]\n",
      " 31%|███       | 30/98 [00:01<00:03, 17.21it/s, loss=1.73]"
     ]
    },
    {
     "name": "stderr",
     "output_type": "stream",
     "text": [
      "Exception in thread Thread-116:\n",
      "Traceback (most recent call last):\n",
      "  File \"/home/paperspace/anaconda3/envs/fastai/lib/python3.6/threading.py\", line 916, in _bootstrap_inner\n",
      "    self.run()\n",
      "  File \"/home/paperspace/anaconda3/envs/fastai/lib/python3.6/site-packages/tqdm/_monitor.py\", line 62, in run\n",
      "    for instance in self.tqdm_cls._instances:\n",
      "  File \"/home/paperspace/anaconda3/envs/fastai/lib/python3.6/_weakrefset.py\", line 60, in __iter__\n",
      "    for itemref in self.data:\n",
      "RuntimeError: Set changed size during iteration\n",
      "\n"
     ]
    },
    {
     "name": "stdout",
     "output_type": "stream",
     "text": [
      "    1      1.587137   1.61741    0.4225                   \n",
      "    2      1.367738   1.419003   0.4882                   \n",
      "    3      1.19919    1.274403   0.5533                   \n",
      "    4      1.073841   3.326963   0.3834                   \n",
      "    5      0.9691     1.078952   0.6235                    \n",
      "    6      0.905623   1.121126   0.6357                    \n",
      "    7      0.841181   1.035561   0.6491                    \n",
      "    8      0.779922   0.934859   0.7001                    \n",
      "    9      0.737408   1.207841   0.6204                    \n",
      "    10     0.684814   2.405613   0.4731                    \n",
      "    11     0.6451     1.402425   0.6207                    \n",
      "    12     0.609669   0.751729   0.7505                    \n",
      "    13     0.573796   0.896227   0.7064                    \n",
      "    14     0.533118   0.589232   0.8004                    \n",
      "    15     0.505873   0.640289   0.79                      \n",
      "    16     0.461451   0.575303   0.8015                    \n",
      "    17     0.398086   0.415703   0.8597                    \n",
      "    18     0.354084   0.392326   0.8651                    \n",
      "    19     0.328537   0.396871   0.8683                    \n",
      "    20     0.303987   0.368589   0.8748                    \n",
      "    21     0.287277   0.364038   0.8809                    \n",
      "    22     0.268565   0.345163   0.8851                    \n",
      "\n",
      "CPU times: user 1min 12s, sys: 24.5 s, total: 1min 37s\n",
      "Wall time: 1min 56s\n"
     ]
    },
    {
     "data": {
      "text/plain": [
       "[array([0.34516]), 0.8851000004768371]"
      ]
     },
     "execution_count": 32,
     "metadata": {},
     "output_type": "execute_result"
    }
   ],
   "source": [
    "m = WideResNetConcat(num_groups=3, N=3, num_classes=10, k=1, drop_p=0.)\n",
    "learn = ConvLearner.from_model_data(m, data)\n",
    "learn.half()\n",
    "learn.crit = nn.CrossEntropyLoss()\n",
    "learn.metrics = [accuracy]\n",
    "wd=1e-4\n",
    "lr=1.5\n",
    "learn.clip = 3e-1\n",
    "%time learn.fit(lr, 1, wds=wd, cycle_len=23, use_clr_beta=(12,22,0.95,0.85), loss_scale=512)"
   ]
  },
  {
   "cell_type": "code",
   "execution_count": 34,
   "metadata": {},
   "outputs": [
    {
     "data": {
      "application/vnd.jupyter.widget-view+json": {
       "model_id": "69aa461087ed4641bd2e1440dabcfa5d",
       "version_major": 2,
       "version_minor": 0
      },
      "text/plain": [
       "HBox(children=(IntProgress(value=0, description='Epoch', max=23), HTML(value='')))"
      ]
     },
     "metadata": {},
     "output_type": "display_data"
    },
    {
     "name": "stdout",
     "output_type": "stream",
     "text": [
      "epoch      trn_loss   val_loss   accuracy                 \n",
      "    0      1.741394   1.759681   0.3866    \n",
      " 19%|█▉        | 19/98 [00:01<00:05, 13.92it/s, loss=1.67]\n",
      " 26%|██▌       | 25/98 [00:01<00:04, 15.79it/s, loss=1.65]"
     ]
    },
    {
     "name": "stderr",
     "output_type": "stream",
     "text": [
      "Exception in thread Thread-204:\n",
      "Traceback (most recent call last):\n",
      "  File \"/home/paperspace/anaconda3/envs/fastai/lib/python3.6/threading.py\", line 916, in _bootstrap_inner\n",
      "    self.run()\n",
      "  File \"/home/paperspace/anaconda3/envs/fastai/lib/python3.6/site-packages/tqdm/_monitor.py\", line 62, in run\n",
      "    for instance in self.tqdm_cls._instances:\n",
      "  File \"/home/paperspace/anaconda3/envs/fastai/lib/python3.6/_weakrefset.py\", line 60, in __iter__\n",
      "    for itemref in self.data:\n",
      "RuntimeError: Set changed size during iteration\n",
      "\n"
     ]
    },
    {
     "name": "stdout",
     "output_type": "stream",
     "text": [
      "    1      1.440413   1.37517    0.5214                   \n",
      "    2      1.227353   1.674273   0.4851                   \n",
      "    3      1.032488   1.294447   0.5843                   \n",
      "    4      0.919178   1.009297   0.6475                    \n",
      "    5      0.832561   1.063883   0.6714                    \n",
      "    6      0.767719   0.760484   0.7413                    \n",
      "    7      0.737036   1.145635   0.6604                    \n",
      "    8      0.692389   0.927057   0.7032                    \n",
      "    9      0.653754   0.743638   0.7582                    \n",
      "    10     0.618667   1.252042   0.6416                    \n",
      "    11     0.572368   0.747761   0.7565                    \n",
      "    12     0.556893   0.801642   0.7438                    \n",
      "    13     0.516589   0.747248   0.7647                    \n",
      "    14     0.493264   0.734781   0.7615                    \n",
      "    15     0.459561   0.634599   0.7933                    \n",
      "    16     0.424271   0.443734   0.8502                    \n",
      "    17     0.373193   0.415366   0.855                     \n",
      "    18     0.322687   0.391261   0.8707                    \n",
      "    19     0.296679   0.369524   0.8774                    \n",
      "    20     0.276479   0.363193   0.8804                    \n",
      "    21     0.261455   0.3501     0.8858                    \n",
      "    22     0.245441   0.341016   0.8894                    \n",
      "\n",
      "CPU times: user 1min 14s, sys: 25.9 s, total: 1min 40s\n",
      "Wall time: 1min 58s\n"
     ]
    },
    {
     "data": {
      "text/plain": [
       "[array([0.34102]), 0.8893999980926514]"
      ]
     },
     "execution_count": 34,
     "metadata": {},
     "output_type": "execute_result"
    }
   ],
   "source": [
    "m = WideResNetConcat(num_groups=3, N=3, num_classes=10, k=1, drop_p=0.)\n",
    "learn = ConvLearner.from_model_data(m, data)\n",
    "learn.half()\n",
    "learn.crit = nn.CrossEntropyLoss()\n",
    "learn.metrics = [accuracy]\n",
    "wd=1e-4\n",
    "lr=1.2\n",
    "learn.clip = 1e-1\n",
    "%time learn.fit(lr, 1, wds=wd, cycle_len=23, use_clr_beta=(12,22,0.95,0.85), loss_scale=512)"
   ]
  },
  {
   "cell_type": "code",
   "execution_count": 23,
   "metadata": {},
   "outputs": [
    {
     "data": {
      "application/vnd.jupyter.widget-view+json": {
       "model_id": "68a89a03fd2849bc891af009bda86c1f",
       "version_major": 2,
       "version_minor": 0
      },
      "text/plain": [
       "HBox(children=(IntProgress(value=0, description='Epoch', max=1), HTML(value='')))"
      ]
     },
     "metadata": {},
     "output_type": "display_data"
    },
    {
     "name": "stdout",
     "output_type": "stream",
     "text": [
      "epoch      trn_loss   val_loss   accuracy                 \n",
      "    0      1.819172   2.652628   0.2322    \n",
      "\n"
     ]
    },
    {
     "data": {
      "text/plain": [
       "[array([2.65263]), 0.2321999998986721]"
      ]
     },
     "execution_count": 23,
     "metadata": {},
     "output_type": "execute_result"
    }
   ],
   "source": [
    "m = WideResNetConcat(num_groups=3, N=3, num_classes=10, k=1, drop_p=0.)\n",
    "learn = ConvLearner.from_model_data(m, data)\n",
    "learn.half()\n",
    "learn.crit = nn.CrossEntropyLoss()\n",
    "learn.metrics = [accuracy]\n",
    "wd=1e-5\n",
    "lr=1.5\n",
    "learn.clip = 1e-1\n",
    "\n",
    "def_phase = {'opt_fn':optim.SGD, 'wds':wd}\n",
    "phases = [\n",
    "    TrainingPhase(**def_phase, epochs=1, lr=(.05,.3), lr_decay=DecayType.EXPONENTIAL, momentum=0.95)]\n",
    "\n",
    "learn.fit_opt_sched(phases, data_list=[data], loss_scale=512)"
   ]
  },
  {
   "cell_type": "code",
   "execution_count": 24,
   "metadata": {},
   "outputs": [
    {
     "data": {
      "application/vnd.jupyter.widget-view+json": {
       "model_id": "359e83fd1c384ac6a28fa5dd9deb6be9",
       "version_major": 2,
       "version_minor": 0
      },
      "text/plain": [
       "HBox(children=(IntProgress(value=0, description='Epoch', max=30), HTML(value='')))"
      ]
     },
     "metadata": {},
     "output_type": "display_data"
    },
    {
     "name": "stdout",
     "output_type": "stream",
     "text": [
      "epoch      trn_loss   val_loss   accuracy                 \n",
      "    0      1.620278   1.701273   0.3826    \n",
      "    1      1.510005   1.538612   0.446                    \n",
      "    2      1.361723   1.463483   0.4853                   \n",
      "    3      1.21785    1.636317   0.4442                   \n",
      "    4      1.07617    1.350984   0.5514                   \n",
      "    5      0.94623    0.931734   0.6719                    \n",
      "    6      0.880755   0.995998   0.6653                    \n",
      "    7      0.813099   1.032262   0.6692                    \n",
      "    8      0.753386   0.924827   0.6958                    \n",
      "    9      0.710357   1.074462   0.6791                    \n",
      "    10     0.680725   1.19892    0.6476                    \n",
      "    11     0.642882   1.026539   0.6961                    \n",
      "    12     0.586947   0.915834   0.6984                    \n",
      "    13     0.567908   0.60309    0.7954                    \n",
      "    14     0.537109   0.825827   0.7383                    \n",
      "    15     0.507322   0.626826   0.7942                    \n",
      "    16     0.481676   0.614016   0.8039                    \n",
      "    17     0.460467   0.477366   0.8378                    \n",
      "    18     0.435336   0.545427   0.8235                    \n",
      "    19     0.412858   0.600356   0.8099                    \n",
      "    20     0.387788   0.472324   0.8445                    \n",
      "    21     0.362375   0.476999   0.8425                    \n",
      "    22     0.325159   0.419793   0.8648                    \n",
      "    23     0.29983    0.404576   0.869                     \n",
      "    24     0.288373   0.387536   0.8737                    \n",
      "    25     0.267929   0.399574   0.8697                    \n",
      "    26     0.254372   0.370495   0.8781                    \n",
      "    27     0.2389     0.37756    0.8807                    \n",
      "    28     0.235518   0.366398   0.8851                    \n",
      "    29     0.228931   0.36352    0.8841                    \n",
      "\n",
      "CPU times: user 1min 35s, sys: 33.8 s, total: 2min 9s\n",
      "Wall time: 2min 42s\n"
     ]
    },
    {
     "data": {
      "text/plain": [
       "[array([0.36352]), 0.8841000004768371]"
      ]
     },
     "execution_count": 24,
     "metadata": {},
     "output_type": "execute_result"
    }
   ],
   "source": [
    "%time learn.fit(lr, 1, wds=wd, cycle_len=30, use_clr_beta=(12,20,0.95,0.85), loss_scale=512)"
   ]
  },
  {
   "cell_type": "code",
   "execution_count": 25,
   "metadata": {},
   "outputs": [
    {
     "data": {
      "application/vnd.jupyter.widget-view+json": {
       "model_id": "5e914547b3c34b6c9d7cf8db7dda0f50",
       "version_major": 2,
       "version_minor": 0
      },
      "text/plain": [
       "HBox(children=(IntProgress(value=0, description='Epoch', max=1), HTML(value='')))"
      ]
     },
     "metadata": {},
     "output_type": "display_data"
    },
    {
     "name": "stdout",
     "output_type": "stream",
     "text": [
      "epoch      trn_loss   val_loss   accuracy                 \n",
      "    0      1.845233   2.802534   0.2735    \n",
      "\n"
     ]
    },
    {
     "data": {
      "application/vnd.jupyter.widget-view+json": {
       "model_id": "b0ab0be938cf4523abbe9caa6289b43e",
       "version_major": 2,
       "version_minor": 0
      },
      "text/plain": [
       "HBox(children=(IntProgress(value=0, description='Epoch', max=30), HTML(value='')))"
      ]
     },
     "metadata": {},
     "output_type": "display_data"
    },
    {
     "name": "stdout",
     "output_type": "stream",
     "text": [
      "epoch      trn_loss   val_loss   accuracy                 \n",
      "    0      1.633904   2.710247   0.2791    \n",
      "    1      1.486299   3.49182    0.3028                   \n",
      "    2      1.328809   1.587332   0.4842                   \n",
      "    3      1.210989   5.672656   0.194                    \n",
      "    4      1.121563   1.559684   0.5344                   \n",
      "    5      1.018739   1.152225   0.6128                   \n",
      "    6      0.939021   1.682416   0.5204                    \n",
      "    7      0.871501   1.179796   0.6096                    \n",
      "    8      0.839508   1.168657   0.6233                    \n",
      "    9      0.787797   0.988534   0.6923                    \n",
      "    10     0.723172   1.014931   0.6868                    \n",
      "    11     0.693786   1.480969   0.5974                    \n",
      "    12     0.665684   1.6327     0.6105                    \n",
      "    13     0.609589   0.69722    0.7687                    \n",
      "    14     0.575822   0.718229   0.7739                    \n",
      "    15     0.545219   0.758094   0.756                     \n",
      "    16     0.514568   0.752759   0.753                     \n",
      "    17     0.493223   0.599562   0.8022                    \n",
      "                                                           \r"
     ]
    },
    {
     "name": "stderr",
     "output_type": "stream",
     "text": [
      "Process Process-877:\n",
      "Process Process-882:\n",
      "ERROR:root:Internal Python error in the inspect module.\n",
      "Below is the traceback from this internal error.\n",
      "\n",
      "Process Process-876:\n",
      "Process Process-878:\n",
      "Process Process-881:\n",
      "Traceback (most recent call last):\n",
      "Process Process-880:\n",
      "Process Process-879:\n",
      "  File \"/home/paperspace/anaconda3/envs/fastai/lib/python3.6/multiprocessing/process.py\", line 258, in _bootstrap\n",
      "    self.run()\n",
      "  File \"/home/paperspace/anaconda3/envs/fastai/lib/python3.6/multiprocessing/process.py\", line 93, in run\n",
      "    self._target(*self._args, **self._kwargs)\n",
      "Traceback (most recent call last):\n",
      "Traceback (most recent call last):\n"
     ]
    },
    {
     "name": "stdout",
     "output_type": "stream",
     "text": [
      "Traceback (most recent call last):\n",
      "  File \"/home/paperspace/anaconda3/envs/fastai/lib/python3.6/site-packages/IPython/core/magics/execution.py\", line 1230, in time\n",
      "    out = eval(code, glob, local_ns)\n",
      "  File \"<timed eval>\", line 1, in <module>\n",
      "  File \"/home/paperspace/fastai/courses/dl2/fastai/learner.py\", line 287, in fit\n",
      "    return self.fit_gen(self.model, self.data, layer_opt, n_cycle, **kwargs)\n",
      "  File \"/home/paperspace/fastai/courses/dl2/fastai/learner.py\", line 234, in fit_gen\n",
      "    swa_eval_freq=swa_eval_freq, **kwargs)\n",
      "  File \"/home/paperspace/fastai/courses/dl2/fastai/model.py\", line 150, in fit\n",
      "    vals = validate(model_stepper, cur_data.val_dl, metrics)\n",
      "  File \"/home/paperspace/fastai/courses/dl2/fastai/model.py\", line 207, in validate\n",
      "    preds, l = stepper.evaluate(VV(x), VV(y))\n",
      "  File \"/home/paperspace/fastai/courses/dl2/fastai/model.py\", line 68, in evaluate\n",
      "    preds = self.m(*xs)\n",
      "  File \"/home/paperspace/anaconda3/envs/fastai/lib/python3.6/site-packages/torch/nn/modules/module.py\", line 357, in __call__\n",
      "    result = self.forward(*input, **kwargs)\n",
      "  File \"/home/paperspace/fastai/courses/dl2/fastai/fp16.py\", line 11, in forward\n",
      "    return self.module(input.half())\n",
      "  File \"/home/paperspace/anaconda3/envs/fastai/lib/python3.6/site-packages/torch/autograd/variable.py\", line 310, in half\n",
      "    return self.type(self._get_type('HalfTensor'))\n",
      "  File \"/home/paperspace/anaconda3/envs/fastai/lib/python3.6/site-packages/torch/autograd/variable.py\", line 285, in type\n",
      "    return Type.apply(self, t)\n",
      "  File \"/home/paperspace/anaconda3/envs/fastai/lib/python3.6/site-packages/torch/autograd/_functions/tensor.py\", line 181, in forward\n",
      "    return i.type(dest_type)\n",
      "  File \"/home/paperspace/anaconda3/envs/fastai/lib/python3.6/site-packages/torch/cuda/__init__.py\", line 396, in type\n",
      "    return super(_CudaBase, self).type(*args, **kwargs)\n",
      "  File \"/home/paperspace/anaconda3/envs/fastai/lib/python3.6/site-packages/torch/_utils.py\", line 38, in _type\n",
      "    return new_type(self.size()).copy_(self, async)\n",
      "KeyboardInterrupt\n",
      "\n",
      "During handling of the above exception, another exception occurred:\n",
      "\n",
      "Traceback (most recent call last):\n",
      "  File \"/home/paperspace/anaconda3/envs/fastai/lib/python3.6/site-packages/IPython/core/interactiveshell.py\", line 1863, in showtraceback\n",
      "    stb = value._render_traceback_()\n",
      "AttributeError: 'KeyboardInterrupt' object has no attribute '_render_traceback_'\n",
      "\n",
      "During handling of the above exception, another exception occurred:\n",
      "\n",
      "Traceback (most recent call last):\n",
      "  File \"/home/paperspace/anaconda3/envs/fastai/lib/python3.6/site-packages/IPython/core/ultratb.py\", line 1095, in get_records\n",
      "    return _fixed_getinnerframes(etb, number_of_lines_of_context, tb_offset)\n",
      "  File \"/home/paperspace/anaconda3/envs/fastai/lib/python3.6/site-packages/IPython/core/ultratb.py\", line 311, in wrapped\n",
      "    return f(*args, **kwargs)\n",
      "  File \"/home/paperspace/anaconda3/envs/fastai/lib/python3.6/site-packages/IPython/core/ultratb.py\", line 345, in _fixed_getinnerframes\n",
      "    records = fix_frame_records_filenames(inspect.getinnerframes(etb, context))\n",
      "  File \"/home/paperspace/anaconda3/envs/fastai/lib/python3.6/inspect.py\", line 1483, in getinnerframes\n",
      "    frameinfo = (tb.tb_frame,) + getframeinfo(tb, context)\n",
      "  File \"/home/paperspace/anaconda3/envs/fastai/lib/python3.6/inspect.py\", line 1441, in getframeinfo\n",
      "    filename = getsourcefile(frame) or getfile(frame)\n",
      "  File \"/home/paperspace/anaconda3/envs/fastai/lib/python3.6/inspect.py\", line 696, in getsourcefile\n",
      "    if getattr(getmodule(object, filename), '__loader__', None) is not None:\n",
      "  File \"/home/paperspace/anaconda3/envs/fastai/lib/python3.6/inspect.py\", line 732, in getmodule\n",
      "    for modname, module in list(sys.modules.items()):\n",
      "  File \"/home/paperspace/anaconda3/envs/fastai/lib/python3.6/site-packages/torch/utils/data/dataloader.py\", line 175, in handler\n",
      "    _error_if_any_worker_fails()\n",
      "RuntimeError: DataLoader worker (pid 11043) exited unexpectedly with exit code 1.\n"
     ]
    },
    {
     "name": "stderr",
     "output_type": "stream",
     "text": [
      "  File \"/home/paperspace/anaconda3/envs/fastai/lib/python3.6/site-packages/torch/utils/data/dataloader.py\", line 55, in _worker_loop\n",
      "    samples = collate_fn([dataset[i] for i in batch_indices])\n",
      "Exception in thread Thread-208:\n",
      "Traceback (most recent call last):\n",
      "  File \"/home/paperspace/anaconda3/envs/fastai/lib/python3.6/threading.py\", line 916, in _bootstrap_inner\n",
      "    self.run()\n",
      "  File \"/home/paperspace/anaconda3/envs/fastai/lib/python3.6/threading.py\", line 864, in run\n",
      "    self._target(*self._args, **self._kwargs)\n",
      "  File \"/home/paperspace/anaconda3/envs/fastai/lib/python3.6/site-packages/torch/utils/data/dataloader.py\", line 68, in _worker_manager_loop\n",
      "    r = in_queue.get()\n",
      "  File \"/home/paperspace/anaconda3/envs/fastai/lib/python3.6/multiprocessing/queues.py\", line 337, in get\n",
      "    return _ForkingPickler.loads(res)\n",
      "  File \"/home/paperspace/anaconda3/envs/fastai/lib/python3.6/site-packages/torch/multiprocessing/reductions.py\", line 70, in rebuild_storage_fd\n",
      "    fd = df.detach()\n",
      "  File \"/home/paperspace/anaconda3/envs/fastai/lib/python3.6/multiprocessing/resource_sharer.py\", line 57, in detach\n",
      "    with _resource_sharer.get_connection(self._id) as conn:\n",
      "  File \"/home/paperspace/anaconda3/envs/fastai/lib/python3.6/multiprocessing/resource_sharer.py\", line 87, in get_connection\n",
      "    c = Client(address, authkey=process.current_process().authkey)\n",
      "  File \"/home/paperspace/anaconda3/envs/fastai/lib/python3.6/multiprocessing/connection.py\", line 487, in Client\n",
      "    c = SocketClient(address)\n",
      "  File \"/home/paperspace/anaconda3/envs/fastai/lib/python3.6/multiprocessing/connection.py\", line 614, in SocketClient\n",
      "    s.connect(address)\n",
      "FileNotFoundError: [Errno 2] No such file or directory\n",
      "\n"
     ]
    },
    {
     "ename": "KeyboardInterrupt",
     "evalue": "",
     "output_type": "error",
     "traceback": [
      "\u001b[0;31m---------------------------------------------------------------------------\u001b[0m"
     ]
    },
    {
     "name": "stderr",
     "output_type": "stream",
     "text": [
      "Traceback (most recent call last):\n",
      "Traceback (most recent call last):\n",
      "  File \"/home/paperspace/anaconda3/envs/fastai/lib/python3.6/multiprocessing/process.py\", line 258, in _bootstrap\n",
      "    self.run()\n",
      "  File \"/home/paperspace/anaconda3/envs/fastai/lib/python3.6/multiprocessing/process.py\", line 258, in _bootstrap\n",
      "    self.run()\n",
      "Traceback (most recent call last):\n",
      "  File \"/home/paperspace/anaconda3/envs/fastai/lib/python3.6/multiprocessing/process.py\", line 93, in run\n",
      "    self._target(*self._args, **self._kwargs)\n",
      "  File \"/home/paperspace/anaconda3/envs/fastai/lib/python3.6/multiprocessing/process.py\", line 93, in run\n",
      "    self._target(*self._args, **self._kwargs)\n",
      "  File \"/home/paperspace/anaconda3/envs/fastai/lib/python3.6/site-packages/torch/utils/data/dataloader.py\", line 55, in <listcomp>\n",
      "    samples = collate_fn([dataset[i] for i in batch_indices])\n",
      "Traceback (most recent call last):\n",
      "  File \"/home/paperspace/anaconda3/envs/fastai/lib/python3.6/site-packages/torch/utils/data/dataloader.py\", line 55, in _worker_loop\n",
      "    samples = collate_fn([dataset[i] for i in batch_indices])\n",
      "  File \"/home/paperspace/anaconda3/envs/fastai/lib/python3.6/multiprocessing/process.py\", line 258, in _bootstrap\n",
      "    self.run()\n",
      "  File \"/home/paperspace/anaconda3/envs/fastai/lib/python3.6/multiprocessing/process.py\", line 258, in _bootstrap\n",
      "    self.run()\n",
      "  File \"/home/paperspace/anaconda3/envs/fastai/lib/python3.6/site-packages/torchvision/datasets/folder.py\", line 122, in __getitem__\n",
      "    img = self.loader(path)\n",
      "  File \"/home/paperspace/anaconda3/envs/fastai/lib/python3.6/site-packages/torch/utils/data/dataloader.py\", line 55, in _worker_loop\n",
      "    samples = collate_fn([dataset[i] for i in batch_indices])\n",
      "  File \"/home/paperspace/anaconda3/envs/fastai/lib/python3.6/multiprocessing/process.py\", line 93, in run\n",
      "    self._target(*self._args, **self._kwargs)\n",
      "  File \"/home/paperspace/anaconda3/envs/fastai/lib/python3.6/site-packages/torch/utils/data/dataloader.py\", line 55, in <listcomp>\n",
      "    samples = collate_fn([dataset[i] for i in batch_indices])\n",
      "  File \"/home/paperspace/anaconda3/envs/fastai/lib/python3.6/multiprocessing/process.py\", line 258, in _bootstrap\n",
      "    self.run()\n",
      "  File \"/home/paperspace/anaconda3/envs/fastai/lib/python3.6/multiprocessing/process.py\", line 93, in run\n",
      "    self._target(*self._args, **self._kwargs)\n",
      "  File \"/home/paperspace/anaconda3/envs/fastai/lib/python3.6/site-packages/torchvision/datasets/folder.py\", line 69, in default_loader\n",
      "    return pil_loader(path)\n",
      "  File \"/home/paperspace/anaconda3/envs/fastai/lib/python3.6/multiprocessing/process.py\", line 93, in run\n",
      "    self._target(*self._args, **self._kwargs)\n",
      "  File \"/home/paperspace/anaconda3/envs/fastai/lib/python3.6/site-packages/torch/utils/data/dataloader.py\", line 55, in _worker_loop\n",
      "    samples = collate_fn([dataset[i] for i in batch_indices])\n",
      "  File \"/home/paperspace/anaconda3/envs/fastai/lib/python3.6/site-packages/torch/utils/data/dataloader.py\", line 55, in <listcomp>\n",
      "    samples = collate_fn([dataset[i] for i in batch_indices])\n",
      "  File \"/home/paperspace/anaconda3/envs/fastai/lib/python3.6/site-packages/torchvision/datasets/folder.py\", line 122, in __getitem__\n",
      "    img = self.loader(path)\n",
      "  File \"/home/paperspace/anaconda3/envs/fastai/lib/python3.6/site-packages/torch/utils/data/dataloader.py\", line 50, in _worker_loop\n",
      "    r = index_queue.get()\n",
      "  File \"/home/paperspace/anaconda3/envs/fastai/lib/python3.6/site-packages/torchvision/datasets/folder.py\", line 51, in pil_loader\n",
      "    with Image.open(f) as img:\n",
      "  File \"/home/paperspace/anaconda3/envs/fastai/lib/python3.6/site-packages/torch/utils/data/dataloader.py\", line 55, in _worker_loop\n",
      "    samples = collate_fn([dataset[i] for i in batch_indices])\n",
      "  File \"/home/paperspace/anaconda3/envs/fastai/lib/python3.6/multiprocessing/process.py\", line 258, in _bootstrap\n",
      "    self.run()\n",
      "  File \"/home/paperspace/anaconda3/envs/fastai/lib/python3.6/site-packages/torchvision/datasets/folder.py\", line 122, in __getitem__\n",
      "    img = self.loader(path)\n",
      "  File \"/home/paperspace/anaconda3/envs/fastai/lib/python3.6/multiprocessing/queues.py\", line 335, in get\n",
      "    res = self._reader.recv_bytes()\n",
      "  File \"/home/paperspace/anaconda3/envs/fastai/lib/python3.6/site-packages/torchvision/datasets/folder.py\", line 65, in default_loader\n",
      "    from torchvision import get_image_backend\n",
      "  File \"/home/paperspace/anaconda3/envs/fastai/lib/python3.6/site-packages/torch/utils/data/dataloader.py\", line 55, in <listcomp>\n",
      "    samples = collate_fn([dataset[i] for i in batch_indices])\n",
      "  File \"/home/paperspace/anaconda3/envs/fastai/lib/python3.6/site-packages/PIL/Image.py\", line 2559, in open\n",
      "    im = _open_core(fp, filename, prefix)\n",
      "  File \"/home/paperspace/anaconda3/envs/fastai/lib/python3.6/multiprocessing/process.py\", line 93, in run\n",
      "    self._target(*self._args, **self._kwargs)\n",
      "  File \"/home/paperspace/anaconda3/envs/fastai/lib/python3.6/site-packages/torchvision/datasets/folder.py\", line 124, in __getitem__\n",
      "    img = self.transform(img)\n",
      "  File \"/home/paperspace/anaconda3/envs/fastai/lib/python3.6/site-packages/torchvision/datasets/folder.py\", line 69, in default_loader\n",
      "    return pil_loader(path)\n",
      "  File \"/home/paperspace/anaconda3/envs/fastai/lib/python3.6/site-packages/PIL/Image.py\", line 2549, in _open_core\n",
      "    im = factory(fp, filename)\n",
      "  File \"/home/paperspace/anaconda3/envs/fastai/lib/python3.6/multiprocessing/connection.py\", line 216, in recv_bytes\n",
      "    buf = self._recv_bytes(maxlength)\n",
      "  File \"/home/paperspace/anaconda3/envs/fastai/lib/python3.6/site-packages/torch/utils/data/dataloader.py\", line 55, in _worker_loop\n",
      "    samples = collate_fn([dataset[i] for i in batch_indices])\n",
      "  File \"/home/paperspace/anaconda3/envs/fastai/lib/python3.6/site-packages/PIL/ImageFile.py\", line 102, in __init__\n",
      "    self._open()\n",
      "  File \"<frozen importlib._bootstrap>\", line 1020, in _handle_fromlist\n",
      "  File \"/home/paperspace/anaconda3/envs/fastai/lib/python3.6/site-packages/torchvision/transforms/transforms.py\", line 42, in __call__\n",
      "    img = t(img)\n",
      "  File \"/home/paperspace/anaconda3/envs/fastai/lib/python3.6/site-packages/torchvision/datasets/folder.py\", line 52, in pil_loader\n",
      "    return img.convert('RGB')\n",
      "  File \"/home/paperspace/anaconda3/envs/fastai/lib/python3.6/site-packages/torch/utils/data/dataloader.py\", line 135, in default_collate\n",
      "    return [default_collate(samples) for samples in transposed]\n",
      "  File \"/home/paperspace/anaconda3/envs/fastai/lib/python3.6/site-packages/PIL/PngImagePlugin.py\", line 517, in _open\n",
      "    def _open(self):\n",
      "  File \"/home/paperspace/anaconda3/envs/fastai/lib/python3.6/site-packages/torch/utils/data/dataloader.py\", line 55, in <listcomp>\n",
      "    samples = collate_fn([dataset[i] for i in batch_indices])\n",
      "KeyboardInterrupt\n",
      "  File \"/home/paperspace/anaconda3/envs/fastai/lib/python3.6/site-packages/PIL/Image.py\", line 875, in convert\n",
      "    self.load()\n",
      "  File \"/home/paperspace/anaconda3/envs/fastai/lib/python3.6/multiprocessing/connection.py\", line 407, in _recv_bytes\n",
      "    buf = self._recv(4)\n",
      "  File \"/home/paperspace/anaconda3/envs/fastai/lib/python3.6/site-packages/torchvision/datasets/folder.py\", line 122, in __getitem__\n",
      "    img = self.loader(path)\n",
      "  File \"/home/paperspace/anaconda3/envs/fastai/lib/python3.6/site-packages/torchvision/transforms/transforms.py\", line 61, in __call__\n",
      "    return F.to_tensor(pic)\n",
      "  File \"/home/paperspace/anaconda3/envs/fastai/lib/python3.6/site-packages/PIL/ImageFile.py\", line 236, in load\n",
      "    n, err_code = decoder.decode(b)\n",
      "  File \"/home/paperspace/anaconda3/envs/fastai/lib/python3.6/multiprocessing/connection.py\", line 379, in _recv\n",
      "    chunk = read(handle, remaining)\n",
      "KeyboardInterrupt\n",
      "  File \"/home/paperspace/anaconda3/envs/fastai/lib/python3.6/site-packages/torchvision/transforms/functional.py\", line 76, in to_tensor\n",
      "    return img.float().div(255)\n",
      "  File \"/home/paperspace/anaconda3/envs/fastai/lib/python3.6/site-packages/torchvision/datasets/folder.py\", line 69, in default_loader\n",
      "    return pil_loader(path)\n",
      "KeyboardInterrupt\n",
      "KeyboardInterrupt\n",
      "  File \"/home/paperspace/anaconda3/envs/fastai/lib/python3.6/site-packages/torchvision/datasets/folder.py\", line 52, in pil_loader\n",
      "    return img.convert('RGB')\n",
      "  File \"/home/paperspace/anaconda3/envs/fastai/lib/python3.6/site-packages/PIL/Image.py\", line 875, in convert\n",
      "    self.load()\n"
     ]
    },
    {
     "name": "stderr",
     "output_type": "stream",
     "text": [
      "  File \"/home/paperspace/anaconda3/envs/fastai/lib/python3.6/site-packages/PIL/ImageFile.py\", line 236, in load\n",
      "    n, err_code = decoder.decode(b)\n",
      "KeyboardInterrupt\n",
      "  File \"/home/paperspace/anaconda3/envs/fastai/lib/python3.6/site-packages/torch/utils/data/dataloader.py\", line 135, in <listcomp>\n",
      "    return [default_collate(samples) for samples in transposed]\n",
      "  File \"/home/paperspace/anaconda3/envs/fastai/lib/python3.6/site-packages/torch/tensor.py\", line 53, in float\n",
      "    return self.type(type(self).__module__ + '.FloatTensor')\n",
      "  File \"/home/paperspace/anaconda3/envs/fastai/lib/python3.6/site-packages/torch/utils/data/dataloader.py\", line 112, in default_collate\n",
      "    return torch.stack(batch, 0, out=out)\n",
      "  File \"/home/paperspace/anaconda3/envs/fastai/lib/python3.6/site-packages/torch/functional.py\", line 66, in stack\n",
      "    return torch.cat(inputs, dim, out=out)\n",
      "  File \"/home/paperspace/anaconda3/envs/fastai/lib/python3.6/site-packages/torch/_utils.py\", line 24, in _type\n",
      "    new_type = _import_dotted_name(new_type)\n",
      "KeyboardInterrupt\n",
      "  File \"/home/paperspace/anaconda3/envs/fastai/lib/python3.6/site-packages/torch/_utils.py\", line 87, in _import_dotted_name\n",
      "    obj = getattr(obj, component)\n",
      "KeyboardInterrupt\n"
     ]
    }
   ],
   "source": [
    "m = WideResNetConcat(num_groups=3, N=3, num_classes=10, k=1, drop_p=0.)\n",
    "learn = ConvLearner.from_model_data(m, data)\n",
    "learn.half()\n",
    "learn.crit = nn.CrossEntropyLoss()\n",
    "learn.metrics = [accuracy]\n",
    "wd=1e-5\n",
    "lr=2\n",
    "learn.clip = 1e-1\n",
    "\n",
    "def_phase = {'opt_fn':optim.SGD, 'wds':wd}\n",
    "phases = [\n",
    "    TrainingPhase(**def_phase, epochs=1, lr=(.05,.3), lr_decay=DecayType.EXPONENTIAL, momentum=0.95)]\n",
    "\n",
    "learn.fit_opt_sched(phases, data_list=[data], loss_scale=512)\n",
    "%time learn.fit(lr, 1, wds=wd, cycle_len=30, use_clr_beta=(12,20,0.95,0.85), loss_scale=512)"
   ]
  },
  {
   "cell_type": "code",
   "execution_count": 27,
   "metadata": {},
   "outputs": [
    {
     "data": {
      "text/plain": [
       "WideResNetConcat(\n",
       "  (features): Sequential(\n",
       "    (0): Conv2d(3, 16, kernel_size=(3, 3), stride=(1, 1), padding=(1, 1), bias=False)\n",
       "    (1): BasicBlock(\n",
       "      (bn): BatchNorm2d(16, eps=1e-05, momentum=0.1, affine=True)\n",
       "      (conv1): Conv2d(16, 16, kernel_size=(3, 3), stride=(1, 1), padding=(1, 1), bias=False)\n",
       "      (conv2): Sequential(\n",
       "        (0): BatchNorm2d(16, eps=1e-05, momentum=0.1, affine=True)\n",
       "        (1): ReLU(inplace)\n",
       "        (2): Conv2d(16, 16, kernel_size=(3, 3), stride=(1, 1), padding=(1, 1), bias=False)\n",
       "      )\n",
       "    )\n",
       "    (2): BasicBlock(\n",
       "      (bn): BatchNorm2d(16, eps=1e-05, momentum=0.1, affine=True)\n",
       "      (conv1): Conv2d(16, 16, kernel_size=(3, 3), stride=(1, 1), padding=(1, 1), bias=False)\n",
       "      (conv2): Sequential(\n",
       "        (0): BatchNorm2d(16, eps=1e-05, momentum=0.1, affine=True)\n",
       "        (1): ReLU(inplace)\n",
       "        (2): Conv2d(16, 16, kernel_size=(3, 3), stride=(1, 1), padding=(1, 1), bias=False)\n",
       "      )\n",
       "    )\n",
       "    (3): BasicBlock(\n",
       "      (bn): BatchNorm2d(16, eps=1e-05, momentum=0.1, affine=True)\n",
       "      (conv1): Conv2d(16, 16, kernel_size=(3, 3), stride=(1, 1), padding=(1, 1), bias=False)\n",
       "      (conv2): Sequential(\n",
       "        (0): BatchNorm2d(16, eps=1e-05, momentum=0.1, affine=True)\n",
       "        (1): ReLU(inplace)\n",
       "        (2): Conv2d(16, 16, kernel_size=(3, 3), stride=(1, 1), padding=(1, 1), bias=False)\n",
       "      )\n",
       "    )\n",
       "    (4): BasicBlock(\n",
       "      (bn): BatchNorm2d(16, eps=1e-05, momentum=0.1, affine=True)\n",
       "      (conv1): Conv2d(16, 32, kernel_size=(3, 3), stride=(2, 2), padding=(1, 1), bias=False)\n",
       "      (conv2): Sequential(\n",
       "        (0): BatchNorm2d(32, eps=1e-05, momentum=0.1, affine=True)\n",
       "        (1): ReLU(inplace)\n",
       "        (2): Conv2d(32, 32, kernel_size=(3, 3), stride=(1, 1), padding=(1, 1), bias=False)\n",
       "      )\n",
       "      (shortcut): Conv2d(16, 32, kernel_size=(1, 1), stride=(2, 2), bias=False)\n",
       "    )\n",
       "    (5): BasicBlock(\n",
       "      (bn): BatchNorm2d(32, eps=1e-05, momentum=0.1, affine=True)\n",
       "      (conv1): Conv2d(32, 32, kernel_size=(3, 3), stride=(1, 1), padding=(1, 1), bias=False)\n",
       "      (conv2): Sequential(\n",
       "        (0): BatchNorm2d(32, eps=1e-05, momentum=0.1, affine=True)\n",
       "        (1): ReLU(inplace)\n",
       "        (2): Conv2d(32, 32, kernel_size=(3, 3), stride=(1, 1), padding=(1, 1), bias=False)\n",
       "      )\n",
       "    )\n",
       "    (6): BasicBlock(\n",
       "      (bn): BatchNorm2d(32, eps=1e-05, momentum=0.1, affine=True)\n",
       "      (conv1): Conv2d(32, 32, kernel_size=(3, 3), stride=(1, 1), padding=(1, 1), bias=False)\n",
       "      (conv2): Sequential(\n",
       "        (0): BatchNorm2d(32, eps=1e-05, momentum=0.1, affine=True)\n",
       "        (1): ReLU(inplace)\n",
       "        (2): Conv2d(32, 32, kernel_size=(3, 3), stride=(1, 1), padding=(1, 1), bias=False)\n",
       "      )\n",
       "    )\n",
       "    (7): BasicBlock(\n",
       "      (bn): BatchNorm2d(32, eps=1e-05, momentum=0.1, affine=True)\n",
       "      (conv1): Conv2d(32, 64, kernel_size=(3, 3), stride=(2, 2), padding=(1, 1), bias=False)\n",
       "      (conv2): Sequential(\n",
       "        (0): BatchNorm2d(64, eps=1e-05, momentum=0.1, affine=True)\n",
       "        (1): ReLU(inplace)\n",
       "        (2): Conv2d(64, 64, kernel_size=(3, 3), stride=(1, 1), padding=(1, 1), bias=False)\n",
       "      )\n",
       "      (shortcut): Conv2d(32, 64, kernel_size=(1, 1), stride=(2, 2), bias=False)\n",
       "    )\n",
       "    (8): BasicBlock(\n",
       "      (bn): BatchNorm2d(64, eps=1e-05, momentum=0.1, affine=True)\n",
       "      (conv1): Conv2d(64, 64, kernel_size=(3, 3), stride=(1, 1), padding=(1, 1), bias=False)\n",
       "      (conv2): Sequential(\n",
       "        (0): BatchNorm2d(64, eps=1e-05, momentum=0.1, affine=True)\n",
       "        (1): ReLU(inplace)\n",
       "        (2): Conv2d(64, 64, kernel_size=(3, 3), stride=(1, 1), padding=(1, 1), bias=False)\n",
       "      )\n",
       "    )\n",
       "    (9): BasicBlock(\n",
       "      (bn): BatchNorm2d(64, eps=1e-05, momentum=0.1, affine=True)\n",
       "      (conv1): Conv2d(64, 64, kernel_size=(3, 3), stride=(1, 1), padding=(1, 1), bias=False)\n",
       "      (conv2): Sequential(\n",
       "        (0): BatchNorm2d(64, eps=1e-05, momentum=0.1, affine=True)\n",
       "        (1): ReLU(inplace)\n",
       "        (2): Conv2d(64, 64, kernel_size=(3, 3), stride=(1, 1), padding=(1, 1), bias=False)\n",
       "      )\n",
       "    )\n",
       "    (10): BatchNorm2d(64, eps=1e-05, momentum=0.1, affine=True)\n",
       "    (11): ReLU(inplace)\n",
       "    (12): AdaptiveConcatPool2d(\n",
       "      (ap): AdaptiveAvgPool2d(output_size=1)\n",
       "      (mp): AdaptiveMaxPool2d(output_size=1)\n",
       "    )\n",
       "    (13): Flatten(\n",
       "    )\n",
       "    (14): Linear(in_features=128, out_features=10, bias=True)\n",
       "  )\n",
       ")"
      ]
     },
     "execution_count": 27,
     "metadata": {},
     "output_type": "execute_result"
    }
   ],
   "source": [
    "m"
   ]
  },
  {
   "cell_type": "code",
   "execution_count": 28,
   "metadata": {},
   "outputs": [
    {
     "data": {
      "application/vnd.jupyter.widget-view+json": {
       "model_id": "e4af2cf8a74440779ceba2711a7b02f3",
       "version_major": 2,
       "version_minor": 0
      },
      "text/plain": [
       "HBox(children=(IntProgress(value=0, description='Epoch', max=1), HTML(value='')))"
      ]
     },
     "metadata": {},
     "output_type": "display_data"
    },
    {
     "name": "stdout",
     "output_type": "stream",
     "text": [
      " 93%|█████████▎| 91/98 [00:03<00:00, 22.99it/s, loss=1.89]\n",
      "                                                          \r"
     ]
    },
    {
     "name": "stderr",
     "output_type": "stream",
     "text": [
      "Exception in thread Thread-151:\n",
      "Traceback (most recent call last):\n",
      "  File \"/home/paperspace/anaconda3/envs/fastai/lib/python3.6/threading.py\", line 916, in _bootstrap_inner\n",
      "    self.run()\n",
      "  File \"/home/paperspace/anaconda3/envs/fastai/lib/python3.6/site-packages/tqdm/_monitor.py\", line 62, in run\n",
      "    for instance in self.tqdm_cls._instances:\n",
      "  File \"/home/paperspace/anaconda3/envs/fastai/lib/python3.6/_weakrefset.py\", line 60, in __iter__\n",
      "    for itemref in self.data:\n",
      "RuntimeError: Set changed size during iteration\n",
      "\n"
     ]
    },
    {
     "name": "stdout",
     "output_type": "stream",
     "text": [
      "epoch      trn_loss   val_loss   accuracy   \n",
      "    0      1.876401   4.243016   0.2015    \n",
      "\n"
     ]
    },
    {
     "data": {
      "application/vnd.jupyter.widget-view+json": {
       "model_id": "d6a88c370369495fb7a774a700009e9c",
       "version_major": 2,
       "version_minor": 0
      },
      "text/plain": [
       "HBox(children=(IntProgress(value=0, description='Epoch', max=30), HTML(value='')))"
      ]
     },
     "metadata": {},
     "output_type": "display_data"
    },
    {
     "name": "stdout",
     "output_type": "stream",
     "text": [
      "epoch      trn_loss   val_loss   accuracy                 \n",
      "    0      1.572344   1.598391   0.4289    \n",
      "    1      1.440009   1.441077   0.4774                   \n",
      "    2      1.265053   2.137303   0.4567                   \n",
      "    3      1.108983   1.048392   0.6362                   \n",
      "    4      1.002449   1.548284   0.5237                   \n",
      "    5      0.905223   1.946484   0.454                     \n",
      "    6      0.829811   1.241036   0.6173                    \n",
      "    7      0.768609   0.900597   0.702                     \n",
      "    8      0.706589   0.882741   0.7152                    \n",
      "    9      0.658353   0.90341    0.7081                    \n",
      "    10     0.638974   0.934314   0.7082                    \n",
      "    11     0.609519   0.611615   0.7933                    \n",
      "    12     0.568181   0.67357    0.7729                    \n",
      "    13     0.542845   0.711248   0.7643                    \n",
      "    14     0.521269   0.577272   0.8031                    \n",
      "    15     0.485321   0.734381   0.7663                    \n",
      "    16     0.465906   0.670998   0.7669                    \n",
      "    17     0.447697   0.569262   0.8136                    \n",
      "    18     0.418622   0.629362   0.813                     \n",
      "    19     0.402868   0.566965   0.8144                    \n",
      "    20     0.379944   0.509702   0.8368                    \n",
      "    21     0.357281   0.438873   0.8554                    \n",
      "    22     0.336654   0.434651   0.8549                    \n",
      "    23     0.30791    0.393498   0.87                      \n",
      "    24     0.274051   0.385801   0.8717                    \n",
      "    25     0.263178   0.403132   0.8704                    \n",
      "    26     0.25171    0.377974   0.877                     \n",
      "    27     0.235687   0.370838   0.8794                    \n",
      "    28     0.2225     0.36322    0.885                     \n",
      "    29     0.215699   0.359183   0.8856                    \n",
      "\n",
      "CPU times: user 1min 36s, sys: 34 s, total: 2min 10s\n",
      "Wall time: 2min 35s\n"
     ]
    },
    {
     "data": {
      "text/plain": [
       "[array([0.35918]), 0.8855999978065491]"
      ]
     },
     "execution_count": 28,
     "metadata": {},
     "output_type": "execute_result"
    }
   ],
   "source": [
    "m = WideResNetConcat(num_groups=3, N=3, num_classes=10, k=1, drop_p=0.)\n",
    "learn = ConvLearner.from_model_data(m, data)\n",
    "learn.half()\n",
    "learn.crit = nn.CrossEntropyLoss()\n",
    "learn.metrics = [accuracy]\n",
    "wd=1e-5\n",
    "lr=1.2\n",
    "learn.clip = 1e-1\n",
    "\n",
    "def_phase = {'opt_fn':optim.SGD, 'wds':wd}\n",
    "phases = [\n",
    "    TrainingPhase(**def_phase, epochs=1, lr=(.05,.3), lr_decay=DecayType.EXPONENTIAL, momentum=0.95)]\n",
    "\n",
    "learn.fit_opt_sched(phases, data_list=[data], loss_scale=512)\n",
    "%time learn.fit(lr, 1, wds=wd, cycle_len=30, use_clr_beta=(12,20,0.95,0.85), loss_scale=512)"
   ]
  },
  {
   "cell_type": "code",
   "execution_count": null,
   "metadata": {},
   "outputs": [],
   "source": []
  }
 ],
 "metadata": {
  "kernelspec": {
   "display_name": "Python 3",
   "language": "python",
   "name": "python3"
  },
  "language_info": {
   "codemirror_mode": {
    "name": "ipython",
    "version": 3
   },
   "file_extension": ".py",
   "mimetype": "text/x-python",
   "name": "python",
   "nbconvert_exporter": "python",
   "pygments_lexer": "ipython3",
   "version": "3.6.5"
  },
  "toc": {
   "colors": {
    "hover_highlight": "#DAA520",
    "navigate_num": "#000000",
    "navigate_text": "#333333",
    "running_highlight": "#FF0000",
    "selected_highlight": "#FFD700",
    "sidebar_border": "#EEEEEE",
    "wrapper_background": "#FFFFFF"
   },
   "moveMenuLeft": true,
   "nav_menu": {
    "height": "266px",
    "width": "252px"
   },
   "navigate_menu": true,
   "number_sections": true,
   "sideBar": true,
   "threshold": 4,
   "toc_cell": false,
   "toc_section_display": "block",
   "toc_window_display": false,
   "widenNotebook": false
  }
 },
 "nbformat": 4,
 "nbformat_minor": 2
}
