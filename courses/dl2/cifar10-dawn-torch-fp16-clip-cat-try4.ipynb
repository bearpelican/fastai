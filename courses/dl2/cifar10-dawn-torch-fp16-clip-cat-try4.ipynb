{
 "cells": [
  {
   "cell_type": "markdown",
   "metadata": {},
   "source": [
    "## CIFAR 10"
   ]
  },
  {
   "cell_type": "code",
   "execution_count": 1,
   "metadata": {},
   "outputs": [],
   "source": [
    "%matplotlib inline\n",
    "%reload_ext autoreload\n",
    "%autoreload 2"
   ]
  },
  {
   "cell_type": "code",
   "execution_count": 2,
   "metadata": {},
   "outputs": [],
   "source": [
    "from fastai.conv_learner import *\n",
    "from fastai.models.cifar10.wideresnet import wrn_22_cat, wrn_22\n",
    "torch.backends.cudnn.benchmark = True\n",
    "PATH = Path(\"data/cifar10/\")\n",
    "os.makedirs(PATH,exist_ok=True)"
   ]
  },
  {
   "cell_type": "code",
   "execution_count": 3,
   "metadata": {},
   "outputs": [],
   "source": [
    "classes = ('plane', 'car', 'bird', 'cat', 'deer', 'dog', 'frog', 'horse', 'ship', 'truck')\n",
    "stats = (np.array([ 0.4914 ,  0.48216,  0.44653]), np.array([ 0.24703,  0.24349,  0.26159]))\n",
    "\n",
    "bs=512\n",
    "sz=32\n",
    "workers=7"
   ]
  },
  {
   "cell_type": "code",
   "execution_count": 4,
   "metadata": {},
   "outputs": [],
   "source": [
    "import torchvision.transforms as transforms\n",
    "import torchvision.datasets as datasets\n",
    "\n",
    "def pad(img, p=4, padding_mode='reflect'):\n",
    "    return Image.fromarray(np.pad(np.asarray(img), ((p, p), (p, p), (0, 0)), padding_mode))\n",
    "\n",
    "def torch_loader(data_path, size):\n",
    "    if not os.path.exists(data_path+'/train'): download_cifar10(data_path)\n",
    "\n",
    "    # Data loading code\n",
    "    traindir = os.path.join(data_path, 'train')\n",
    "    valdir = os.path.join(data_path, 'test')\n",
    "    normalize = transforms.Normalize(mean=[0.4914 , 0.48216, 0.44653], std=[0.24703, 0.24349, 0.26159])\n",
    "    tfms = [transforms.ToTensor(), normalize]\n",
    "\n",
    "    train_tfms = transforms.Compose([\n",
    "        pad, # TODO: use `padding` rather than assuming 4\n",
    "        transforms.RandomCrop(size),\n",
    "        transforms.RandomHorizontalFlip(),\n",
    "    ] + tfms)\n",
    "    val_tfms = transforms.Compose(tfms)\n",
    "\n",
    "    train_dataset = datasets.ImageFolder(traindir, train_tfms)\n",
    "    val_dataset = datasets.ImageFolder(valdir, val_tfms)\n",
    "\n",
    "    train_loader = torch.utils.data.DataLoader(\n",
    "        train_dataset, batch_size=bs, shuffle=True,\n",
    "        num_workers=workers, pin_memory=True)\n",
    "\n",
    "    val_loader = torch.utils.data.DataLoader(\n",
    "        val_dataset, batch_size=bs*2, shuffle=False,\n",
    "        num_workers=workers, pin_memory=True)\n",
    "\n",
    "    train_loader = DataPrefetcher(train_loader)\n",
    "    val_loader = DataPrefetcher(val_loader)\n",
    "    \n",
    "    data = ModelData(data_path, train_loader, val_loader)\n",
    "    return data\n",
    "\n",
    "# Seems to speed up training by ~2%\n",
    "class DataPrefetcher():\n",
    "    def __init__(self, loader, stop_after=None):\n",
    "        self.loader = loader\n",
    "        self.dataset = loader.dataset\n",
    "        self.stream = torch.cuda.Stream()\n",
    "        self.stop_after = stop_after\n",
    "        self.next_input = None\n",
    "        self.next_target = None\n",
    "\n",
    "    def __len__(self):\n",
    "        return len(self.loader)\n",
    "\n",
    "    def preload(self):\n",
    "        try:\n",
    "            self.next_input, self.next_target = next(self.loaditer)\n",
    "        except StopIteration:\n",
    "            self.next_input = None\n",
    "            self.next_target = None\n",
    "            return\n",
    "        with torch.cuda.stream(self.stream):\n",
    "            self.next_input = self.next_input.cuda(async=True)\n",
    "            self.next_target = self.next_target.cuda(async=True)\n",
    "\n",
    "    def __iter__(self):\n",
    "        count = 0\n",
    "        self.loaditer = iter(self.loader)\n",
    "        self.preload()\n",
    "        while self.next_input is not None:\n",
    "            torch.cuda.current_stream().wait_stream(self.stream)\n",
    "            input = self.next_input\n",
    "            target = self.next_target\n",
    "            self.preload()\n",
    "            count += 1\n",
    "            yield input, target\n",
    "            if type(self.stop_after) is int and (count > self.stop_after):\n",
    "                break"
   ]
  },
  {
   "cell_type": "code",
   "execution_count": 5,
   "metadata": {},
   "outputs": [],
   "source": [
    "data = torch_loader(str(PATH), sz)"
   ]
  },
  {
   "cell_type": "code",
   "execution_count": 6,
   "metadata": {},
   "outputs": [],
   "source": [
    "m = wrn_22_cat()"
   ]
  },
  {
   "cell_type": "code",
   "execution_count": 7,
   "metadata": {},
   "outputs": [],
   "source": [
    "learn = ConvLearner.from_model_data(m, data)\n",
    "learn.half()\n",
    "learn.crit = nn.CrossEntropyLoss()\n",
    "learn.metrics = [accuracy]\n",
    "wd=1e-4\n",
    "lr=.6\n",
    "learn.clip = 1e-1"
   ]
  },
  {
   "cell_type": "code",
   "execution_count": 10,
   "metadata": {},
   "outputs": [
    {
     "data": {
      "application/vnd.jupyter.widget-view+json": {
       "model_id": "f97201d316a8442692585bc41208157e",
       "version_major": 2,
       "version_minor": 0
      },
      "text/plain": [
       "HBox(children=(IntProgress(value=0, description='Epoch', max=1), HTML(value='')))"
      ]
     },
     "metadata": {},
     "output_type": "display_data"
    },
    {
     "name": "stdout",
     "output_type": "stream",
     "text": [
      "epoch      trn_loss   val_loss   accuracy                 \n",
      "    0      1.652061   1.529889   0.4982    \n",
      "\n"
     ]
    },
    {
     "data": {
      "text/plain": [
       "[array([1.52989]), 0.49819999856948854]"
      ]
     },
     "execution_count": 10,
     "metadata": {},
     "output_type": "execute_result"
    }
   ],
   "source": [
    "m = wrn_22_cat()\n",
    "learn = ConvLearner.from_model_data(m, data)\n",
    "learn.half()\n",
    "learn.crit = nn.CrossEntropyLoss()\n",
    "learn.metrics = [accuracy]\n",
    "wd=1e-4\n",
    "lr=.6\n",
    "learn.clip = 1e-1\n",
    "def_phase = {'opt_fn':optim.SGD, 'wds':wd}\n",
    "# TODO: add momentum\n",
    "lr=0.6\n",
    "phases = [\n",
    "    TrainingPhase(**def_phase, epochs=1, lr=(lr/100,lr/10), lr_decay=DecayType.LINEAR)]\n",
    "\n",
    "learn.fit_opt_sched(phases, data_list=[data], loss_scale=512)"
   ]
  },
  {
   "cell_type": "code",
   "execution_count": 11,
   "metadata": {},
   "outputs": [
    {
     "data": {
      "application/vnd.jupyter.widget-view+json": {
       "model_id": "1ef1d943c5444a9c9b231c8ca951f399",
       "version_major": 2,
       "version_minor": 0
      },
      "text/plain": [
       "HBox(children=(IntProgress(value=0, description='Epoch', max=1), HTML(value='')))"
      ]
     },
     "metadata": {},
     "output_type": "display_data"
    },
    {
     "name": "stdout",
     "output_type": "stream",
     "text": [
      "epoch      trn_loss   val_loss   accuracy                 \n",
      "    0      1.709247   1.591692   0.4388    \n",
      "\n"
     ]
    },
    {
     "data": {
      "text/plain": [
       "[array([1.59169]), 0.4387999992847443]"
      ]
     },
     "execution_count": 11,
     "metadata": {},
     "output_type": "execute_result"
    }
   ],
   "source": [
    "m = wrn_22_cat()\n",
    "learn = ConvLearner.from_model_data(m, data)\n",
    "learn.half()\n",
    "learn.crit = nn.CrossEntropyLoss()\n",
    "learn.metrics = [accuracy]\n",
    "wd=1e-4\n",
    "lr=.6\n",
    "learn.clip = 1e-1\n",
    "def_phase = {'opt_fn':optim.SGD, 'wds':wd}\n",
    "# TODO: add momentum\n",
    "lr=0.6\n",
    "phases = [\n",
    "    TrainingPhase(**def_phase, epochs=1, lr=(lr/200,lr/10), lr_decay=DecayType.LINEAR)]\n",
    "\n",
    "learn.fit_opt_sched(phases, data_list=[data], loss_scale=512)"
   ]
  },
  {
   "cell_type": "code",
   "execution_count": 19,
   "metadata": {},
   "outputs": [
    {
     "data": {
      "application/vnd.jupyter.widget-view+json": {
       "model_id": "f1bd5db0e3ef4b8c8376707aa5634ff1",
       "version_major": 2,
       "version_minor": 0
      },
      "text/plain": [
       "HBox(children=(IntProgress(value=0, description='Epoch', max=1), HTML(value='')))"
      ]
     },
     "metadata": {},
     "output_type": "display_data"
    },
    {
     "name": "stdout",
     "output_type": "stream",
     "text": [
      "epoch      trn_loss   val_loss   accuracy                 \n",
      "    0      1.719995   2.253681   0.3577    \n",
      "\n"
     ]
    },
    {
     "data": {
      "text/plain": [
       "[array([2.25368]), 0.35769999964237215]"
      ]
     },
     "execution_count": 19,
     "metadata": {},
     "output_type": "execute_result"
    }
   ],
   "source": [
    "m = wrn_22_cat()\n",
    "learn = ConvLearner.from_model_data(m, data)\n",
    "learn.half()\n",
    "learn.crit = nn.CrossEntropyLoss()\n",
    "learn.metrics = [accuracy]\n",
    "wd=1e-4\n",
    "lr=.6\n",
    "learn.clip = 1e-1\n",
    "def_phase = {'opt_fn':optim.SGD, 'wds':wd}\n",
    "# TODO: add momentum\n",
    "lr=0.6\n",
    "phases = [\n",
    "    TrainingPhase(**def_phase, epochs=1, lr=(.001,.05), lr_decay=DecayType.LINEAR)]\n",
    "\n",
    "learn.fit_opt_sched(phases, data_list=[data], loss_scale=512)"
   ]
  },
  {
   "cell_type": "code",
   "execution_count": 21,
   "metadata": {},
   "outputs": [
    {
     "data": {
      "application/vnd.jupyter.widget-view+json": {
       "model_id": "9b6f641a952d4a00bdf3d802952a1751",
       "version_major": 2,
       "version_minor": 0
      },
      "text/plain": [
       "HBox(children=(IntProgress(value=0, description='Epoch', max=1), HTML(value='')))"
      ]
     },
     "metadata": {},
     "output_type": "display_data"
    },
    {
     "name": "stdout",
     "output_type": "stream",
     "text": [
      "epoch      trn_loss   val_loss   accuracy                 \n",
      "    0      1.651741   1.479081   0.4724    \n",
      "\n"
     ]
    },
    {
     "data": {
      "text/plain": [
       "[array([1.47908]), 0.4723999984741211]"
      ]
     },
     "execution_count": 21,
     "metadata": {},
     "output_type": "execute_result"
    }
   ],
   "source": [
    "m = wrn_22_cat()\n",
    "learn = ConvLearner.from_model_data(m, data)\n",
    "learn.half()\n",
    "learn.crit = nn.CrossEntropyLoss()\n",
    "learn.metrics = [accuracy]\n",
    "wd=1e-4\n",
    "lr=.6\n",
    "learn.clip = 1e-1\n",
    "def_phase = {'opt_fn':optim.SGD, 'wds':wd}\n",
    "# TODO: add momentum\n",
    "lr=0.6\n",
    "phases = [\n",
    "    TrainingPhase(**def_phase, epochs=1, lr=(.01,.05), lr_decay=DecayType.LINEAR)]\n",
    "\n",
    "learn.fit_opt_sched(phases, data_list=[data], loss_scale=512)"
   ]
  },
  {
   "cell_type": "code",
   "execution_count": 29,
   "metadata": {},
   "outputs": [
    {
     "data": {
      "application/vnd.jupyter.widget-view+json": {
       "model_id": "ccb1438ab07f472c87e6156b7d351358",
       "version_major": 2,
       "version_minor": 0
      },
      "text/plain": [
       "HBox(children=(IntProgress(value=0, description='Epoch', max=1), HTML(value='')))"
      ]
     },
     "metadata": {},
     "output_type": "display_data"
    },
    {
     "name": "stdout",
     "output_type": "stream",
     "text": [
      "epoch      trn_loss   val_loss   accuracy                 \n",
      "    0      1.761758   2.039788   0.3819    \n",
      "\n"
     ]
    },
    {
     "data": {
      "text/plain": [
       "[array([2.03979]), 0.38190000171661376]"
      ]
     },
     "execution_count": 29,
     "metadata": {},
     "output_type": "execute_result"
    }
   ],
   "source": [
    "m = wrn_22_cat()\n",
    "learn = ConvLearner.from_model_data(m, data)\n",
    "learn.half()\n",
    "learn.crit = nn.CrossEntropyLoss()\n",
    "learn.metrics = [accuracy]\n",
    "wd=1e-4\n",
    "lr=.6\n",
    "learn.clip = 1e-1\n",
    "def_phase = {'opt_fn':optim.SGD, 'wds':wd}\n",
    "# TODO: add momentum\n",
    "lr=0.6\n",
    "phases = [\n",
    "    TrainingPhase(**def_phase, epochs=1, lr=(.01,.05), lr_decay=DecayType.EXPONENTIAL, momentum=0.95)]\n",
    "\n",
    "learn.fit_opt_sched(phases, data_list=[data], loss_scale=512)"
   ]
  },
  {
   "cell_type": "code",
   "execution_count": 58,
   "metadata": {
    "scrolled": true
   },
   "outputs": [
    {
     "data": {
      "application/vnd.jupyter.widget-view+json": {
       "model_id": "1491443cea2b418285f61dc253342472",
       "version_major": 2,
       "version_minor": 0
      },
      "text/plain": [
       "HBox(children=(IntProgress(value=0, description='Epoch', max=11), HTML(value='')))"
      ]
     },
     "metadata": {},
     "output_type": "display_data"
    },
    {
     "name": "stdout",
     "output_type": "stream",
     "text": [
      "epoch      trn_loss   val_loss   accuracy                 \n",
      "    0      1.66631    1.860219   0.3959    \n",
      "    1      1.272227   1.939868   0.4726                   \n",
      "    2      0.984047   1.202632   0.5994                    \n",
      "    3      0.829942   0.832159   0.7184                    \n",
      "    4      0.709638   0.995219   0.6947                    \n",
      "    5      0.651881   1.121662   0.7062                    \n",
      "    6      0.480302   0.433189   0.8522                    \n",
      "    7      0.384775   0.426316   0.8571                    \n",
      "    8      0.313436   0.3417     0.882                     \n",
      "    9      0.248446   0.317747   0.8944                    \n",
      "    10     0.207261   0.296921   0.9006                    \n",
      "\n"
     ]
    },
    {
     "data": {
      "text/plain": [
       "[array([0.29692]), 0.9006000000953674]"
      ]
     },
     "execution_count": 58,
     "metadata": {},
     "output_type": "execute_result"
    }
   ],
   "source": [
    "m = wrn_22_cat()\n",
    "learn = ConvLearner.from_model_data(m, data)\n",
    "learn.half()\n",
    "learn.crit = nn.CrossEntropyLoss()\n",
    "learn.metrics = [accuracy]\n",
    "wd=1e-4\n",
    "lr=.6\n",
    "learn.clip = 1e-1\n",
    "def_phase = {'opt_fn':optim.SGD, 'wds':wd}\n",
    "# TODO: add momentum\n",
    "lr=0.6\n",
    "phases = [\n",
    "    TrainingPhase(**def_phase, epochs=1, lr=(.009,.05), lr_decay=DecayType.EXPONENTIAL, momentum=0.95),\n",
    "    TrainingPhase(**def_phase, epochs=5, lr=(.05,.5), lr_decay=DecayType.COSINE, momentum=(0.95,0.85)),\n",
    "    TrainingPhase(**def_phase, epochs=5, lr=(.5,.05), lr_decay=DecayType.COSINE, momentum=(0.9,0.9))]\n",
    "\n",
    "learn.fit_opt_sched(phases, data_list=[data], loss_scale=512)"
   ]
  },
  {
   "cell_type": "code",
   "execution_count": 59,
   "metadata": {},
   "outputs": [
    {
     "data": {
      "application/vnd.jupyter.widget-view+json": {
       "model_id": "7a386450813446849706530084457c0f",
       "version_major": 2,
       "version_minor": 0
      },
      "text/plain": [
       "HBox(children=(IntProgress(value=0, description='Epoch', max=11), HTML(value='')))"
      ]
     },
     "metadata": {},
     "output_type": "display_data"
    },
    {
     "name": "stdout",
     "output_type": "stream",
     "text": [
      "epoch      trn_loss   val_loss   accuracy                 \n",
      "    0      1.653958   1.654413   0.4561    \n",
      "    1      1.313813   1.486834   0.5367                   \n",
      "    2      1.052704   1.619509   0.5166                   \n",
      "    3      0.861949   1.026216   0.6724                    \n",
      "    4      0.761465   1.406525   0.5921                    \n",
      "    5      0.674713   0.685619   0.7685                    \n",
      "    6      0.503619   0.502772   0.8307                    \n",
      "    7      0.409491   0.474116   0.841                     \n",
      "    8      0.330926   0.351338   0.8827                    \n",
      "    9      0.261376   0.314243   0.8952                    \n",
      "    10     0.213804   0.293777   0.9039                    \n",
      "\n"
     ]
    },
    {
     "data": {
      "text/plain": [
       "[array([0.29378]), 0.9038999998092652]"
      ]
     },
     "execution_count": 59,
     "metadata": {},
     "output_type": "execute_result"
    }
   ],
   "source": [
    "m = wrn_22_cat()\n",
    "learn = ConvLearner.from_model_data(m, data)\n",
    "learn.half()\n",
    "learn.crit = nn.CrossEntropyLoss()\n",
    "learn.metrics = [accuracy]\n",
    "wd=1e-4\n",
    "lr=.6\n",
    "learn.clip = 1e-1\n",
    "def_phase = {'opt_fn':optim.SGD, 'wds':wd}\n",
    "# TODO: add momentum\n",
    "lr=0.6\n",
    "phases = [\n",
    "    TrainingPhase(**def_phase, epochs=1, lr=(.009,.05), lr_decay=DecayType.EXPONENTIAL, momentum=0.95),\n",
    "    TrainingPhase(**def_phase, epochs=5, lr=(.05,.7), lr_decay=DecayType.COSINE, momentum=(0.95,0.85)),\n",
    "    TrainingPhase(**def_phase, epochs=5, lr=(.7,.05), lr_decay=DecayType.COSINE, momentum=(0.9,0.9))]\n",
    "\n",
    "learn.fit_opt_sched(phases, data_list=[data], loss_scale=512)"
   ]
  },
  {
   "cell_type": "code",
   "execution_count": 60,
   "metadata": {},
   "outputs": [],
   "source": [
    "learn.save('clip-cat-try4-10e-90')"
   ]
  },
  {
   "cell_type": "code",
   "execution_count": 61,
   "metadata": {},
   "outputs": [
    {
     "data": {
      "application/vnd.jupyter.widget-view+json": {
       "model_id": "bbda04388cbc4e22ab91e5f25787e017",
       "version_major": 2,
       "version_minor": 0
      },
      "text/plain": [
       "HBox(children=(IntProgress(value=0, description='Epoch', max=4), HTML(value='')))"
      ]
     },
     "metadata": {},
     "output_type": "display_data"
    },
    {
     "name": "stdout",
     "output_type": "stream",
     "text": [
      "epoch      trn_loss   val_loss   accuracy                  \n",
      "    0      0.195171   0.289526   0.904     \n",
      "    1      0.179225   0.285572   0.9071                    \n",
      "    2      0.172325   0.286096   0.9061                    \n",
      "    3      0.165824   0.282696   0.9074                    \n",
      "\n"
     ]
    },
    {
     "data": {
      "text/plain": [
       "[array([0.2827]), 0.9073999995231629]"
      ]
     },
     "execution_count": 61,
     "metadata": {},
     "output_type": "execute_result"
    }
   ],
   "source": [
    "phases = [\n",
    "    TrainingPhase(**def_phase, epochs=4, lr=(.05,.001), lr_decay=DecayType.EXPONENTIAL, momentum=0.95)]\n",
    "\n",
    "learn.fit_opt_sched(phases, data_list=[data], loss_scale=512)"
   ]
  },
  {
   "cell_type": "code",
   "execution_count": 66,
   "metadata": {},
   "outputs": [
    {
     "data": {
      "application/vnd.jupyter.widget-view+json": {
       "model_id": "9a328411c4a9404abb4042d548a20c45",
       "version_major": 2,
       "version_minor": 0
      },
      "text/plain": [
       "HBox(children=(IntProgress(value=0, description='Epoch', max=19), HTML(value='')))"
      ]
     },
     "metadata": {},
     "output_type": "display_data"
    },
    {
     "name": "stdout",
     "output_type": "stream",
     "text": [
      "  1%|          | 1/98 [00:00<01:22,  1.18it/s, loss=2.71] \n",
      "  3%|▎         | 3/98 [00:01<00:35,  2.67it/s, loss=2.56]"
     ]
    },
    {
     "name": "stderr",
     "output_type": "stream",
     "text": [
      "Exception in thread Thread-269:\n",
      "Traceback (most recent call last):\n",
      "  File \"/home/paperspace/anaconda3/envs/fastai/lib/python3.6/threading.py\", line 916, in _bootstrap_inner\n",
      "    self.run()\n",
      "  File \"/home/paperspace/anaconda3/envs/fastai/lib/python3.6/site-packages/tqdm/_monitor.py\", line 62, in run\n",
      "    for instance in self.tqdm_cls._instances:\n",
      "  File \"/home/paperspace/anaconda3/envs/fastai/lib/python3.6/_weakrefset.py\", line 60, in __iter__\n",
      "    for itemref in self.data:\n",
      "RuntimeError: Set changed size during iteration\n",
      "\n"
     ]
    },
    {
     "name": "stdout",
     "output_type": "stream",
     "text": [
      "epoch      trn_loss   val_loss   accuracy                 \n",
      "    0      1.761399   1.984989   0.3936    \n",
      "    1      1.388576   1.605336   0.5157                   \n",
      "    2      1.067581   1.462845   0.5556                   \n",
      "    3      0.887483   1.032364   0.6634                    \n",
      "    4      0.852899   1.330797   0.6259                    \n",
      "    5      0.785377   0.879327   0.7177                    \n",
      "    6      0.526456   0.535218   0.8192                    \n",
      "    7      0.425074   0.460029   0.845                     \n",
      "    8      0.389916   0.471279   0.8465                    \n",
      "    9      0.362827   0.566298   0.813                     \n",
      "    10     0.326116   0.501541   0.8434                    \n",
      "    11     0.270006   0.339771   0.8881                    \n",
      "    12     0.20449    0.294201   0.9057                    \n",
      "    13     0.16645    0.28128    0.9086                    \n",
      "    14     0.560447   1.697678   0.6099                    \n",
      "    15     0.513812   0.647144   0.7911                    \n",
      "    16     0.39534    0.584417   0.8131                    \n",
      "    17     0.283231   0.347371   0.8861                    \n",
      "    18     0.211003   0.264107   0.9119                    \n",
      "\n"
     ]
    },
    {
     "data": {
      "text/plain": [
       "[array([0.26411]), 0.9118999978065491]"
      ]
     },
     "execution_count": 66,
     "metadata": {},
     "output_type": "execute_result"
    }
   ],
   "source": [
    "m = wrn_22_cat()\n",
    "learn = ConvLearner.from_model_data(m, data)\n",
    "learn.half()\n",
    "learn.crit = nn.CrossEntropyLoss()\n",
    "learn.metrics = [accuracy]\n",
    "wd=1e-4\n",
    "lr=.6\n",
    "learn.clip = 1e-1\n",
    "def_phase = {'opt_fn':optim.SGD, 'wds':wd}\n",
    "# TODO: add momentum\n",
    "lr=0.6\n",
    "phases = [\n",
    "    TrainingPhase(**def_phase, epochs=1, lr=(.008,.05), lr_decay=DecayType.EXPONENTIAL, momentum=0.95),\n",
    "    TrainingPhase(**def_phase, epochs=5, lr=(.05,.8), lr_decay=DecayType.COSINE, momentum=(0.95,0.85)),\n",
    "    TrainingPhase(**def_phase, epochs=3, lr=.8, momentum=0.85),\n",
    "    TrainingPhase(**def_phase, epochs=5, lr=(.8,.05), lr_decay=DecayType.COSINE, momentum=(0.85,0.95)),\n",
    "    TrainingPhase(**def_phase, epochs=5, lr=(.8,.05), lr_decay=DecayType.COSINE, momentum=(0.95))]\n",
    "\n",
    "learn.fit_opt_sched(phases, data_list=[data], loss_scale=512)"
   ]
  },
  {
   "cell_type": "code",
   "execution_count": 67,
   "metadata": {},
   "outputs": [
    {
     "data": {
      "application/vnd.jupyter.widget-view+json": {
       "model_id": "ce311f2eedf449fbba37f9459cf2c46a",
       "version_major": 2,
       "version_minor": 0
      },
      "text/plain": [
       "HBox(children=(IntProgress(value=0, description='Epoch', max=19), HTML(value='')))"
      ]
     },
     "metadata": {},
     "output_type": "display_data"
    },
    {
     "name": "stdout",
     "output_type": "stream",
     "text": [
      "epoch      trn_loss   val_loss   accuracy                 \n",
      "    0      1.609366   2.326389   0.3963    \n",
      "    1      1.279125   1.414922   0.5424                   \n",
      "    2      0.972662   1.111529   0.6512                    \n",
      "    3      0.810566   1.252534   0.6212                    \n",
      "    4      0.726912   1.639716   0.5948                    \n",
      "    5      0.656574   1.130938   0.6591                    \n",
      "    6      0.605131   0.631202   0.7894                    \n",
      "    7      0.426371   0.42016    0.8599                    \n",
      "    8      0.353038   0.441488   0.8519                    \n",
      "    9      0.312735   0.368545   0.8747                    \n",
      "    10     0.268543   0.329004   0.8896                    \n",
      "    11     0.222246   0.291644   0.9024                    \n",
      "    12     0.177752   0.281198   0.9091                    \n",
      "    13     0.150731   0.273423   0.9132                    \n",
      "    14     0.152319   0.282681   0.9104                    \n",
      "    15     0.141077   0.289851   0.907                     \n",
      "    16     0.125533   0.275065   0.9132                    \n",
      "    17     0.109659   0.275271   0.9152                    \n",
      "    18     0.102932   0.27267    0.9159                    \n",
      "\n"
     ]
    },
    {
     "data": {
      "text/plain": [
       "[array([0.27267]), 0.9159000018119812]"
      ]
     },
     "execution_count": 67,
     "metadata": {},
     "output_type": "execute_result"
    }
   ],
   "source": [
    "m = wrn_22_cat()\n",
    "learn = ConvLearner.from_model_data(m, data)\n",
    "learn.half()\n",
    "learn.crit = nn.CrossEntropyLoss()\n",
    "learn.metrics = [accuracy]\n",
    "wd=1e-4\n",
    "lr=.6\n",
    "learn.clip = 1e-1\n",
    "def_phase = {'opt_fn':optim.SGD, 'wds':wd}\n",
    "# TODO: add momentum\n",
    "lr=0.6\n",
    "phases = [\n",
    "    TrainingPhase(**def_phase, epochs=1, lr=(.008,.05), lr_decay=DecayType.EXPONENTIAL, momentum=0.95),\n",
    "    TrainingPhase(**def_phase, epochs=6, lr=(.05,.7), lr_decay=DecayType.COSINE, momentum=(0.95,0.85)),\n",
    "    TrainingPhase(**def_phase, epochs=1, lr=.7, momentum=0.85),\n",
    "    TrainingPhase(**def_phase, epochs=6, lr=(.7,.05), lr_decay=DecayType.COSINE, momentum=(0.85,0.95)),\n",
    "    TrainingPhase(**def_phase, epochs=5, lr=(.05,.001), lr_decay=DecayType.COSINE, momentum=(0.95))]\n",
    "\n",
    "learn.fit_opt_sched(phases, data_list=[data], loss_scale=512)"
   ]
  },
  {
   "cell_type": "code",
   "execution_count": 68,
   "metadata": {},
   "outputs": [
    {
     "data": {
      "application/vnd.jupyter.widget-view+json": {
       "model_id": "d32696535387457a85a178936fe553a0",
       "version_major": 2,
       "version_minor": 0
      },
      "text/plain": [
       "HBox(children=(IntProgress(value=0, description='Epoch', max=19), HTML(value='')))"
      ]
     },
     "metadata": {},
     "output_type": "display_data"
    },
    {
     "name": "stdout",
     "output_type": "stream",
     "text": [
      "epoch      trn_loss   val_loss   accuracy                 \n",
      "    0      1.664577   1.733275   0.45      \n",
      "    1      1.31303    8.896138   0.3332                   \n",
      "    2      1.015808   1.057119   0.6193                   \n",
      "    3      0.826144   1.188348   0.6497                    \n",
      "    4      0.77464    1.26115    0.6411                    \n",
      "    5      0.726946   1.096472   0.6619                    \n",
      "    6      0.673649   0.995679   0.6902                    \n",
      "    7      0.47004    0.483235   0.8347                    \n",
      "    8      0.392949   0.448677   0.8497                    \n",
      "    9      0.350067   0.371992   0.8732                    \n",
      "    10     0.30484    0.357946   0.8788                    \n",
      "    11     0.246662   0.292836   0.9016                    \n",
      "    12     0.193889   0.277751   0.9079                    \n",
      "    13     0.165298   0.276088   0.9115                    \n",
      "    14     0.160506   0.301635   0.9055                    \n",
      "    15     0.154592   0.292699   0.9076                    \n",
      "    16     0.138466   0.279789   0.9139                    \n",
      "    17     0.123996   0.276095   0.914                     \n",
      "    18     0.116583   0.277223   0.9153                    \n",
      "\n"
     ]
    },
    {
     "data": {
      "text/plain": [
       "[array([0.27722]), 0.9153000020027161]"
      ]
     },
     "execution_count": 68,
     "metadata": {},
     "output_type": "execute_result"
    }
   ],
   "source": [
    "m = wrn_22_cat()\n",
    "learn = ConvLearner.from_model_data(m, data)\n",
    "learn.half()\n",
    "learn.crit = nn.CrossEntropyLoss()\n",
    "learn.metrics = [accuracy]\n",
    "wd=1e-4\n",
    "lr=.6\n",
    "learn.clip = 1e-1\n",
    "def_phase = {'opt_fn':optim.SGD, 'wds':wd}\n",
    "# TODO: add momentum\n",
    "lr=0.6\n",
    "phases = [\n",
    "    TrainingPhase(**def_phase, epochs=1, lr=(.008,.05), lr_decay=DecayType.EXPONENTIAL, momentum=0.95),\n",
    "    TrainingPhase(**def_phase, epochs=6, lr=(.05,1), lr_decay=DecayType.COSINE, momentum=(0.95,0.85)),\n",
    "    TrainingPhase(**def_phase, epochs=1, lr=1, momentum=0.85),\n",
    "    TrainingPhase(**def_phase, epochs=6, lr=(1,.05), lr_decay=DecayType.COSINE, momentum=(0.85,0.95)),\n",
    "    TrainingPhase(**def_phase, epochs=5, lr=(.05,.001), lr_decay=DecayType.COSINE, momentum=(0.95))]\n",
    "\n",
    "learn.fit_opt_sched(phases, data_list=[data], loss_scale=512)"
   ]
  },
  {
   "cell_type": "code",
   "execution_count": 6,
   "metadata": {},
   "outputs": [
    {
     "data": {
      "application/vnd.jupyter.widget-view+json": {
       "model_id": "93a5969c989f48238bd053b03db0ccfa",
       "version_major": 2,
       "version_minor": 0
      },
      "text/plain": [
       "HBox(children=(IntProgress(value=0, description='Epoch', max=20), HTML(value='')))"
      ]
     },
     "metadata": {},
     "output_type": "display_data"
    },
    {
     "name": "stdout",
     "output_type": "stream",
     "text": [
      "epoch      trn_loss   val_loss   accuracy                 \n",
      "    0      1.723522   1.706326   0.4187    \n",
      "    1      1.348932   1.615258   0.4981                   \n",
      "    2      1.045214   1.318255   0.5909                   \n",
      "    3      0.880528   1.200181   0.6099                    \n",
      "    4      0.833535   1.127446   0.6563                    \n",
      "    5      0.835675   1.43308    0.639                     \n",
      "    6      0.819417   1.282069   0.6177                    \n",
      "    7      0.793641   1.138964   0.6513                    \n",
      "    8      0.531244   0.56155    0.8032                    \n",
      "    9      0.461274   0.471941   0.8414                    \n",
      "    10     0.402229   0.506681   0.8331                    \n",
      "    11     0.353353   0.569177   0.8213                    \n",
      "    12     0.30306    0.378536   0.8737                    \n",
      "    13     0.246033   0.307866   0.8989                    \n",
      "    14     0.194662   0.303719   0.9052                    \n",
      "    15     0.164604   0.287955   0.9081                    \n",
      "    16     0.158374   0.296162   0.9079                    \n",
      "    17     0.146612   0.288826   0.9093                    \n",
      "    18     0.132768   0.295577   0.9103                    \n",
      "    19     0.123516   0.291822   0.9124                    \n",
      "\n"
     ]
    },
    {
     "data": {
      "text/plain": [
       "[array([0.29182]), 0.9124000016212463]"
      ]
     },
     "execution_count": 6,
     "metadata": {},
     "output_type": "execute_result"
    }
   ],
   "source": [
    "m = wrn_22_cat()\n",
    "learn = ConvLearner.from_model_data(m, data)\n",
    "learn.half()\n",
    "learn.crit = nn.CrossEntropyLoss()\n",
    "learn.metrics = [accuracy]\n",
    "wd=1e-4\n",
    "lr=.6\n",
    "learn.clip = 1e-1\n",
    "def_phase = {'opt_fn':optim.SGD, 'wds':wd}\n",
    "# TODO: add momentum\n",
    "lr=0.6\n",
    "phases = [\n",
    "    TrainingPhase(**def_phase, epochs=1, lr=(.008,.05), lr_decay=DecayType.EXPONENTIAL, momentum=0.95),\n",
    "    TrainingPhase(**def_phase, epochs=7, lr=(.05,1.5), lr_decay=DecayType.COSINE, momentum=(0.95,0.85)),\n",
    "    TrainingPhase(**def_phase, epochs=1, lr=1.5, momentum=0.85),\n",
    "    TrainingPhase(**def_phase, epochs=7, lr=(1.5,.05), lr_decay=DecayType.COSINE, momentum=(0.85,0.95)),\n",
    "    TrainingPhase(**def_phase, epochs=4, lr=(.05,.001), lr_decay=DecayType.COSINE, momentum=(0.95))]\n",
    "\n",
    "learn.fit_opt_sched(phases, data_list=[data], loss_scale=512)"
   ]
  },
  {
   "cell_type": "code",
   "execution_count": null,
   "metadata": {},
   "outputs": [],
   "source": [
    "m = wrn_22_cat()\n",
    "learn = ConvLearner.from_model_data(m, data)\n",
    "learn.half()\n",
    "learn.crit = nn.CrossEntropyLoss()\n",
    "learn.metrics = [accuracy]\n",
    "wd=1e-4\n",
    "lr=.6\n",
    "learn.clip = 1e-1\n",
    "def_phase = {'opt_fn':optim.SGD, 'wds':wd}\n",
    "# TODO: add momentum\n",
    "lr=0.6\n",
    "phases = [\n",
    "    TrainingPhase(**def_phase, epochs=1, lr=(.005,.05), lr_decay=DecayType.EXPONENTIAL, momentum=0.95),\n",
    "    TrainingPhase(**def_phase, epochs=7, lr=(.05,.7), lr_decay=DecayType.COSINE, momentum=(0.95,0.85)),\n",
    "    TrainingPhase(**def_phase, epochs=1, lr=.8, momentum=0.85),\n",
    "    TrainingPhase(**def_phase, epochs=7, lr=(.7,.05), lr_decay=DecayType.COSINE, momentum=(0.85,0.95)),\n",
    "    TrainingPhase(**def_phase, epochs=4, lr=(.05,.0001), lr_decay=DecayType.COSINE, momentum=(0.95))]\n",
    "\n",
    "learn.fit_opt_sched(phases, data_list=[data], loss_scale=512)"
   ]
  },
  {
   "cell_type": "code",
   "execution_count": 44,
   "metadata": {},
   "outputs": [
    {
     "data": {
      "application/vnd.jupyter.widget-view+json": {
       "model_id": "0c2e4ff1cd134658a268b8dfc3d61f52",
       "version_major": 2,
       "version_minor": 0
      },
      "text/plain": [
       "HBox(children=(IntProgress(value=0, description='Epoch', max=1), HTML(value='')))"
      ]
     },
     "metadata": {},
     "output_type": "display_data"
    },
    {
     "name": "stdout",
     "output_type": "stream",
     "text": [
      "epoch      trn_loss   val_loss   accuracy                 \n",
      "    0      2.744894   nan        0.1       \n",
      "\n"
     ]
    }
   ],
   "source": [
    "learn.lr_find()"
   ]
  },
  {
   "cell_type": "code",
   "execution_count": 45,
   "metadata": {},
   "outputs": [
    {
     "data": {
      "image/png": "[encoded data removed]",
      "text/plain": [
       "<Figure size 432x288 with 1 Axes>"
      ]
     },
     "metadata": {},
     "output_type": "display_data"
    }
   ],
   "source": [
    "learn.sched.plot()"
   ]
  },
  {
   "cell_type": "code",
   "execution_count": 8,
   "metadata": {},
   "outputs": [
    {
     "data": {
      "application/vnd.jupyter.widget-view+json": {
       "model_id": "df0c0cbaeb5d4031832bcff82df02cee",
       "version_major": 2,
       "version_minor": 0
      },
      "text/plain": [
       "HBox(children=(IntProgress(value=0, description='Epoch', max=18), HTML(value='')))"
      ]
     },
     "metadata": {},
     "output_type": "display_data"
    },
    {
     "name": "stdout",
     "output_type": "stream",
     "text": [
      "epoch      trn_loss   val_loss   accuracy                 \n",
      "    0      1.662039   1.696292   0.4442    \n",
      "    1      1.27336    1.260788   0.5661                   \n",
      "    2      0.945429   0.897295   0.6936                    \n",
      "    3      0.752769   0.730798   0.7485                    \n",
      "    4      0.60563    0.621861   0.7854                    \n",
      "    5      0.526326   0.627241   0.7945                    \n",
      "    6      0.471621   0.631171   0.7822                    \n",
      "    7      0.44156    0.492612   0.8355                    \n",
      "    8      0.380013   0.399317   0.8605                    \n",
      "    9      0.317966   0.3809     0.8725                    \n",
      "    10     0.271654   0.344888   0.8875                    \n",
      "    11     0.240416   0.326707   0.8964                    \n",
      "    12     0.192542   0.324715   0.8984                    \n",
      "    13     0.154397   0.266097   0.9105                    \n",
      "    14     0.121361   0.263755   0.9175                    \n",
      "    15     0.092432   0.244981   0.9272                     \n",
      "    16     0.074857   0.249595   0.9241                     \n",
      "    17     0.060349   0.23983    0.9285                     \n",
      "\n"
     ]
    },
    {
     "data": {
      "text/plain": [
       "[array([0.23983]), 0.9285000017166137]"
      ]
     },
     "execution_count": 8,
     "metadata": {},
     "output_type": "execute_result"
    }
   ],
   "source": [
    "def_phase = {'opt_fn':optim.SGD, 'wds':wd}\n",
    "# TODO: add momentum\n",
    "phases = [\n",
    "    TrainingPhase(**def_phase, epochs=1, lr=(lr/200,lr/10), lr_decay=DecayType.LINEAR),\n",
    "    TrainingPhase(**def_phase, epochs=7, lr=(lr/10,lr/2), lr_decay=DecayType.LINEAR),\n",
    "    TrainingPhase(**def_phase, epochs=7, lr=(lr/2,lr/10), lr_decay=DecayType.LINEAR),\n",
    "    TrainingPhase(**def_phase, epochs=3, lr=(lr/10,lr/100), lr_decay=DecayType.LINEAR)]\n",
    "\n",
    "learn.fit_opt_sched(phases, data_list=[data], loss_scale=512)"
   ]
  },
  {
   "cell_type": "code",
   "execution_count": 19,
   "metadata": {},
   "outputs": [
    {
     "data": {
      "image/png": "[encoded data removed]",
      "text/plain": [
       "<Figure size 864x288 with 2 Axes>"
      ]
     },
     "metadata": {},
     "output_type": "display_data"
    }
   ],
   "source": [
    "learn.sched.plot_lr()"
   ]
  },
  {
   "cell_type": "code",
   "execution_count": 14,
   "metadata": {},
   "outputs": [
    {
     "data": {
      "application/vnd.jupyter.widget-view+json": {
       "model_id": "3acbade877774f18a4d898062de61c24",
       "version_major": 2,
       "version_minor": 0
      },
      "text/plain": [
       "HBox(children=(IntProgress(value=0, description='Epoch', max=1), HTML(value='')))"
      ]
     },
     "metadata": {},
     "output_type": "display_data"
    },
    {
     "name": "stdout",
     "output_type": "stream",
     "text": [
      " 50%|█████     | 49/98 [00:07<00:07,  6.63it/s, loss=2.32]\n",
      " 51%|█████     | 50/98 [00:07<00:07,  6.64it/s, loss=2.31]"
     ]
    },
    {
     "name": "stderr",
     "output_type": "stream",
     "text": [
      "Exception in thread Thread-8:\n",
      "Traceback (most recent call last):\n",
      "  File \"/home/paperspace/anaconda3/envs/fastai/lib/python3.6/threading.py\", line 916, in _bootstrap_inner\n",
      "    self.run()\n",
      "  File \"/home/paperspace/anaconda3/envs/fastai/lib/python3.6/site-packages/tqdm/_monitor.py\", line 62, in run\n",
      "    for instance in self.tqdm_cls._instances:\n",
      "  File \"/home/paperspace/anaconda3/envs/fastai/lib/python3.6/_weakrefset.py\", line 60, in __iter__\n",
      "    for itemref in self.data:\n",
      "RuntimeError: Set changed size during iteration\n",
      "\n"
     ]
    },
    {
     "name": "stdout",
     "output_type": "stream",
     "text": [
      "epoch      trn_loss   val_loss   accuracy                 \n",
      "    0      1.986074   1.823489   0.3445    \n",
      "\n",
      "CPU times: user 10.1 s, sys: 4.47 s, total: 14.6 s\n",
      "Wall time: 15.3 s\n"
     ]
    },
    {
     "data": {
      "text/plain": [
       "[array([1.82349]), 0.34450000104904177]"
      ]
     },
     "execution_count": 14,
     "metadata": {},
     "output_type": "execute_result"
    }
   ],
   "source": [
    "%time learn.fit(.005, 1, wds=wd, cycle_len=1, loss_scale=512)"
   ]
  },
  {
   "cell_type": "code",
   "execution_count": 15,
   "metadata": {},
   "outputs": [
    {
     "data": {
      "application/vnd.jupyter.widget-view+json": {
       "model_id": "7d8c4c0ff83f4ed39ea63f6c3f1e747e",
       "version_major": 2,
       "version_minor": 0
      },
      "text/plain": [
       "HBox(children=(IntProgress(value=0, description='Epoch', max=20), HTML(value='')))"
      ]
     },
     "metadata": {},
     "output_type": "display_data"
    },
    {
     "name": "stdout",
     "output_type": "stream",
     "text": [
      "epoch      trn_loss   val_loss   accuracy                 \n",
      "    0      1.752462   2.089988   0.3653    \n",
      "    1      1.415329   1.277752   0.5432                   \n",
      "    2      1.03773    0.896488   0.6782                   \n",
      "    3      0.813492   0.775105   0.7253                    \n",
      "    4      0.684075   0.725958   0.749                     \n",
      "    5      0.573127   0.63228    0.7859                    \n",
      "    6      0.515764   0.531604   0.8106                    \n",
      "    7      0.473965   0.660552   0.7841                    \n",
      "    8      0.418588   0.505136   0.8285                    \n",
      "    9      0.364027   0.452368   0.8493                    \n",
      "    10     0.328663   0.418461   0.8598                    \n",
      "    11     0.293754   0.410593   0.8596                    \n",
      "    12     0.269821   0.346743   0.8836                    \n",
      "    13     0.236393   0.305855   0.8981                    \n",
      "    14     0.190974   0.316761   0.8996                    \n",
      "    15     0.161148   0.289981   0.9077                    \n",
      "    16     0.11741    0.253659   0.9205                    \n",
      "    17     0.08152    0.24996    0.9228                     \n",
      "    18     0.067261   0.248997   0.9246                     \n",
      "    19     0.059889   0.247067   0.9243                     \n",
      "\n",
      "CPU times: user 3min 23s, sys: 1min 31s, total: 4min 55s\n",
      "Wall time: 5min 11s\n"
     ]
    },
    {
     "data": {
      "text/plain": [
       "[array([0.24707]), 0.9243000017166138]"
      ]
     },
     "execution_count": 15,
     "metadata": {},
     "output_type": "execute_result"
    }
   ],
   "source": [
    "%time learn.fit(lr, 1, wds=wd, cycle_len=20, use_clr_beta=(12,15,0.95,0.85), loss_scale=512)"
   ]
  },
  {
   "cell_type": "code",
   "execution_count": null,
   "metadata": {},
   "outputs": [],
   "source": []
  }
 ],
 "metadata": {
  "kernelspec": {
   "display_name": "Python 3",
   "language": "python",
   "name": "python3"
  },
  "language_info": {
   "codemirror_mode": {
    "name": "ipython",
    "version": 3
   },
   "file_extension": ".py",
   "mimetype": "text/x-python",
   "name": "python",
   "nbconvert_exporter": "python",
   "pygments_lexer": "ipython3",
   "version": "3.6.5"
  },
  "toc": {
   "colors": {
    "hover_highlight": "#DAA520",
    "navigate_num": "#000000",
    "navigate_text": "#333333",
    "running_highlight": "#FF0000",
    "selected_highlight": "#FFD700",
    "sidebar_border": "#EEEEEE",
    "wrapper_background": "#FFFFFF"
   },
   "moveMenuLeft": true,
   "nav_menu": {
    "height": "266px",
    "width": "252px"
   },
   "navigate_menu": true,
   "number_sections": true,
   "sideBar": true,
   "threshold": 4,
   "toc_cell": false,
   "toc_section_display": "block",
   "toc_window_display": false,
   "widenNotebook": false
  }
 },
 "nbformat": 4,
 "nbformat_minor": 2
}
