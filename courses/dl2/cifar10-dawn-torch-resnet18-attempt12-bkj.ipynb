{
 "cells": [
  {
   "cell_type": "markdown",
   "metadata": {},
   "source": [
    "## CIFAR 10"
   ]
  },
  {
   "cell_type": "code",
   "execution_count": 1,
   "metadata": {},
   "outputs": [],
   "source": [
    "%matplotlib inline\n",
    "%reload_ext autoreload\n",
    "%autoreload 2"
   ]
  },
  {
   "cell_type": "code",
   "execution_count": 2,
   "metadata": {},
   "outputs": [],
   "source": [
    "from fastai.conv_learner import *\n",
    "from fastai.models.cifar10.wideresnet import wrn_22_cat, wrn_22, WideResNetConcat\n",
    "torch.backends.cudnn.benchmark = True\n",
    "PATH = Path(\"data/cifar10/\")\n",
    "os.makedirs(PATH,exist_ok=True)"
   ]
  },
  {
   "cell_type": "code",
   "execution_count": 3,
   "metadata": {},
   "outputs": [],
   "source": [
    "classes = ('plane', 'car', 'bird', 'cat', 'deer', 'dog', 'frog', 'horse', 'ship', 'truck')\n",
    "stats = (np.array([ 0.4914 ,  0.48216,  0.44653]), np.array([ 0.24703,  0.24349,  0.26159]))\n",
    "workers=7"
   ]
  },
  {
   "cell_type": "code",
   "execution_count": 4,
   "metadata": {},
   "outputs": [],
   "source": [
    "import torchvision.transforms as transforms\n",
    "import torchvision.datasets as datasets\n",
    "from torch.utils.data import DataLoader\n",
    "def pad(img, p=4, padding_mode='reflect'):\n",
    "    return Image.fromarray(np.pad(np.asarray(img), ((p, p), (p, p), (0, 0)), padding_mode))\n",
    "\n",
    "def torch_loader(data_path, size, bs, val_bs=None, prefetcher=True):\n",
    "    if not os.path.exists(data_path/'train'): download_cifar10(data_path)\n",
    "\n",
    "    val_bs = val_bs or bs\n",
    "    # Data loading code\n",
    "    traindir = str(data_path/'train')\n",
    "    valdir = str(data_path/'test')\n",
    "    tfms = [transforms.ToTensor(), transforms.Normalize((0.4914, 0.4822, 0.4465), (0.2023, 0.1994, 0.2010))]\n",
    "\n",
    "    train_tfms = transforms.Compose([\n",
    "        pad, # TODO: use `padding` rather than assuming 4\n",
    "        transforms.RandomCrop(size),\n",
    "        transforms.RandomHorizontalFlip(),\n",
    "    ] + tfms)\n",
    "\n",
    "    train_dataset = datasets.ImageFolder(traindir, train_tfms)\n",
    "    val_dataset = datasets.ImageFolder(valdir, transforms.Compose(tfms))\n",
    "\n",
    "    train_loader = DataLoader(\n",
    "        train_dataset, batch_size=bs, shuffle=True,\n",
    "        num_workers=workers, pin_memory=True)\n",
    "\n",
    "    val_loader = DataLoader(\n",
    "        val_dataset, batch_size=val_bs, shuffle=False,\n",
    "        num_workers=workers, pin_memory=True)\n",
    "    \n",
    "    aug_loader = DataLoader(\n",
    "        datasets.ImageFolder(valdir, train_tfms),\n",
    "        batch_size=bs, shuffle=False,\n",
    "        num_workers=workers, pin_memory=True)\n",
    "\n",
    "    if prefetcher:\n",
    "        train_loader = DataPrefetcher(train_loader)\n",
    "        val_loader = DataPrefetcher(val_loader)\n",
    "        aug_loader = DataPrefetcher(aug_loader)\n",
    "    \n",
    "    data = ModelData(data_path, train_loader, val_loader)\n",
    "    data.sz = size\n",
    "    data.aug_dl = aug_loader\n",
    "    return data\n",
    "\n",
    "# Seems to speed up training by ~2%\n",
    "class DataPrefetcher():\n",
    "    def __init__(self, loader, stop_after=None):\n",
    "        self.loader = loader\n",
    "        self.dataset = loader.dataset\n",
    "        self.stream = torch.cuda.Stream()\n",
    "        self.stop_after = stop_after\n",
    "        self.next_input = None\n",
    "        self.next_target = None\n",
    "\n",
    "    def __len__(self):\n",
    "        return len(self.loader)\n",
    "\n",
    "    def preload(self):\n",
    "        try:\n",
    "            self.next_input, self.next_target = next(self.loaditer)\n",
    "        except StopIteration:\n",
    "            self.next_input = None\n",
    "            self.next_target = None\n",
    "            return\n",
    "        with torch.cuda.stream(self.stream):\n",
    "            self.next_input = self.next_input.cuda(async=True)\n",
    "            self.next_target = self.next_target.cuda(async=True)\n",
    "\n",
    "    def __iter__(self):\n",
    "        count = 0\n",
    "        self.loaditer = iter(self.loader)\n",
    "        self.preload()\n",
    "        while self.next_input is not None:\n",
    "            torch.cuda.current_stream().wait_stream(self.stream)\n",
    "            input = self.next_input\n",
    "            target = self.next_target\n",
    "            self.preload()\n",
    "            count += 1\n",
    "            yield input, target\n",
    "            if type(self.stop_after) is int and (count > self.stop_after):\n",
    "                break"
   ]
  },
  {
   "cell_type": "code",
   "execution_count": 5,
   "metadata": {},
   "outputs": [],
   "source": [
    "\n",
    "# --\n",
    "# Model definition\n",
    "# Derived from models in `https://github.com/kuangliu/pytorch-cifar`\n",
    "\n",
    "class PreActBlock(nn.Module):\n",
    "    \n",
    "    def __init__(self, in_channels, out_channels, stride=1):\n",
    "        super().__init__()\n",
    "        \n",
    "        self.bn1   = nn.BatchNorm2d(in_channels)\n",
    "        self.conv1 = nn.Conv2d(in_channels, out_channels, kernel_size=3, stride=stride, padding=1, bias=False)\n",
    "        self.bn2   = nn.BatchNorm2d(out_channels)\n",
    "        self.conv2 = nn.Conv2d(out_channels, out_channels, kernel_size=3, stride=1, padding=1, bias=False)\n",
    "        \n",
    "        if stride != 1 or in_channels != out_channels:\n",
    "            self.shortcut = nn.Sequential(\n",
    "                nn.Conv2d(in_channels, out_channels, kernel_size=1, stride=stride, bias=False)\n",
    "            )\n",
    "            \n",
    "    def forward(self, x):\n",
    "        out = F.relu(self.bn1(x))\n",
    "        shortcut = self.shortcut(out) if hasattr(self, 'shortcut') else x\n",
    "        out = self.conv1(out)\n",
    "        out = self.conv2(F.relu(self.bn2(out)))\n",
    "        return out + shortcut\n",
    "\n",
    "\n",
    "class ResNet18(nn.Module):\n",
    "    def __init__(self, num_blocks=[2, 2, 2, 2], num_classes=10):\n",
    "        super().__init__()\n",
    "        \n",
    "        self.in_channels = 64\n",
    "        \n",
    "        self.prep = nn.Sequential(\n",
    "            nn.Conv2d(3, 64, kernel_size=3, stride=1, padding=1, bias=False),\n",
    "            nn.BatchNorm2d(64),\n",
    "            nn.ReLU()\n",
    "        )\n",
    "        \n",
    "        self.layers = nn.Sequential(\n",
    "            self._make_layer(64, 64, num_blocks[0], stride=1),\n",
    "            self._make_layer(64, 128, num_blocks[1], stride=2),\n",
    "            self._make_layer(128, 256, num_blocks[2], stride=2),\n",
    "            self._make_layer(256, 256, num_blocks[3], stride=2),\n",
    "        )\n",
    "        \n",
    "        self.classifier = nn.Linear(512, num_classes)\n",
    "        \n",
    "    def _make_layer(self, in_channels, out_channels, num_blocks, stride):\n",
    "        \n",
    "        strides = [stride] + [1] * (num_blocks-1)\n",
    "        layers = []\n",
    "        for stride in strides:\n",
    "            layers.append(PreActBlock(in_channels=in_channels, out_channels=out_channels, stride=stride))\n",
    "            in_channels = out_channels\n",
    "        \n",
    "        return nn.Sequential(*layers)\n",
    "    \n",
    "    def forward(self, x):\n",
    "        x = x.half()\n",
    "        x = self.prep(x)\n",
    "        \n",
    "        x = self.layers(x)\n",
    "        \n",
    "        x_avg = F.adaptive_avg_pool2d(x, (1, 1))\n",
    "        x_avg = x_avg.view(x_avg.size(0), -1)\n",
    "        \n",
    "        x_max = F.adaptive_max_pool2d(x, (1, 1))\n",
    "        x_max = x_max.view(x_max.size(0), -1)\n",
    "        \n",
    "        x = torch.cat([x_avg, x_max], dim=-1)\n",
    "        \n",
    "        x = self.classifier(x)\n",
    "        \n",
    "        return x\n"
   ]
  },
  {
   "cell_type": "code",
   "execution_count": 6,
   "metadata": {},
   "outputs": [],
   "source": [
    "# m = WideResNetConcat(num_groups=3, N=3, num_classes=10, k=1, drop_p=0.)"
   ]
  },
  {
   "cell_type": "code",
   "execution_count": 7,
   "metadata": {},
   "outputs": [],
   "source": [
    "def get_TTA_accuracy(learn):\n",
    "    preds, targs = learn.TTA()\n",
    "    # combining the predictions across augmented and non augmented inputs\n",
    "    preds = 0.6 * preds[0] + 0.4 * preds[1:].sum(0)\n",
    "    return accuracy_np(preds, targs)\n",
    "\n",
    "def get_TTA_accuracy_2(learn):\n",
    "    log_preds,y = learn.TTA()\n",
    "    preds = np.mean(np.exp(log_preds),0)\n",
    "    acc = accuracy(torch.FloatTensor(preds),torch.LongTensor(y))\n",
    "    print('TTA acc:', acc)"
   ]
  },
  {
   "cell_type": "code",
   "execution_count": 26,
   "metadata": {},
   "outputs": [
    {
     "data": {
      "application/vnd.jupyter.widget-view+json": {
       "model_id": "3c5a60ad1d264884910475c7817fdce9",
       "version_major": 2,
       "version_minor": 0
      },
      "text/plain": [
       "HBox(children=(IntProgress(value=0, description='Epoch', max=35), HTML(value='')))"
      ]
     },
     "metadata": {},
     "output_type": "display_data"
    },
    {
     "name": "stdout",
     "output_type": "stream",
     "text": [
      "epoch      trn_loss   val_loss   accuracy                   \n",
      "    0      1.27417    1.309764   0.5071    \n",
      "    1      0.884729   0.933605   0.6754                      \n",
      "    2      0.711222   0.874211   0.7102                      \n",
      "    3      0.620399   0.839775   0.731                       \n",
      "    4      0.560078   0.63803    0.7841                      \n",
      "    5      0.524661   0.648492   0.7785                      \n",
      "    6      0.488293   0.576027   0.7952                      \n",
      "    7      0.442691   0.59268    0.8043                      \n",
      "    8      0.424464   0.483655   0.8372                      \n",
      "    9      0.404569   0.544459   0.8184                      \n",
      "    10     0.394014   0.462174   0.8428                      \n",
      "    11     0.40669    0.482661   0.8367                      \n",
      "    12     0.408888   0.545904   0.8125                      \n",
      "    13     0.422298   1.141177   0.6657                      \n",
      "    14     0.406899   0.562071   0.813                       \n",
      "    15     0.375351   0.493089   0.8354                      \n",
      "    16     0.349945   0.489789   0.8348                      \n",
      "    17     0.344171   0.503944   0.8302                      \n",
      "    18     0.318854   0.411504   0.8555                      \n",
      "    19     0.288226   0.40937    0.868                       \n",
      "    20     0.270759   0.329001   0.8894                      \n",
      "    21     0.249928   0.356391   0.8796                      \n",
      "    22     0.231197   0.352933   0.8808                      \n",
      "    23     0.216668   0.315647   0.8949                      \n",
      "    24     0.191811   0.308171   0.899                       \n",
      "    25     0.159217   0.25994    0.9129                      \n",
      "    26     0.139891   0.247011   0.9205                      \n",
      "    27     0.097846   0.252952   0.9177                       \n",
      "    28     0.063471   0.207118   0.934                        \n",
      "    29     0.044031   0.194594   0.9383                       \n",
      "    30     0.038941   0.193462   0.9393                       \n",
      "    31     0.039156   0.19396    0.9398                       \n",
      "    32     0.044044   0.193512   0.9392                       \n",
      "    33     0.038822   0.1929     0.9398                       \n",
      "    34     0.035345   0.194328   0.9392                       \n",
      "CPU times: user 4min 49s, sys: 1min 19s, total: 6min 8s\n",
      "Wall time: 6min 28s\n"
     ]
    },
    {
     "data": {
      "text/plain": [
       "[0.194328125, 0.9392]"
      ]
     },
     "execution_count": 26,
     "metadata": {},
     "output_type": "execute_result"
    }
   ],
   "source": [
    "bs=128\n",
    "sz=32\n",
    "data = torch_loader(PATH, sz, bs, 512)\n",
    "\n",
    "# m = PreActResNet(PreActBlock, [2,2,2,2], concatpool=True)\n",
    "m = ResNet18()\n",
    "m = FP16(m.cuda())\n",
    "learn = Learner.from_model_data(m, data)\n",
    "# learn.half()\n",
    "learn.crit = F.cross_entropy\n",
    "# learn.opt_fn = optim.Adam\n",
    "learn.metrics = [accuracy]\n",
    "wd=5e-4\n",
    "lr=1e-1\n",
    "# learn.clip = 1e-2\n",
    "\n",
    "learn.opt_fn = partial(optim.SGD, nesterov=True, momentum=0.9)\n",
    "\n",
    "%time learn.fit(lr, 1, wds=wd, cycle_len=35, use_clr_beta=(100,14.3,0.90,0.90))"
   ]
  },
  {
   "cell_type": "code",
   "execution_count": 28,
   "metadata": {},
   "outputs": [
    {
     "data": {
      "application/vnd.jupyter.widget-view+json": {
       "model_id": "464b823df9b14264a16473558e4264bb",
       "version_major": 2,
       "version_minor": 0
      },
      "text/plain": [
       "HBox(children=(IntProgress(value=0, description='Epoch', max=35), HTML(value='')))"
      ]
     },
     "metadata": {},
     "output_type": "display_data"
    },
    {
     "name": "stdout",
     "output_type": "stream",
     "text": [
      "epoch      trn_loss   val_loss   accuracy                   \n",
      "    0      1.2747     1.19291    0.5737    \n",
      "    1      0.888567   0.868589   0.6923                      \n",
      "    2      0.724809   0.891212   0.7021                      \n",
      "    3      0.630915   0.691285   0.757                       \n",
      "    4      0.543124   0.594743   0.8008                      \n",
      "    5      0.516967   0.602252   0.7905                      \n",
      "    6      0.480447   0.642488   0.79                        \n",
      "    7      0.440104   0.569189   0.8149                      \n",
      "    8      0.418486   0.608065   0.7954                      \n",
      "    9      0.396477   0.599995   0.7985                      \n",
      "    10     0.398411   0.556121   0.8171                      \n",
      "    11     0.398431   0.505246   0.8311                      \n",
      "    12     0.416029   0.508235   0.8289                      \n",
      "    13     0.406188   0.589437   0.8051                      \n",
      "    14     0.39495    0.744336   0.7565                      \n",
      "    15     0.376392   0.466679   0.8426                      \n",
      "    16     0.344261   0.552691   0.8336                      \n",
      "    17     0.324423   0.458669   0.849                       \n",
      "    18     0.322431   0.45058    0.8546                      \n",
      "    19     0.305505   0.41613    0.8582                      \n",
      "    20     0.262781   0.394051   0.8685                      \n",
      "    21     0.263189   0.368646   0.8773                      \n",
      "    22     0.24238    0.363261   0.8814                      \n",
      "    23     0.206383   0.310085   0.8972                      \n",
      "    24     0.182513   0.272279   0.9079                      \n",
      "    25     0.152824   0.252295   0.9164                      \n",
      "    26     0.122042   0.269113   0.9133                      \n",
      "    27     0.09702    0.223658   0.9275                       \n",
      "    28     0.07812    0.214198   0.9298                       \n",
      "    29     0.045613   0.200563   0.9364                       \n",
      "    30     0.036451   0.19822    0.9378                       \n",
      "    31     0.037673   0.200176   0.9372                       \n",
      "    32     0.034509   0.198579   0.9377                       \n",
      "    33     0.032712   0.198573   0.9377                       \n",
      "    34     0.031882   0.198946   0.9374                       \n",
      "CPU times: user 5min 10s, sys: 1min 8s, total: 6min 19s\n",
      "Wall time: 6min 38s\n"
     ]
    },
    {
     "data": {
      "text/plain": [
       "[0.19894609375, 0.9374]"
      ]
     },
     "execution_count": 28,
     "metadata": {},
     "output_type": "execute_result"
    }
   ],
   "source": [
    "bs=128\n",
    "sz=32\n",
    "data = torch_loader(PATH, sz, bs, 512)\n",
    "\n",
    "m = ResNet18()\n",
    "# m = FP16(m.cuda())\n",
    "learn = Learner.from_model_data(m, data)\n",
    "learn.half()\n",
    "learn.crit = F.cross_entropy\n",
    "# learn.opt_fn = optim.Adam\n",
    "learn.metrics = [accuracy]\n",
    "wd=5e-4\n",
    "lr=1e-1\n",
    "# learn.clip = 1e-2\n",
    "\n",
    "learn.opt_fn = partial(optim.SGD, nesterov=True, momentum=0.9)\n",
    "\n",
    "%time learn.fit(lr, 1, wds=wd, cycle_len=35, use_clr_beta=(100,14.3,0.90,0.90), loss_scale=512)"
   ]
  },
  {
   "cell_type": "code",
   "execution_count": 31,
   "metadata": {},
   "outputs": [
    {
     "data": {
      "application/vnd.jupyter.widget-view+json": {
       "model_id": "68c516ed296749a48e1e2b1ce0255a3a",
       "version_major": 2,
       "version_minor": 0
      },
      "text/plain": [
       "HBox(children=(IntProgress(value=0, description='Epoch', max=35), HTML(value='')))"
      ]
     },
     "metadata": {},
     "output_type": "display_data"
    },
    {
     "name": "stdout",
     "output_type": "stream",
     "text": [
      "epoch      trn_loss   val_loss   accuracy                   \n",
      "    0      1.329509   1.522898   0.4733    \n",
      "    1      0.902979   1.053788   0.6382                      \n",
      "    2      0.686542   0.802638   0.7349                      \n",
      "    3      0.610643   0.753154   0.7436                      \n",
      "    4      0.560054   0.671121   0.7755                      \n",
      "    5      0.530709   0.540418   0.8173                      \n",
      "    6      0.475918   0.555064   0.812                       \n",
      "    7      0.446312   0.514036   0.824                       \n",
      "    8      0.413407   0.484492   0.8362                      \n",
      "    9      0.409139   0.549111   0.8221                      \n",
      "    10     0.399288   0.528391   0.8205                      \n",
      "    11     0.397194   0.547861   0.8169                      \n",
      "    12     0.397329   0.514804   0.8259                      \n",
      "    13     0.401629   0.746559   0.7558                      \n",
      "    14     0.398432   0.538357   0.8236                      \n",
      "    15     0.388937   0.640462   0.8021                      \n",
      "    16     0.363423   0.418456   0.8585                      \n",
      "    17     0.331426   0.411393   0.862                       \n",
      "    18     0.332315   0.477804   0.8396                      \n",
      "    19     0.328206   0.425798   0.8546                      \n",
      "    20     0.277086   0.493781   0.8356                      \n",
      "    21     0.271342   0.327121   0.8889                      \n",
      "    22     0.24373    0.316482   0.8932                      \n",
      "    23     0.216055   0.298638   0.9011                      \n",
      "    24     0.196116   0.309658   0.8982                      \n",
      "    25     0.172127   0.27979    0.9067                      \n",
      "    26     0.148982   0.258484   0.9175                      \n",
      "    27     0.117721   0.240591   0.924                       \n",
      "    28     0.075723   0.210532   0.9336                       \n",
      "    29     0.05801    0.203376   0.9369                       \n",
      "    30     0.038286   0.209982   0.9362                       \n",
      "    31     0.036537   0.202893   0.9386                       \n",
      "    32     0.032312   0.198848   0.939                        \n",
      "    33     0.028627   0.200923   0.9404                       \n",
      "    34     0.030319   0.200209   0.9405                       \n"
     ]
    },
    {
     "data": {
      "text/plain": [
       "[0.20020859375, 0.9405]"
      ]
     },
     "execution_count": 31,
     "metadata": {},
     "output_type": "execute_result"
    }
   ],
   "source": [
    "# m = PreActResNet(PreActBlock, [2,2,2,2], concatpool=True)\n",
    "bs=128\n",
    "sz=32\n",
    "data = torch_loader(PATH, sz, bs, 512)\n",
    "\n",
    "m = ResNet18()\n",
    "m = FP16(m.cuda())\n",
    "learn = Learner.from_model_data(m, data)\n",
    "# learn.half()\n",
    "learn.crit = F.cross_entropy\n",
    "learn.metrics = [accuracy]\n",
    "wd=5e-4\n",
    "lr=1e-1\n",
    "# learn.clip = 1e-1\n",
    "\n",
    "learn.opt_fn = partial(optim.SGD, nesterov=True, momentum=0.9)\n",
    "def_phase = {'opt_fn':learn.opt_fn, 'wds':wd, 'momentum':0.9}\n",
    "\n",
    "phases = [\n",
    "    TrainingPhase(**def_phase, epochs=15, lr=(0, 1e-1), lr_decay=DecayType.LINEAR),\n",
    "    TrainingPhase(**def_phase, epochs=15, lr=(1e-1, 5e-3), lr_decay=DecayType.LINEAR),\n",
    "    TrainingPhase(**def_phase, epochs=5, lr=(5e-3, 0), lr_decay=DecayType.LINEAR),\n",
    "]\n",
    "\n",
    "learn.fit_opt_sched(phases)"
   ]
  },
  {
   "cell_type": "code",
   "execution_count": 6,
   "metadata": {},
   "outputs": [
    {
     "data": {
      "application/vnd.jupyter.widget-view+json": {
       "model_id": "c3ae69a3c34a46a7944cc6f061838626",
       "version_major": 2,
       "version_minor": 0
      },
      "text/plain": [
       "HBox(children=(IntProgress(value=0, description='Epoch', max=35), HTML(value='')))"
      ]
     },
     "metadata": {},
     "output_type": "display_data"
    },
    {
     "name": "stdout",
     "output_type": "stream",
     "text": [
      "epoch      trn_loss   val_loss   accuracy                   \n",
      "    0      1.193835   1.380641   0.5583    \n",
      "    1      0.886903   0.960942   0.6653                      \n",
      "    2      0.740727   1.367592   0.6192                      \n",
      "    3      0.640971   0.719616   0.761                       \n",
      "    4      0.602471   0.721424   0.7614                      \n",
      "    5      0.542221   0.588226   0.8018                      \n",
      "    6      0.489431   0.518414   0.8277                      \n",
      "    7      0.476837   0.641641   0.7979                      \n",
      "    8      0.459692   0.527341   0.8323                      \n",
      "    9      0.424992   0.449134   0.852                       \n",
      "    10     0.414053   0.427053   0.8589                      \n",
      "    11     0.401593   0.420929   0.8696                      \n",
      "    12     0.413319   0.491949   0.8481                      \n",
      "    13     0.373611   0.394425   0.8751                      \n",
      "    14     0.39524    0.561348   0.8352                      \n",
      "    15     0.334657   0.483359   0.8553                      \n",
      "    16     0.320095   0.395959   0.8786                      \n",
      "    17     0.278714   0.405282   0.8693                      \n",
      "    18     0.263784   0.501418   0.8449                      \n",
      "    19     0.222451   0.331411   0.8987                      \n",
      "    20     0.19882    0.358896   0.8941                      \n",
      "    21     0.177208   0.367093   0.8944                      \n",
      "    22     0.163089   0.345464   0.9006                      \n",
      "    23     0.143713   0.306243   0.9178                      \n",
      "    24     0.109118   0.319421   0.917                       \n",
      "    25     0.092465   0.31501    0.9237                       \n",
      "    26     0.082491   0.296605   0.9284                       \n",
      "    27     0.069209   0.272981   0.9304                       \n",
      "    28     0.050945   0.288437   0.9324                       \n",
      "    29     0.040368   0.289278   0.9322                       \n",
      "    30     0.041712   0.289723   0.9352                       \n",
      "    31     0.032621   0.29759    0.9354                       \n",
      "    32     0.033205   0.300753   0.9348                       \n",
      "    33     0.028482   0.2998     0.936                        \n",
      "    34     0.027589   0.304822   0.9362                       \n",
      "\n"
     ]
    },
    {
     "data": {
      "text/plain": [
       "[0.3048224609375, 0.9361999992370605]"
      ]
     },
     "execution_count": 6,
     "metadata": {},
     "output_type": "execute_result"
    }
   ],
   "source": [
    "# m = PreActResNet(PreActBlock, [2,2,2,2], concatpool=True)\n",
    "bs=128\n",
    "sz=32\n",
    "data = torch_loader(PATH, sz, bs, 512)\n",
    "\n",
    "m = ResNet18()\n",
    "# m = FP16(m.cuda())\n",
    "learn = Learner.from_model_data(m, data)\n",
    "learn.half()\n",
    "learn.crit = F.cross_entropy\n",
    "learn.metrics = [accuracy]\n",
    "wd=5e-4\n",
    "lr=1e-1\n",
    "\n",
    "learn.opt_fn = partial(optim.Adam, betas=(0.95,0.99))\n",
    "# learn.opt_fn = partial(optim.SGD, nesterov=True, momentum=0.9)\n",
    "def_phase = {'opt_fn':learn.opt_fn, 'wds':wd, 'momentum':0.9, 'wd_loss':False}\n",
    "\n",
    "phases = [\n",
    "    TrainingPhase(**def_phase, epochs=15, lr=(0, 1e-2), lr_decay=DecayType.LINEAR),\n",
    "    TrainingPhase(**def_phase, epochs=15, lr=(1e-2, 5e-4), lr_decay=DecayType.LINEAR),\n",
    "    TrainingPhase(**def_phase, epochs=5, lr=(5e-4, 0), lr_decay=DecayType.LINEAR),\n",
    "]\n",
    "\n",
    "learn.fit_opt_sched(phases, loss_scale=512)"
   ]
  },
  {
   "cell_type": "code",
   "execution_count": 7,
   "metadata": {},
   "outputs": [
    {
     "data": {
      "application/vnd.jupyter.widget-view+json": {
       "model_id": "b3f328cfac1b4be0a591e6c114352aa5",
       "version_major": 2,
       "version_minor": 0
      },
      "text/plain": [
       "HBox(children=(IntProgress(value=0, description='Epoch', max=35), HTML(value='')))"
      ]
     },
     "metadata": {},
     "output_type": "display_data"
    },
    {
     "name": "stdout",
     "output_type": "stream",
     "text": [
      "epoch      trn_loss   val_loss   accuracy                   \n",
      "    0      1.335187   1.330797   0.5261    \n",
      "    1      0.903154   1.175976   0.6239                      \n",
      "    2      0.697579   0.859441   0.7068                      \n",
      "    3      0.617345   0.688294   0.7681                      \n",
      "    4      0.54431    0.667852   0.7777                      \n",
      "    5      0.506484   0.727519   0.7642                      \n",
      "    6      0.462892   0.566889   0.8142                      \n",
      "    7      0.438791   0.584247   0.8032                      \n",
      "    8      0.398821   0.487334   0.8378                      \n",
      "    9      0.416481   0.542059   0.8148                      \n",
      "    10     0.383543   0.603065   0.8082                      \n",
      "    11     0.39248    0.571745   0.8093                      \n",
      "    12     0.392802   0.460843   0.8412                      \n",
      "    13     0.396443   0.656773   0.7822                      \n",
      "    14     0.385222   0.676533   0.7788                      \n",
      "    15     0.3703     0.518551   0.8271                      \n",
      "    16     0.348577   0.439958   0.8547                      \n",
      "    17     0.34039    0.535195   0.8324                      \n",
      "    18     0.333376   0.37209    0.8769                      \n",
      "    19     0.297143   0.385741   0.8712                      \n",
      "    20     0.27821    0.360409   0.876                       \n",
      "    21     0.265189   0.361971   0.8776                      \n",
      "    22     0.243265   0.387741   0.8693                      \n",
      "    23     0.217914   0.299226   0.8962                      \n",
      "    24     0.185105   0.351678   0.8892                      \n",
      "    25     0.167254   0.266967   0.9115                      \n",
      "    26     0.138115   0.286184   0.9049                      \n",
      "    27     0.108262   0.243099   0.9195                      \n",
      "    28     0.078203   0.21953    0.9284                       \n",
      "    29     0.053458   0.202782   0.9361                       \n",
      "    30     0.038367   0.19609    0.9377                       \n",
      "    31     0.03366    0.196733   0.9399                       \n",
      "    32     0.029534   0.19942    0.9393                       \n",
      "    33     0.027079   0.19744    0.9393                       \n",
      "    34     0.025204   0.199013   0.9412                       \n",
      "\n"
     ]
    },
    {
     "data": {
      "text/plain": [
       "[0.19901279296875, 0.9412000007629394]"
      ]
     },
     "execution_count": 7,
     "metadata": {},
     "output_type": "execute_result"
    }
   ],
   "source": [
    "# m = PreActResNet(PreActBlock, [2,2,2,2], concatpool=True)\n",
    "bs=128\n",
    "sz=32\n",
    "data = torch_loader(PATH, sz, bs, 512)\n",
    "\n",
    "m = ResNet18()\n",
    "# m = FP16(m.cuda())\n",
    "learn = Learner.from_model_data(m, data)\n",
    "learn.half()\n",
    "learn.crit = F.cross_entropy\n",
    "learn.metrics = [accuracy]\n",
    "wd=5e-4\n",
    "lr=1e-1\n",
    "# learn.clip = 1e-1\n",
    "\n",
    "learn.opt_fn = partial(optim.SGD, nesterov=True, momentum=0.9)\n",
    "def_phase = {'opt_fn':learn.opt_fn, 'wds':wd, 'momentum':0.9}\n",
    "\n",
    "phases = [\n",
    "    TrainingPhase(**def_phase, epochs=15, lr=(0, 1e-1), lr_decay=DecayType.LINEAR),\n",
    "    TrainingPhase(**def_phase, epochs=15, lr=(1e-1, 5e-3), lr_decay=DecayType.LINEAR),\n",
    "    TrainingPhase(**def_phase, epochs=5, lr=(5e-3, 0), lr_decay=DecayType.LINEAR),\n",
    "]\n",
    "\n",
    "learn.fit_opt_sched(phases)"
   ]
  },
  {
   "cell_type": "code",
   "execution_count": 9,
   "metadata": {},
   "outputs": [
    {
     "data": {
      "application/vnd.jupyter.widget-view+json": {
       "model_id": "f30c6ba122a344288ad6a23fd4677bb5",
       "version_major": 2,
       "version_minor": 0
      },
      "text/plain": [
       "HBox(children=(IntProgress(value=0, description='Epoch', max=35), HTML(value='')))"
      ]
     },
     "metadata": {},
     "output_type": "display_data"
    },
    {
     "name": "stdout",
     "output_type": "stream",
     "text": [
      "epoch      trn_loss   val_loss   accuracy                   \n",
      "    0      1.457488   1.71373    0.4152    \n",
      "    1      0.966411   0.963982   0.6578                      \n",
      "    2      0.738733   1.801316   0.5395                      \n",
      "    3      0.621506   0.795817   0.729                       \n",
      "    4      0.5615     0.999854   0.6842                      \n",
      "    5      0.511964   0.680597   0.7854                      \n",
      "    6      0.467486   0.71167    0.7752                      \n",
      "    7      0.435532   0.800541   0.735                       \n",
      "    8      0.421249   0.522391   0.821                       \n",
      "    9      0.402093   0.53376    0.815                       \n",
      "    10     0.389418   0.57428    0.808                       \n",
      "    11     0.383652   1.300812   0.6537                      \n",
      "    12     0.391248   0.650075   0.7725                      \n",
      "    13     0.396706   0.560287   0.8117                      \n",
      "    14     0.392282   0.663113   0.7829                      \n",
      "    15     0.364467   0.876915   0.7564                      \n",
      "    16     0.351307   0.545868   0.8248                      \n",
      "    17     0.31769    0.928659   0.7463                      \n",
      "    18     0.308329   0.79837    0.7462                      \n",
      "    19     0.290387   0.457343   0.8488                      \n",
      "    20     0.266548   0.379617   0.8709                      \n",
      "    21     0.247063   0.42981    0.8594                      \n",
      "    22     0.230455   0.317846   0.8919                      \n",
      "    23     0.216581   0.389389   0.8719                      \n",
      "    24     0.192912   0.323071   0.8863                      \n",
      "    25     0.167164   0.307404   0.9                         \n",
      "    26     0.139973   0.307504   0.9027                      \n",
      "    27     0.109499   0.244651   0.9222                      \n",
      "    28     0.082985   0.23635    0.9237                       \n",
      "    29     0.056153   0.202642   0.9355                       \n",
      "    30     0.041777   0.208773   0.9367                       \n",
      "    31     0.034818   0.201723   0.9399                       \n",
      "    32     0.032401   0.20474    0.9395                       \n",
      "    33     0.030092   0.205031   0.9415                       \n",
      "    34     0.025561   0.202588   0.9412                       \n",
      "\n"
     ]
    },
    {
     "data": {
      "text/plain": [
       "[0.202587890625, 0.9411999994277954]"
      ]
     },
     "execution_count": 9,
     "metadata": {},
     "output_type": "execute_result"
    }
   ],
   "source": [
    "# m = PreActResNet(PreActBlock, [2,2,2,2], concatpool=True)\n",
    "bs=256\n",
    "sz=32\n",
    "data = torch_loader(PATH, sz, bs, 512)\n",
    "\n",
    "m = ResNet18()\n",
    "m = FP16(m.cuda())\n",
    "learn = Learner.from_model_data(m, data)\n",
    "# learn.half()\n",
    "learn.crit = F.cross_entropy\n",
    "learn.metrics = [accuracy]\n",
    "wd=5e-4\n",
    "lr=1e-1\n",
    "# learn.clip = 1e-1\n",
    "\n",
    "learn.opt_fn = partial(optim.SGD, nesterov=True, momentum=0.9)\n",
    "def_phase = {'opt_fn':learn.opt_fn, 'wds':wd, 'momentum':0.9}\n",
    "\n",
    "phases = [\n",
    "    TrainingPhase(**def_phase, epochs=15, lr=(0, 2e-1), lr_decay=DecayType.LINEAR),\n",
    "    TrainingPhase(**def_phase, epochs=15, lr=(2e-1, 1e-2), lr_decay=DecayType.LINEAR),\n",
    "    TrainingPhase(**def_phase, epochs=5, lr=(1e-2, 0), lr_decay=DecayType.LINEAR),\n",
    "]\n",
    "\n",
    "learn.fit_opt_sched(phases)"
   ]
  },
  {
   "cell_type": "code",
   "execution_count": 8,
   "metadata": {},
   "outputs": [
    {
     "data": {
      "application/vnd.jupyter.widget-view+json": {
       "model_id": "45be5e969a69466886974ed333ad0dca",
       "version_major": 2,
       "version_minor": 0
      },
      "text/plain": [
       "HBox(children=(IntProgress(value=0, description='Epoch', max=35), HTML(value='')))"
      ]
     },
     "metadata": {},
     "output_type": "display_data"
    },
    {
     "name": "stdout",
     "output_type": "stream",
     "text": [
      "epoch      trn_loss   val_loss   accuracy                   \n",
      "    0      1.536153   1.401181   0.4821    \n",
      "    1      1.003632   1.084194   0.632                      \n",
      "    2      0.764579   1.343657   0.6293                      \n",
      "    3      0.651127   0.805391   0.7268                      \n",
      "    4      0.559198   0.788098   0.7416                      \n",
      "    5      0.509628   0.832561   0.7223                      \n",
      "    6      0.472351   0.616622   0.7888                      \n",
      "    7      0.441059   0.840492   0.7253                      \n",
      "    8      0.425966   0.654463   0.7837                      \n",
      "    9      0.413898   1.206025   0.6127                      \n",
      "    10     0.412286   1.233033   0.677                       \n",
      "    11     0.390036   1.123402   0.672                       \n",
      "    12     0.394758   0.848255   0.7399                      \n",
      "    13     0.395455   0.914447   0.7052                      \n",
      "    14     0.389471   0.859967   0.7415                      \n",
      "    15     0.382906   0.580234   0.8123                      \n",
      "    16     0.360104   0.895469   0.7209                      \n",
      "    17     0.350893   0.644005   0.799                       \n",
      "    18     0.344951   1.107097   0.6857                      \n",
      "    19     0.330105   0.781244   0.7628                      \n",
      "    20     0.315692   0.487931   0.8354                      \n",
      "    21     0.308857   0.983497   0.7155                      \n",
      "    22     0.299592   0.59301    0.8179                      \n",
      "    23     0.284272   0.537376   0.8321                      \n",
      "    24     0.258424   0.404062   0.8632                      \n",
      "    25     0.253335   0.50848    0.8304                      \n",
      "    26     0.228092   0.358704   0.8829                      \n",
      "    27     0.210061   0.367049   0.8838                      \n",
      "    28     0.167036   0.265817   0.9097                      \n",
      "    29     0.133086   0.236891   0.9195                      \n",
      "    30     0.074621   0.202636   0.9344                       \n",
      "    31     0.059449   0.196853   0.9352                       \n",
      "    32     0.049847   0.201722   0.9358                       \n",
      "    33     0.040995   0.196278   0.937                        \n",
      "    34     0.036294   0.196748   0.9368                       \n",
      "\n"
     ]
    },
    {
     "data": {
      "text/plain": [
       "[0.1967482421875, 0.936799999332428]"
      ]
     },
     "execution_count": 8,
     "metadata": {},
     "output_type": "execute_result"
    }
   ],
   "source": [
    "# m = PreActResNet(PreActBlock, [2,2,2,2], concatpool=True)\n",
    "bs=256\n",
    "sz=32\n",
    "data = torch_loader(PATH, sz, bs, 512)\n",
    "\n",
    "m = ResNet18()\n",
    "m = FP16(m.cuda())\n",
    "learn = Learner.from_model_data(m, data)\n",
    "# learn.half()\n",
    "learn.crit = F.cross_entropy\n",
    "learn.metrics = [accuracy]\n",
    "wd=5e-4\n",
    "lr=1e-1\n",
    "# learn.clip = 1e-1\n",
    "\n",
    "learn.opt_fn = partial(optim.SGD, nesterov=True, momentum=0.9)\n",
    "def_phase = {'opt_fn':learn.opt_fn, 'wds':wd}\n",
    "\n",
    "phases = [\n",
    "    TrainingPhase(**def_phase, epochs=2, lr=(2e-4, 2e-2), lr_decay=DecayType.LINEAR, momentum=(0.85,0.95), momentum_decay=DecayType.LINEAR, wd_loss=False),\n",
    "    TrainingPhase(**def_phase, epochs=13, lr=(2e-2, 3e-1), lr_decay=DecayType.LINEAR, momentum=(0.95,0.85), momentum_decay=DecayType.LINEAR),\n",
    "    TrainingPhase(**def_phase, epochs=15, lr=(3e-1, 2e-2), lr_decay=DecayType.LINEAR, momentum=(0.85,0.95), momentum_decay=DecayType.LINEAR),\n",
    "    TrainingPhase(**def_phase, epochs=5, lr=(2e-2, 0), lr_decay=DecayType.LINEAR, momentum=0.9),\n",
    "]\n",
    "\n",
    "learn.fit_opt_sched(phases)"
   ]
  },
  {
   "cell_type": "code",
   "execution_count": null,
   "metadata": {},
   "outputs": [],
   "source": [
    "# m = PreActResNet(PreActBlock, [2,2,2,2], concatpool=True)\n",
    "bs=256\n",
    "sz=32\n",
    "data = torch_loader(PATH, sz, bs, 512)\n",
    "\n",
    "m = ResNet18()\n",
    "m = FP16(m.cuda())\n",
    "learn = Learner.from_model_data(m, data)\n",
    "# learn.half()\n",
    "learn.crit = F.cross_entropy\n",
    "learn.metrics = [accuracy]\n",
    "wd=5e-4\n",
    "lr=1e-1\n",
    "# learn.clip = 1e-1\n",
    "\n",
    "learn.opt_fn = partial(optim.SGD, nesterov=True, momentum=0.9)\n",
    "def_phase = {'opt_fn':learn.opt_fn, 'wds':wd}\n",
    "\n",
    "phases = [\n",
    "    TrainingPhase(**def_phase, epochs=2, lr=(2e-4, 2e-2), lr_decay=DecayType.LINEAR, momentum=0.95, wd_loss=False),\n",
    "    TrainingPhase(**def_phase, epochs=13, lr=(2e-2, 3e-1), lr_decay=DecayType.LINEAR, momentum=(0.95,0.85), momentum_decay=DecayType.LINEAR),\n",
    "    TrainingPhase(**def_phase, epochs=15, lr=(3e-1, 2e-2), lr_decay=DecayType.LINEAR, momentum=(0.85,0.95), momentum_decay=DecayType.LINEAR),\n",
    "    TrainingPhase(**def_phase, epochs=5, lr=(2e-2, 0), lr_decay=DecayType.LINEAR, momentum=0.9),\n",
    "]\n",
    "\n",
    "learn.fit_opt_sched(phases)"
   ]
  },
  {
   "cell_type": "markdown",
   "metadata": {},
   "source": [
    "## End"
   ]
  },
  {
   "cell_type": "code",
   "execution_count": 11,
   "metadata": {},
   "outputs": [
    {
     "data": {
      "application/vnd.jupyter.widget-view+json": {
       "model_id": "e2fe70c66a5b45f7978a092ad186d3cc",
       "version_major": 2,
       "version_minor": 0
      },
      "text/plain": [
       "HBox(children=(IntProgress(value=0, description='Epoch', max=36), HTML(value='')))"
      ]
     },
     "metadata": {},
     "output_type": "display_data"
    },
    {
     "name": "stdout",
     "output_type": "stream",
     "text": [
      "epoch      trn_loss   val_loss   accuracy                 \n",
      "    0      1.363767   1.595159   0.4756    \n",
      "    1      1.001313   0.922784   0.6793                   \n",
      "    2      0.787941   0.865459   0.7202                    \n",
      "    3      0.649262   0.781792   0.7556                    \n",
      "    4      0.570498   0.774159   0.7502                    \n",
      "    5      0.539607   0.549535   0.8092                    \n",
      "    6      0.484748   0.624294   0.8051                    \n",
      "    7      0.471151   0.768497   0.765                     \n",
      "    8      0.416257   0.537847   0.8307                    \n",
      "    9      0.394807   0.562192   0.821                     \n",
      "    10     0.375007   0.647868   0.8019                    \n",
      "    11     0.344601   0.550486   0.8347                    \n",
      "    12     0.323932   0.475995   0.8505                    \n",
      "    13     0.329583   0.52175    0.8354                    \n",
      "    14     0.31957    0.438821   0.8553                    \n",
      "    15     0.305116   0.559102   0.8372                    \n",
      "    16     0.286493   0.439159   0.8601                    \n",
      "    17     0.249785   0.400563   0.8735                    \n",
      "    18     0.207522   0.383082   0.8854                    \n",
      "    19     0.186004   0.389254   0.8818                    \n",
      "    20     0.161273   0.341132   0.8942                    \n",
      "    21     0.138881   0.327933   0.9012                    \n",
      "    22     0.113395   0.338357   0.9036                    \n",
      "    23     0.090237   0.307435   0.9146                     \n",
      "    24     0.072267   0.330875   0.9149                     \n",
      "    25     0.055778   0.3013     0.9235                     \n",
      "    26     0.043774   0.302683   0.9257                     \n",
      "    27     0.033065   0.290359   0.9315                     \n",
      "    28     0.028952   0.304002   0.9315                     \n",
      "    29     0.026034   0.312725   0.9279                     \n",
      "    30     0.02203    0.309219   0.9292                     \n",
      "    31     0.020229   0.312807   0.93                       \n",
      "    32     0.015529   0.319827   0.9322                     \n",
      "    33     0.013816   0.310835   0.9338                     \n",
      "    34     0.010422   0.316577   0.9334                     \n",
      "    35     0.009477   0.316086   0.9344                      \n"
     ]
    },
    {
     "data": {
      "text/plain": [
       "[0.3160857421875, 0.9343999992370605]"
      ]
     },
     "execution_count": 11,
     "metadata": {},
     "output_type": "execute_result"
    }
   ],
   "source": [
    "m = PreActResNet(PreActBlock, [2,2,2,2], concatpool=True)\n",
    "learn = Learner.from_model_data(m, data)\n",
    "learn.half()\n",
    "learn.crit = nn.CrossEntropyLoss()\n",
    "learn.opt_fn = optim.Adam\n",
    "learn.metrics = [accuracy]\n",
    "wd=5e-4\n",
    "lr=1e-3\n",
    "learn.clip = 3e-1\n",
    "\n",
    "def_phase = {'opt_fn':optim.Adam, 'wds':wd}\n",
    "\n",
    "phases = [\n",
    "    TrainingPhase(**def_phase, epochs=4, lr=(2e-4, 2e-3), lr_decay=DecayType.LINEAR, momentum=(0.85,0.95), momentum_decay=DecayType.LINEAR, wd_loss=False),\n",
    "    TrainingPhase(**def_phase, epochs=12, lr=(2e-3,1e-2), lr_decay=DecayType.LINEAR, momentum=(0.95,0.85), momentum_decay=DecayType.LINEAR, wd_loss=False),\n",
    "    TrainingPhase(**def_phase, epochs=12, lr=(1e-2,1e-3), lr_decay=DecayType.LINEAR, momentum=(0.85,0.95), momentum_decay=DecayType.LINEAR, wd_loss=False),\n",
    "    TrainingPhase(**def_phase, epochs=8, lr=(2e-3,1e-5), lr_decay=DecayType.LINEAR, momentum=(0.95,0.98), momentum_decay=DecayType.LINEAR, wd_loss=False)\n",
    "]\n",
    "\n",
    "learn.fit_opt_sched(phases, loss_scale=512)"
   ]
  },
  {
   "cell_type": "code",
   "execution_count": 12,
   "metadata": {},
   "outputs": [
    {
     "data": {
      "application/vnd.jupyter.widget-view+json": {
       "model_id": "122a92962b694878a5f2aa23c2de5e55",
       "version_major": 2,
       "version_minor": 0
      },
      "text/plain": [
       "HBox(children=(IntProgress(value=0, description='Epoch', max=26), HTML(value='')))"
      ]
     },
     "metadata": {},
     "output_type": "display_data"
    },
    {
     "name": "stdout",
     "output_type": "stream",
     "text": [
      "epoch      trn_loss   val_loss   accuracy                 \n",
      "    0      1.385607   1.363083   0.5145    \n",
      "    1      1.024889   0.879162   0.6905                   \n",
      "    2      0.808296   1.169448   0.6329                    \n",
      "    3      0.729795   0.942604   0.7002                    \n",
      "    4      0.639521   0.875191   0.7463                    \n",
      "    5      0.581581   0.718402   0.767                     \n",
      "    6      0.49972    0.558439   0.8098                    \n",
      "    7      0.451277   0.627019   0.8024                    \n",
      "    8      0.429229   0.698843   0.7861                    \n",
      "    9      0.402212   0.631139   0.8025                    \n",
      "    10     0.395549   0.624191   0.8094                    \n",
      "    11     0.362797   0.429608   0.8588                    \n",
      "    12     0.318759   0.488911   0.8444                    \n",
      "    13     0.293611   0.679577   0.8043                    \n",
      "    14     0.243972   0.353321   0.8891                    \n",
      "    15     0.209429   0.327424   0.8963                    \n",
      "    16     0.176766   0.383455   0.8914                    \n",
      "    17     0.146184   0.308746   0.9105                    \n",
      "    18     0.113922   0.291652   0.9143                    \n",
      "    19     0.093204   0.296543   0.9144                     \n",
      "    20     0.071952   0.27466    0.9226                     \n",
      "    21     0.053449   0.271887   0.9259                     \n",
      "    22     0.040666   0.272802   0.9269                     \n",
      "    23     0.034151   0.277155   0.9294                     \n",
      "    24     0.02957    0.275504   0.9294                     \n",
      "    25     0.026432   0.275718   0.9292                     \n"
     ]
    },
    {
     "data": {
      "text/plain": [
       "[0.275718359375, 0.9292000005722046]"
      ]
     },
     "execution_count": 12,
     "metadata": {},
     "output_type": "execute_result"
    }
   ],
   "source": [
    "m = PreActResNet(PreActBlock, [2,2,2,2], concatpool=True)\n",
    "learn = Learner.from_model_data(m, data)\n",
    "learn.half()\n",
    "learn.crit = nn.CrossEntropyLoss()\n",
    "learn.opt_fn = optim.Adam\n",
    "learn.metrics = [accuracy]\n",
    "wd=5e-4\n",
    "lr=1e-3\n",
    "learn.clip = 3e-1\n",
    "\n",
    "def_phase = {'opt_fn':optim.Adam, 'wds':wd}\n",
    "\n",
    "phases = [\n",
    "    TrainingPhase(**def_phase, epochs=2, lr=(1e-4, 1e-3), lr_decay=DecayType.LINEAR, momentum=(0.85,0.95), momentum_decay=DecayType.LINEAR, wd_loss=False),\n",
    "    TrainingPhase(**def_phase, epochs=10, lr=(1e-3,1e-2), lr_decay=DecayType.LINEAR, momentum=(0.95,0.85), momentum_decay=DecayType.LINEAR, wd_loss=False),\n",
    "    TrainingPhase(**def_phase, epochs=10, lr=(1e-2,1e-3), lr_decay=DecayType.LINEAR, momentum=(0.85,0.95), momentum_decay=DecayType.LINEAR, wd_loss=False),\n",
    "    TrainingPhase(**def_phase, epochs=4, lr=(1e-3,1e-5), lr_decay=DecayType.LINEAR, momentum=(0.95,0.98), momentum_decay=DecayType.LINEAR, wd_loss=False)\n",
    "]\n",
    "\n",
    "learn.fit_opt_sched(phases, loss_scale=512)"
   ]
  },
  {
   "cell_type": "code",
   "execution_count": 13,
   "metadata": {},
   "outputs": [
    {
     "data": {
      "application/vnd.jupyter.widget-view+json": {
       "model_id": "10b1ca1d4c00488aba75fccc23a13e7b",
       "version_major": 2,
       "version_minor": 0
      },
      "text/plain": [
       "HBox(children=(IntProgress(value=0, description='Epoch', max=26), HTML(value='')))"
      ]
     },
     "metadata": {},
     "output_type": "display_data"
    },
    {
     "name": "stdout",
     "output_type": "stream",
     "text": [
      "epoch      trn_loss   val_loss   accuracy                 \n",
      "    0      1.39152    1.384927   0.5049    \n",
      "    1      1.041892   1.243269   0.6059                   \n",
      "    2      0.833334   1.301756   0.6103                    \n",
      "    3      0.712717   1.701808   0.6028                    \n",
      "    4      0.639045   0.870062   0.7297                    \n",
      "    5      0.584971   1.055894   0.6945                    \n",
      "    6      0.543946   1.704528   0.5536                    \n",
      "    7      0.502533   0.62875    0.7912                    \n",
      "    8      0.475635   1.346383   0.6406                    \n",
      "    9      0.442807   0.727152   0.7813                    \n",
      "    10     0.417998   0.577285   0.8135                    \n",
      "    11     0.394024   0.572717   0.8329                    \n",
      "    12     0.371518   0.580019   0.8132                    \n",
      "    13     0.316766   0.519292   0.8473                    \n",
      "    14     0.284408   0.460306   0.8616                    \n",
      "    15     0.251325   0.473588   0.8668                    \n",
      "    16     0.211655   0.373259   0.8827                    \n",
      "    17     0.179394   0.322365   0.9044                    \n",
      "    18     0.148858   0.33093    0.9048                    \n",
      "    19     0.119079   0.304394   0.9134                    \n",
      "    20     0.094301   0.298735   0.9233                     \n",
      "    21     0.066672   0.274212   0.927                      \n",
      "    22     0.051566   0.284949   0.9302                     \n",
      "    23     0.041909   0.272507   0.9316                     \n",
      "    24     0.036576   0.277487   0.9315                     \n",
      "    25     0.034194   0.27782    0.9321                     \n"
     ]
    },
    {
     "data": {
      "text/plain": [
       "[0.27781953125, 0.9320999994277954]"
      ]
     },
     "execution_count": 13,
     "metadata": {},
     "output_type": "execute_result"
    }
   ],
   "source": [
    "m = PreActResNet(PreActBlock, [2,2,2,2], concatpool=True)\n",
    "learn = Learner.from_model_data(m, data)\n",
    "learn.half()\n",
    "learn.crit = nn.CrossEntropyLoss()\n",
    "# learn.opt_fn = optim.Adam\n",
    "learn.metrics = [accuracy]\n",
    "wd=5e-4\n",
    "lr=1e-3\n",
    "learn.clip = 3e-1\n",
    "\n",
    "learn.opt_fn = partial(optim.Adam, betas=(0.95,0.99))\n",
    "def_phase = {'opt_fn':partial(optim.Adam, betas=(0.95,0.99)), 'wds':wd}\n",
    "\n",
    "phases = [\n",
    "    TrainingPhase(**def_phase, epochs=2, lr=(1e-4, 1e-3), lr_decay=DecayType.LINEAR, momentum=(0.85,0.95), momentum_decay=DecayType.LINEAR, wd_loss=False),\n",
    "    TrainingPhase(**def_phase, epochs=10, lr=(1e-3,1e-2), lr_decay=DecayType.LINEAR, momentum=(0.95,0.85), momentum_decay=DecayType.LINEAR, wd_loss=False),\n",
    "    TrainingPhase(**def_phase, epochs=10, lr=(1e-2,1e-3), lr_decay=DecayType.LINEAR, momentum=(0.85,0.95), momentum_decay=DecayType.LINEAR, wd_loss=False),\n",
    "    TrainingPhase(**def_phase, epochs=4, lr=(1e-3,1e-5), lr_decay=DecayType.LINEAR, momentum=(0.95,0.98), momentum_decay=DecayType.LINEAR, wd_loss=False)\n",
    "]\n",
    "\n",
    "learn.fit_opt_sched(phases, loss_scale=512)"
   ]
  },
  {
   "cell_type": "code",
   "execution_count": 14,
   "metadata": {},
   "outputs": [
    {
     "data": {
      "image/png": "[encoded data removed]",
      "text/plain": [
       "<Figure size 864x288 with 2 Axes>"
      ]
     },
     "metadata": {},
     "output_type": "display_data"
    }
   ],
   "source": [
    "learn.sched.plot_lr()"
   ]
  },
  {
   "cell_type": "code",
   "execution_count": null,
   "metadata": {},
   "outputs": [],
   "source": [
    "learn.load('att6-tta')"
   ]
  },
  {
   "cell_type": "code",
   "execution_count": null,
   "metadata": {},
   "outputs": [],
   "source": [
    "phases = [TrainingPhase(**def_phase, epochs=4, lr=(.04,.001), lr_decay=DecayType.LINEAR, momentum=(0.95))]\n",
    "learn.fit_opt_sched(phases, data_list=[data], loss_scale=512)"
   ]
  },
  {
   "cell_type": "code",
   "execution_count": null,
   "metadata": {},
   "outputs": [],
   "source": [
    "tta_data = torch_loader(PATH, sz, prefetcher=False)"
   ]
  },
  {
   "cell_type": "code",
   "execution_count": null,
   "metadata": {},
   "outputs": [],
   "source": [
    "learn.data_ = tta_data"
   ]
  },
  {
   "cell_type": "code",
   "execution_count": null,
   "metadata": {},
   "outputs": [],
   "source": [
    "get_TTA_accuracy(learn)"
   ]
  },
  {
   "cell_type": "code",
   "execution_count": null,
   "metadata": {},
   "outputs": [],
   "source": [
    "get_TTA_accuracy_2(learn)"
   ]
  }
 ],
 "metadata": {
  "kernelspec": {
   "display_name": "Python 3",
   "language": "python",
   "name": "python3"
  },
  "language_info": {
   "codemirror_mode": {
    "name": "ipython",
    "version": 3
   },
   "file_extension": ".py",
   "mimetype": "text/x-python",
   "name": "python",
   "nbconvert_exporter": "python",
   "pygments_lexer": "ipython3",
   "version": "3.6.5"
  },
  "toc": {
   "colors": {
    "hover_highlight": "#DAA520",
    "navigate_num": "#000000",
    "navigate_text": "#333333",
    "running_highlight": "#FF0000",
    "selected_highlight": "#FFD700",
    "sidebar_border": "#EEEEEE",
    "wrapper_background": "#FFFFFF"
   },
   "moveMenuLeft": true,
   "nav_menu": {
    "height": "266px",
    "width": "252px"
   },
   "navigate_menu": true,
   "number_sections": true,
   "sideBar": true,
   "threshold": 4,
   "toc_cell": false,
   "toc_section_display": "block",
   "toc_window_display": false,
   "widenNotebook": false
  }
 },
 "nbformat": 4,
 "nbformat_minor": 2
}
