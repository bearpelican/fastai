{
 "cells": [
  {
   "cell_type": "markdown",
   "metadata": {},
   "source": [
    "## CIFAR 10"
   ]
  },
  {
   "cell_type": "code",
   "execution_count": 1,
   "metadata": {},
   "outputs": [],
   "source": [
    "%matplotlib inline\n",
    "%reload_ext autoreload\n",
    "%autoreload 2"
   ]
  },
  {
   "cell_type": "code",
   "execution_count": 2,
   "metadata": {},
   "outputs": [],
   "source": [
    "from fastai.conv_learner import *\n",
    "from fastai.models.cifar10.wideresnet import wrn_22_cat, wrn_22\n",
    "torch.backends.cudnn.benchmark = True\n",
    "PATH = Path(\"data/cifar10/\")\n",
    "os.makedirs(PATH,exist_ok=True)"
   ]
  },
  {
   "cell_type": "code",
   "execution_count": 3,
   "metadata": {},
   "outputs": [],
   "source": [
    "classes = ('plane', 'car', 'bird', 'cat', 'deer', 'dog', 'frog', 'horse', 'ship', 'truck')\n",
    "stats = (np.array([ 0.4914 ,  0.48216,  0.44653]), np.array([ 0.24703,  0.24349,  0.26159]))\n",
    "\n",
    "bs=512\n",
    "sz=32\n",
    "workers=7"
   ]
  },
  {
   "cell_type": "code",
   "execution_count": 4,
   "metadata": {},
   "outputs": [],
   "source": [
    "import torchvision.transforms as transforms\n",
    "import torchvision.datasets as datasets\n",
    "\n",
    "def pad(img, p=4, padding_mode='reflect'):\n",
    "    return Image.fromarray(np.pad(np.asarray(img), ((p, p), (p, p), (0, 0)), padding_mode))\n",
    "\n",
    "def torch_loader(data_path, size):\n",
    "    if not os.path.exists(data_path+'/train'): download_cifar10(data_path)\n",
    "\n",
    "    # Data loading code\n",
    "    traindir = os.path.join(data_path, 'train')\n",
    "    valdir = os.path.join(data_path, 'test')\n",
    "    normalize = transforms.Normalize(mean=[0.4914 , 0.48216, 0.44653], std=[0.24703, 0.24349, 0.26159])\n",
    "    tfms = [transforms.ToTensor(), normalize]\n",
    "\n",
    "    train_tfms = transforms.Compose([\n",
    "        pad, # TODO: use `padding` rather than assuming 4\n",
    "        transforms.RandomCrop(size),\n",
    "        transforms.RandomHorizontalFlip(),\n",
    "    ] + tfms)\n",
    "    val_tfms = transforms.Compose(tfms)\n",
    "\n",
    "    train_dataset = datasets.ImageFolder(traindir, train_tfms)\n",
    "    val_dataset = datasets.ImageFolder(valdir, val_tfms)\n",
    "\n",
    "    train_loader = torch.utils.data.DataLoader(\n",
    "        train_dataset, batch_size=bs, shuffle=True,\n",
    "        num_workers=workers, pin_memory=True)\n",
    "\n",
    "    val_loader = torch.utils.data.DataLoader(\n",
    "        val_dataset, batch_size=bs*2, shuffle=False,\n",
    "        num_workers=workers, pin_memory=True)\n",
    "\n",
    "    train_loader = DataPrefetcher(train_loader)\n",
    "    val_loader = DataPrefetcher(val_loader)\n",
    "    \n",
    "    data = ModelData(data_path, train_loader, val_loader)\n",
    "    return data\n",
    "\n",
    "# Seems to speed up training by ~2%\n",
    "class DataPrefetcher():\n",
    "    def __init__(self, loader, stop_after=None):\n",
    "        self.loader = loader\n",
    "        self.dataset = loader.dataset\n",
    "        self.stream = torch.cuda.Stream()\n",
    "        self.stop_after = stop_after\n",
    "        self.next_input = None\n",
    "        self.next_target = None\n",
    "\n",
    "    def __len__(self):\n",
    "        return len(self.loader)\n",
    "\n",
    "    def preload(self):\n",
    "        try:\n",
    "            self.next_input, self.next_target = next(self.loaditer)\n",
    "        except StopIteration:\n",
    "            self.next_input = None\n",
    "            self.next_target = None\n",
    "            return\n",
    "        with torch.cuda.stream(self.stream):\n",
    "            self.next_input = self.next_input.cuda(async=True)\n",
    "            self.next_target = self.next_target.cuda(async=True)\n",
    "\n",
    "    def __iter__(self):\n",
    "        count = 0\n",
    "        self.loaditer = iter(self.loader)\n",
    "        self.preload()\n",
    "        while self.next_input is not None:\n",
    "            torch.cuda.current_stream().wait_stream(self.stream)\n",
    "            input = self.next_input\n",
    "            target = self.next_target\n",
    "            self.preload()\n",
    "            count += 1\n",
    "            yield input, target\n",
    "            if type(self.stop_after) is int and (count > self.stop_after):\n",
    "                break"
   ]
  },
  {
   "cell_type": "code",
   "execution_count": 5,
   "metadata": {},
   "outputs": [],
   "source": [
    "data = torch_loader(str(PATH), sz)"
   ]
  },
  {
   "cell_type": "code",
   "execution_count": 6,
   "metadata": {},
   "outputs": [
    {
     "data": {
      "application/vnd.jupyter.widget-view+json": {
       "model_id": "140c013780a34c8c88bb7777637d0352",
       "version_major": 2,
       "version_minor": 0
      },
      "text/plain": [
       "HBox(children=(IntProgress(value=0, description='Epoch', max=20), HTML(value='')))"
      ]
     },
     "metadata": {},
     "output_type": "display_data"
    },
    {
     "name": "stdout",
     "output_type": "stream",
     "text": [
      "epoch      trn_loss   val_loss   accuracy                 \n",
      "    0      1.688343   2.590536   0.3596    \n",
      "    1      1.215289   1.159745   0.6122                   \n",
      "    2      0.936403   0.971305   0.6595                    \n",
      "    3      0.812859   1.020512   0.674                     \n",
      "    4      0.711921   0.931073   0.7082                    \n",
      "    5      0.684163   0.94897    0.708                     \n",
      "    6      0.658383   0.972784   0.6993                    \n",
      "    7      0.626793   0.90801    0.7344                    \n",
      "    8      0.431191   0.420832   0.8563                    \n",
      "    9      0.352752   0.458748   0.8457                    \n",
      "    10     0.304916   0.377956   0.8723                    \n",
      "    11     0.263483   0.377373   0.8688                    \n",
      "    12     0.228631   0.312195   0.8958                    \n",
      "    13     0.183145   0.294325   0.9086                    \n",
      "    14     0.149064   0.273901   0.9157                    \n",
      "    15     0.130598   0.270332   0.9169                    \n",
      "    16     0.130067   0.283062   0.9147                    \n",
      "    17     0.120403   0.272555   0.9162                    \n",
      "    18     0.103975   0.270231   0.9212                    \n",
      "    19     0.095245   0.268269   0.9215                     \n",
      "\n"
     ]
    },
    {
     "data": {
      "text/plain": [
       "[array([0.26827]), 0.9214999992370605]"
      ]
     },
     "execution_count": 6,
     "metadata": {},
     "output_type": "execute_result"
    }
   ],
   "source": [
    "m = wrn_22_cat()\n",
    "learn = ConvLearner.from_model_data(m, data)\n",
    "learn.half()\n",
    "learn.crit = nn.CrossEntropyLoss()\n",
    "learn.metrics = [accuracy]\n",
    "wd=1e-4\n",
    "lr=.6\n",
    "learn.clip = 1e-1\n",
    "def_phase = {'opt_fn':optim.SGD, 'wds':wd}\n",
    "# TODO: add momentum\n",
    "lr=0.6\n",
    "phases = [\n",
    "    TrainingPhase(**def_phase, epochs=1, lr=(.005,.05), lr_decay=DecayType.EXPONENTIAL, momentum=0.95),\n",
    "    TrainingPhase(**def_phase, epochs=7, lr=(.05,.7), lr_decay=DecayType.COSINE, momentum=(0.95,0.85)),\n",
    "    TrainingPhase(**def_phase, epochs=1, lr=.8, momentum=0.85),\n",
    "    TrainingPhase(**def_phase, epochs=7, lr=(.7,.05), lr_decay=DecayType.COSINE, momentum=(0.85,0.95)),\n",
    "    TrainingPhase(**def_phase, epochs=4, lr=(.05,.0001), lr_decay=DecayType.COSINE, momentum=(0.95))]\n",
    "\n",
    "learn.fit_opt_sched(phases, data_list=[data], loss_scale=512)"
   ]
  },
  {
   "cell_type": "code",
   "execution_count": 7,
   "metadata": {},
   "outputs": [
    {
     "data": {
      "image/png": "[encoded data removed]",
      "text/plain": [
       "<Figure size 864x288 with 2 Axes>"
      ]
     },
     "metadata": {},
     "output_type": "display_data"
    }
   ],
   "source": [
    "learn.sched.plot_lr()"
   ]
  },
  {
   "cell_type": "code",
   "execution_count": 8,
   "metadata": {},
   "outputs": [
    {
     "data": {
      "application/vnd.jupyter.widget-view+json": {
       "model_id": "dbd88fbf11ec4f0dbd3f9c88e2a92951",
       "version_major": 2,
       "version_minor": 0
      },
      "text/plain": [
       "HBox(children=(IntProgress(value=0, description='Epoch', max=20), HTML(value='')))"
      ]
     },
     "metadata": {},
     "output_type": "display_data"
    },
    {
     "name": "stdout",
     "output_type": "stream",
     "text": [
      "epoch      trn_loss   val_loss   accuracy                 \n",
      "    0      1.689347   3.60225    0.2971    \n",
      "    1      1.286511   1.464817   0.5628                   \n",
      "    2      0.990399   1.041087   0.6527                    \n",
      "    3      0.827644   1.03326    0.6778                    \n",
      "    4      0.752201   1.002585   0.6651                    \n",
      "    5      0.703729   0.885871   0.7252                    \n",
      "    6      0.652956   0.848663   0.7302                    \n",
      "    7      0.592267   0.86414    0.7318                    \n",
      "    8      0.415684   0.466636   0.8452                    \n",
      "    9      0.348408   0.392049   0.8675                    \n",
      "    10     0.309776   0.342189   0.8863                    \n",
      "    11     0.277888   0.3413     0.8862                    \n",
      "    12     0.246544   0.333448   0.8903                    \n",
      "    13     0.213419   0.317795   0.8961                    \n",
      "    14     0.172292   0.281904   0.9084                    \n",
      "    15     0.13499    0.281259   0.9145                    \n",
      "    16     0.10719    0.263651   0.9176                    \n",
      "    17     0.090168   0.2652     0.9209                     \n",
      "    18     0.088115   0.269331   0.9205                     \n",
      "    19     0.084201   0.269716   0.9207                     \n",
      "\n"
     ]
    },
    {
     "data": {
      "text/plain": [
       "[array([0.26972]), 0.9207000016212463]"
      ]
     },
     "execution_count": 8,
     "metadata": {},
     "output_type": "execute_result"
    }
   ],
   "source": [
    "m = wrn_22_cat()\n",
    "learn = ConvLearner.from_model_data(m, data)\n",
    "learn.half()\n",
    "learn.crit = nn.CrossEntropyLoss()\n",
    "learn.metrics = [accuracy]\n",
    "wd=1e-4\n",
    "lr=.6\n",
    "learn.clip = 1e-1\n",
    "def_phase = {'opt_fn':optim.SGD, 'wds':wd}\n",
    "# TODO: add momentum\n",
    "lr=0.6\n",
    "phases = [\n",
    "    TrainingPhase(**def_phase, epochs=1, lr=(.005,.05), lr_decay=DecayType.EXPONENTIAL, momentum=0.95),\n",
    "    TrainingPhase(**def_phase, epochs=7, lr=(.05,.7), lr_decay=DecayType.COSINE, momentum=(0.95,0.85)),\n",
    "    TrainingPhase(**def_phase, epochs=2, lr=.8, momentum=0.85),\n",
    "    TrainingPhase(**def_phase, epochs=8, lr=(.7,.01), lr_decay=DecayType.COSINE, momentum=(0.85,0.95)),\n",
    "    TrainingPhase(**def_phase, epochs=2, lr=(.01,.0001), lr_decay=DecayType.LINEAR, momentum=(0.95))]\n",
    "\n",
    "learn.fit_opt_sched(phases, data_list=[data], loss_scale=512)"
   ]
  },
  {
   "cell_type": "code",
   "execution_count": 9,
   "metadata": {},
   "outputs": [
    {
     "data": {
      "application/vnd.jupyter.widget-view+json": {
       "model_id": "a357e0174c074af4be3938b8767080b3",
       "version_major": 2,
       "version_minor": 0
      },
      "text/plain": [
       "HBox(children=(IntProgress(value=0, description='Epoch', max=21), HTML(value='')))"
      ]
     },
     "metadata": {},
     "output_type": "display_data"
    },
    {
     "name": "stdout",
     "output_type": "stream",
     "text": [
      "epoch      trn_loss   val_loss   accuracy                 \n",
      "    0      1.724954   2.410347   0.3611    \n",
      "    1      1.36196    1.271085   0.5669                   \n",
      "    2      1.056469   1.066045   0.6402                   \n",
      "    3      0.866396   1.255315   0.6236                    \n",
      "    4      0.792224   1.682962   0.5536                    \n",
      "    5      0.729181   1.03411    0.6937                    \n",
      "    6      0.680069   0.721459   0.7672                    \n",
      "    7      0.473963   0.441238   0.8507                    \n",
      "    8      0.394682   0.571208   0.8182                    \n",
      "    9      0.357743   0.422121   0.8571                    \n",
      "    10     0.331577   0.510588   0.8344                    \n",
      "    11     0.295164   0.373635   0.8773                    \n",
      "    12     0.271494   0.417378   0.8634                    \n",
      "    13     0.231684   0.324791   0.8933                    \n",
      "    14     0.191831   0.354465   0.8883                    \n",
      "    15     0.148031   0.278688   0.9114                    \n",
      "    16     0.112448   0.264742   0.9176                    \n",
      "    17     0.092238   0.262992   0.919                      \n",
      "    18     0.08605    0.265094   0.9196                     \n",
      "    19     0.080737   0.265898   0.9203                     \n",
      "    20     0.081311   0.268488   0.9205                     \n",
      "\n"
     ]
    },
    {
     "data": {
      "text/plain": [
       "[array([0.26849]), 0.9204999996185302]"
      ]
     },
     "execution_count": 9,
     "metadata": {},
     "output_type": "execute_result"
    }
   ],
   "source": [
    "m = wrn_22_cat()\n",
    "learn = ConvLearner.from_model_data(m, data)\n",
    "learn.half()\n",
    "learn.crit = nn.CrossEntropyLoss()\n",
    "learn.metrics = [accuracy]\n",
    "wd=1e-4\n",
    "lr=.6\n",
    "learn.clip = 1e-1\n",
    "def_phase = {'opt_fn':optim.SGD, 'wds':wd}\n",
    "# TODO: add momentum\n",
    "lr=0.6\n",
    "phases = [\n",
    "    TrainingPhase(**def_phase, epochs=1, lr=(.005,.05), lr_decay=DecayType.EXPONENTIAL, momentum=0.95),\n",
    "    TrainingPhase(**def_phase, epochs=6, lr=(.05,.7), lr_decay=DecayType.COSINE, momentum=(0.95,0.85)),\n",
    "    TrainingPhase(**def_phase, epochs=4, lr=.8, momentum=0.85),\n",
    "    TrainingPhase(**def_phase, epochs=7, lr=(.7,.01), lr_decay=DecayType.COSINE, momentum=(0.85,0.95)),\n",
    "    TrainingPhase(**def_phase, epochs=3, lr=(.01,.0005), lr_decay=DecayType.LINEAR, momentum=(0.95))]\n",
    "\n",
    "learn.fit_opt_sched(phases, data_list=[data], loss_scale=512)"
   ]
  },
  {
   "cell_type": "code",
   "execution_count": null,
   "metadata": {},
   "outputs": [],
   "source": []
  }
 ],
 "metadata": {
  "kernelspec": {
   "display_name": "Python 3",
   "language": "python",
   "name": "python3"
  },
  "language_info": {
   "codemirror_mode": {
    "name": "ipython",
    "version": 3
   },
   "file_extension": ".py",
   "mimetype": "text/x-python",
   "name": "python",
   "nbconvert_exporter": "python",
   "pygments_lexer": "ipython3",
   "version": "3.6.5"
  },
  "toc": {
   "colors": {
    "hover_highlight": "#DAA520",
    "navigate_num": "#000000",
    "navigate_text": "#333333",
    "running_highlight": "#FF0000",
    "selected_highlight": "#FFD700",
    "sidebar_border": "#EEEEEE",
    "wrapper_background": "#FFFFFF"
   },
   "moveMenuLeft": true,
   "nav_menu": {
    "height": "266px",
    "width": "252px"
   },
   "navigate_menu": true,
   "number_sections": true,
   "sideBar": true,
   "threshold": 4,
   "toc_cell": false,
   "toc_section_display": "block",
   "toc_window_display": false,
   "widenNotebook": false
  }
 },
 "nbformat": 4,
 "nbformat_minor": 2
}
