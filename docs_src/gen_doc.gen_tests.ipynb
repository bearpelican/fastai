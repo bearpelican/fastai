{
 "cells": [
  {
   "cell_type": "markdown",
   "metadata": {},
   "source": [
    "## gen_doc.gen_tests"
   ]
  },
  {
   "cell_type": "code",
   "execution_count": null,
   "metadata": {},
   "outputs": [],
   "source": [
    "from fastai.gen_doc.gen_tests import *\n",
    "from fastai.gen_doc.nbtest import *\n",
    "from fastai.gen_doc.nbdoc import *"
   ]
  },
  {
   "cell_type": "markdown",
   "metadata": {},
   "source": [
    "Writing tests can sometimes be a bit painful.  \n",
    "Need to search for existing tests, figure out what is missing.  \n",
    "Then you need to create a test and verify it by running the test suite.  \n",
    "\n",
    "This module attempts to make writing tests a little easier by moving the whole process inside a Jupyter notebook."
   ]
  },
  {
   "cell_type": "markdown",
   "metadata": {},
   "source": [
    "## Workflow for generating fastai tests from notebook"
   ]
  },
  {
   "cell_type": "markdown",
   "metadata": {},
   "source": [
    "Summary of steps:\n",
    "#1: Use `nbtest.show_test` to find an api function you'd like to create a test for\n",
    "#2: Use `show_skeleton_test` to generate barebones test function\n",
    "#3: Write test function in notebook and run it\n",
    "#4: Save test to corresponding file with `save_test`\n",
    "#5: Verify and run test suite inline with `!pytest`"
   ]
  },
  {
   "cell_type": "markdown",
   "metadata": {},
   "source": [
    "### Step 1: Find an api function you want to test"
   ]
  },
  {
   "cell_type": "code",
   "execution_count": null,
   "metadata": {},
   "outputs": [],
   "source": [
    "from fastai.data_block import ItemList"
   ]
  },
  {
   "cell_type": "markdown",
   "metadata": {},
   "source": [
    "Candidate: `ItemList.from_df`  \n",
    "Check if there are any existing tests:"
   ]
  },
  {
   "cell_type": "code",
   "execution_count": null,
   "metadata": {},
   "outputs": [
    {
     "data": {
      "text/markdown": [
       "Tests found for `from_df`:\n",
       "\n",
       "Related tests:\n",
       " * `pytest -sv -k test_regression tests/test_data_block.py` [\\[source\\]](https://github.com/fastai/fastai/blob/master/tests/test_data_block.py#L103)\n",
       " * `pytest -sv -k test_category tests/test_data_block.py` [\\[source\\]](https://github.com/fastai/fastai/blob/master/tests/test_data_block.py#L5)\n",
       " * `pytest -sv -k test_multi_category tests/test_data_block.py` [\\[source\\]](https://github.com/fastai/fastai/blob/master/tests/test_data_block.py#L46)\n",
       " * `pytest -sv -k test_category_processor_non_existing_class tests/test_data_block.py` [\\[source\\]](https://github.com/fastai/fastai/blob/master/tests/test_data_block.py#L84)\n",
       " * `pytest -sv -k test_category_processor_existing_class tests/test_data_block.py` [\\[source\\]](https://github.com/fastai/fastai/blob/master/tests/test_data_block.py#L74)"
      ],
      "text/plain": [
       "<IPython.core.display.Markdown object>"
      ]
     },
     "metadata": {},
     "output_type": "display_data"
    }
   ],
   "source": [
    "show_test(ItemList.from_df)"
   ]
  },
  {
   "cell_type": "markdown",
   "metadata": {},
   "source": [
    "Looks like there are already several related tests.  \n",
    "Let's try another function: `ItemList.get`"
   ]
  },
  {
   "cell_type": "code",
   "execution_count": null,
   "metadata": {},
   "outputs": [
    {
     "data": {
      "text/markdown": [
       "Tests found for `get`:\n",
       "\n",
       "Direct tests:\n",
       " * `pytest -sv -k test_ItemList_get tests/test_data_block.py` [\\[source\\]](https://github.com/fastai/fastai/blob/master/tests/test_data_block.py#L126)"
      ],
      "text/plain": [
       "<IPython.core.display.Markdown object>"
      ]
     },
     "metadata": {},
     "output_type": "display_data"
    }
   ],
   "source": [
    "show_test(ItemList.get)"
   ]
  },
  {
   "cell_type": "markdown",
   "metadata": {},
   "source": [
    "Cool none exist. Let's create a skeleton test"
   ]
  },
  {
   "cell_type": "markdown",
   "metadata": {},
   "source": [
    "### Step 2: generate skeleton test\n",
    "`show_skeleton_test` provides some skeleton code to help get started with your test function  \n",
    "You can also skip this part and create your test function from scratch too. "
   ]
  },
  {
   "cell_type": "code",
   "execution_count": null,
   "metadata": {
    "hide_input": true
   },
   "outputs": [
    {
     "data": {
      "text/markdown": [
       "<h4 id=\"show_skeleton_test\"><code>show_skeleton_test</code><a href=\"https://github.com/fastai/fastai/blob/master/fastai/gen_doc/gen_tests.py#L10\" class=\"source_link\">[source]</a></h4>\n",
       "\n",
       "> <code>show_skeleton_test</code>(**`elt`**)\n",
       "\n",
       "Display skeleton test in notebook  "
      ],
      "text/plain": [
       "<IPython.core.display.Markdown object>"
      ]
     },
     "metadata": {},
     "output_type": "display_data"
    }
   ],
   "source": [
    "show_doc(show_skeleton_test)"
   ]
  },
  {
   "cell_type": "code",
   "execution_count": null,
   "metadata": {},
   "outputs": [],
   "source": [
    "elt = ItemList.from_df # let's do TextList.get"
   ]
  },
  {
   "cell_type": "code",
   "execution_count": null,
   "metadata": {},
   "outputs": [
    {
     "data": {
      "text/markdown": [
       "```python\n",
       "def test_ItemList_get():\n",
       "\ti = # instantiate param 'i'\n",
       "\tinstance = ItemList(items:Iterator)\n",
       "\tresult = instance.get(i)\n",
       "\tassert result == None, \"get should...\"\n",
       "```"
      ],
      "text/plain": [
       "<IPython.core.display.Markdown object>"
      ]
     },
     "metadata": {},
     "output_type": "display_data"
    }
   ],
   "source": [
    "show_skeleton_test(elt)"
   ]
  },
  {
   "cell_type": "markdown",
   "metadata": {},
   "source": [
    "### Step 3: Fill in generated skeleton method from above"
   ]
  },
  {
   "cell_type": "markdown",
   "metadata": {},
   "source": [
    "Note: following was copied and pasted from [`show_skeleton_test`](/gen_doc.gen_tests.html#show_skeleton_test) output\n",
    "\n",
    "If you skipped `Step 2:` just create a test function from scratch"
   ]
  },
  {
   "cell_type": "code",
   "execution_count": null,
   "metadata": {},
   "outputs": [],
   "source": [
    "def test_ItemList_get():\n",
    "    idx = 3\n",
    "    tl = ItemList(items=[1,2,3,10,4])\n",
    "    result = tl.get(idx)\n",
    "    assert result == 10, f\"textlist should get idx {idx}\"\n",
    "    print('Yay this passed')"
   ]
  },
  {
   "cell_type": "markdown",
   "metadata": {},
   "source": [
    "#### Verify function works from notebook:"
   ]
  },
  {
   "cell_type": "code",
   "execution_count": null,
   "metadata": {},
   "outputs": [
    {
     "name": "stdout",
     "output_type": "stream",
     "text": [
      "Yay this passed\n"
     ]
    }
   ],
   "source": [
    "test_ItemList_get() # woot!"
   ]
  },
  {
   "cell_type": "markdown",
   "metadata": {},
   "source": [
    "### Step 4: Save test to `fastai/tests`"
   ]
  },
  {
   "cell_type": "markdown",
   "metadata": {},
   "source": [
    "After you've create the function, you can save it to the fastai/tests folder directly from notebook.  \n",
    "`save_test` will search or a file named `test_{module_name}.py`, create if it doesn't exist, then append your test function."
   ]
  },
  {
   "cell_type": "code",
   "execution_count": null,
   "metadata": {
    "hide_input": true
   },
   "outputs": [
    {
     "data": {
      "text/markdown": [
       "<h4 id=\"save_test\"><code>save_test</code><a href=\"https://github.com/fastai/fastai/blob/master/fastai/gen_doc/gen_tests.py#L82\" class=\"source_link\">[source]</a></h4>\n",
       "\n",
       "> <code>save_test</code>(**`elt`**, **`test_function`**)\n",
       "\n",
       "Saves `test_function` in the `fastai/tests` directory for a given fastai `elt`  "
      ],
      "text/plain": [
       "<IPython.core.display.Markdown object>"
      ]
     },
     "metadata": {},
     "output_type": "display_data"
    }
   ],
   "source": [
    "show_doc(save_test)"
   ]
  },
  {
   "cell_type": "code",
   "execution_count": null,
   "metadata": {},
   "outputs": [
    {
     "name": "stdout",
     "output_type": "stream",
     "text": [
      "Test file already exists. Appending test function to end\n"
     ]
    },
    {
     "data": {
      "text/plain": [
       "PosixPath('/Users/andrewshaw/Projects/ML/fastai/tests/test_data_block.py')"
      ]
     },
     "execution_count": null,
     "metadata": {},
     "output_type": "execute_result"
    }
   ],
   "source": [
    "test_file = save_test(elt, test_ItemList_get); test_file"
   ]
  },
  {
   "cell_type": "markdown",
   "metadata": {},
   "source": [
    "### Step 5: Verify test works from command line\n",
    "Let's run the newly added test and make sure it passes in the test suite.  \n",
    "Copy the pytest command from the output above (`show_test`) and try running it inline:"
   ]
  },
  {
   "cell_type": "markdown",
   "metadata": {},
   "source": [
    "**If test was saved correctly. We should be able to find it now with [`show_test`](/gen_doc.nbtest.html#show_test)**"
   ]
  },
  {
   "cell_type": "code",
   "execution_count": null,
   "metadata": {},
   "outputs": [
    {
     "data": {
      "text/markdown": [
       "Tests found for `get`:\n",
       "\n",
       "Direct tests:\n",
       " * `pytest -sv -k test_ItemList_get tests/test_data_block.py` [\\[source\\]](https://github.com/fastai/fastai/blob/master/tests/test_data_block.py#L126)"
      ],
      "text/plain": [
       "<IPython.core.display.Markdown object>"
      ]
     },
     "metadata": {},
     "output_type": "display_data"
    }
   ],
   "source": [
    "show_test(elt)"
   ]
  },
  {
   "cell_type": "code",
   "execution_count": null,
   "metadata": {},
   "outputs": [
    {
     "name": "stdout",
     "output_type": "stream",
     "text": [
      "\u001b[1m============================= test session starts ==============================\u001b[0m\n",
      "platform darwin -- Python 3.7.0, pytest-4.2.0, py-1.7.0, pluggy-0.8.1 -- /Users/andrewshaw/miniconda3/envs/fastai/bin/python\n",
      "cachedir: .pytest_cache\n",
      "rootdir: /Users/andrewshaw/Projects/ML/fastai, inifile: setup.cfg\n",
      "collected 9 items / 8 deselected / 1 selected                                  \u001b[0m\n",
      "\n",
      "tests/test_data_block.py::test_ItemList_get Yay this passed\n",
      "\u001b[32mPASSED\u001b[0m\n",
      "\n",
      "\u001b[32m\u001b[1m==================== 1 passed, 8 deselected in 0.08 seconds ====================\u001b[0m\n"
     ]
    }
   ],
   "source": [
    "!pytest -sv -k test_ItemList_get tests/test_data_block.py"
   ]
  },
  {
   "cell_type": "markdown",
   "metadata": {},
   "source": [
    "#### Sanity check.\n",
    "Make sure test function `test_ItemList_get` has really been appended to `fastai/tests/test_data_block.py`"
   ]
  },
  {
   "cell_type": "code",
   "execution_count": null,
   "metadata": {
    "hide_input": true
   },
   "outputs": [
    {
     "data": {
      "text/markdown": [
       "<h4 id=\"test_filename\"><code>test_filename</code><a href=\"https://github.com/fastai/fastai/blob/master/fastai/gen_doc/gen_tests.py#L101\" class=\"source_link\">[source]</a></h4>\n",
       "\n",
       "> <code>test_filename</code>(**`elt`**) → `str`\n",
       "\n",
       "Returns the file location where the tests of an api function should be located  "
      ],
      "text/plain": [
       "<IPython.core.display.Markdown object>"
      ]
     },
     "metadata": {},
     "output_type": "display_data"
    }
   ],
   "source": [
    "show_doc(test_filename)"
   ]
  },
  {
   "cell_type": "code",
   "execution_count": null,
   "metadata": {},
   "outputs": [
    {
     "name": "stdout",
     "output_type": "stream",
     "text": [
      "/Users/andrewshaw/Projects/ML/fastai/tests/test_data_block.py\n"
     ]
    },
    {
     "data": {
      "text/plain": [
       "['\\n',\n",
       " 'def test_custom_dataset():\\n',\n",
       " '    tr_dataset = CustomDataset([1, 2, 3])\\n',\n",
       " '    val_dataset = CustomDataset([4, 5, 6])\\n',\n",
       " '    data = DataBunch.create(tr_dataset, val_dataset)\\n',\n",
       " '\\n',\n",
       " '\\n',\n",
       " '\\n',\n",
       " 'def test_ItemList_get():\\n',\n",
       " '    idx = 3\\n',\n",
       " '    tl = ItemList(items=[1,2,3,10,4])\\n',\n",
       " '    result = tl.get(idx)\\n',\n",
       " '    assert result == 10, f\"textlist should get idx {idx}\"\\n',\n",
       " \"    print('Yay this passed')\\n\"]"
      ]
     },
     "execution_count": null,
     "metadata": {},
     "output_type": "execute_result"
    }
   ],
   "source": [
    "test_file = test_filename(elt)\n",
    "print(test_file)\n",
    "with open(test_file, 'r') as f:\n",
    "    contents = f.readlines()\n",
    "contents[-14:]"
   ]
  },
  {
   "cell_type": "code",
   "execution_count": null,
   "metadata": {
    "hide_input": true
   },
   "outputs": [
    {
     "data": {
      "text/markdown": [
       "<h4 id=\"create_skeleton_test\"><code>create_skeleton_test</code><a href=\"https://github.com/fastai/fastai/blob/master/fastai/gen_doc/gen_tests.py#L15\" class=\"source_link\">[source]</a></h4>\n",
       "\n",
       "> <code>create_skeleton_test</code>(**`elt`**) → `str`\n",
       "\n",
       "Create markdown string for skeleton test  "
      ],
      "text/plain": [
       "<IPython.core.display.Markdown object>"
      ]
     },
     "metadata": {},
     "output_type": "display_data"
    }
   ],
   "source": [
    "# This hidden cell is for undoing the demo test that was added\n",
    "show_doc(create_skeleton_test)"
   ]
  },
  {
   "cell_type": "markdown",
   "metadata": {},
   "source": [
    "## Other test skeleton generated examples"
   ]
  },
  {
   "cell_type": "code",
   "execution_count": null,
   "metadata": {},
   "outputs": [
    {
     "data": {
      "text/markdown": [
       "```python\n",
       "def test_DataBunch_remove_tfm():\n",
       "\ttfm:Callable = Callable() # instantiate param 'tfm'\n",
       "\tinstance = DataBunch(train_dl:DataLoader, valid_dl:DataLoader)\n",
       "\tresult = instance.remove_tfm(tfm)\n",
       "\tassert result == None, \"remove_tfm should...\"\n",
       "```"
      ],
      "text/plain": [
       "<IPython.core.display.Markdown object>"
      ]
     },
     "metadata": {},
     "output_type": "display_data"
    }
   ],
   "source": [
    "from fastai.basic_data import DataBunch\n",
    "show_skeleton_test(DataBunch.remove_tfm)"
   ]
  },
  {
   "cell_type": "code",
   "execution_count": null,
   "metadata": {},
   "outputs": [
    {
     "data": {
      "text/markdown": [
       "```python\n",
       "def test_load_data():\n",
       "\tpath:PathOrStr = PathOrStr() # instantiate param 'path'\n",
       "\tresult:DataBunch = load_data(path)\n",
       "\tassert result == None, \"load_data should...\"\n",
       "```"
      ],
      "text/plain": [
       "<IPython.core.display.Markdown object>"
      ]
     },
     "metadata": {},
     "output_type": "display_data"
    }
   ],
   "source": [
    "from fastai.basic_data import load_data\n",
    "show_skeleton_test(load_data)"
   ]
  },
  {
   "cell_type": "code",
   "execution_count": null,
   "metadata": {},
   "outputs": [
    {
     "data": {
      "text/markdown": [
       "```python\n",
       "def test_calc_loss():\n",
       "\ty_pred:Tensor = Tensor() # instantiate param 'y_pred'\n",
       "\ty_true:Tensor = Tensor() # instantiate param 'y_true'\n",
       "\tloss_func:LossFunction = LossFunction() # instantiate param 'loss_func'\n",
       "\tresult = calc_loss(y_pred, y_true, loss_func)\n",
       "\tassert result == None, \"calc_loss should...\"\n",
       "```"
      ],
      "text/plain": [
       "<IPython.core.display.Markdown object>"
      ]
     },
     "metadata": {},
     "output_type": "display_data"
    }
   ],
   "source": [
    "from fastai.torch_core import calc_loss\n",
    "show_skeleton_test(calc_loss)"
   ]
  },
  {
   "cell_type": "code",
   "execution_count": null,
   "metadata": {},
   "outputs": [
    {
     "data": {
      "text/markdown": [
       "```python\n",
       "def test_uniform():\n",
       "\tlow:Number = Number() # instantiate param 'low'\n",
       "\tresult:FloatOrTensor = uniform(low)\n",
       "\tassert result == None, \"uniform should...\"\n",
       "```"
      ],
      "text/plain": [
       "<IPython.core.display.Markdown object>"
      ]
     },
     "metadata": {},
     "output_type": "display_data"
    }
   ],
   "source": [
    "from fastai.torch_core import uniform\n",
    "show_skeleton_test(uniform)"
   ]
  },
  {
   "cell_type": "markdown",
   "metadata": {},
   "source": [
    "## Undocumented Methods - Methods moved below this line will intentionally be hidden"
   ]
  },
  {
   "cell_type": "code",
   "execution_count": null,
   "metadata": {
    "hide_input": true
   },
   "outputs": [
    {
     "data": {
      "text/markdown": [
       "<h4 id=\"create_skeleton_test\"><code>create_skeleton_test</code><a href=\"https://github.com/fastai/fastai/blob/master/fastai/gen_doc/gen_tests.py#L15\" class=\"source_link\">[source]</a></h4>\n",
       "\n",
       "> <code>create_skeleton_test</code>(**`elt`**) → `str`\n",
       "\n",
       "Create markdown string for skeleton test  "
      ],
      "text/plain": [
       "<IPython.core.display.Markdown object>"
      ]
     },
     "metadata": {},
     "output_type": "display_data"
    }
   ],
   "source": [
    "show_doc(create_skeleton_test)"
   ]
  },
  {
   "cell_type": "markdown",
   "metadata": {},
   "source": [
    "## New Methods - Please document or move to the undocumented section"
   ]
  }
 ],
 "metadata": {
  "kernelspec": {
   "display_name": "Python 3",
   "language": "python",
   "name": "python3"
  }
 },
 "nbformat": 4,
 "nbformat_minor": 2
}
