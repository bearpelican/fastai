{
 "cells": [
  {
   "cell_type": "code",
   "execution_count": 1,
   "metadata": {},
   "outputs": [],
   "source": [
    "%reload_ext autoreload\n",
    "%autoreload 2\n",
    "\n",
    "from fastai import *\n",
    "from fastai.vision import *\n",
    "from fastai.vision.models.wrn import wrn_22\n",
    "from fastai.docs import *\n",
    "from fastai.docs import CIFAR_PATH\n",
    "\n",
    "torch.backends.cudnn.benchmark = True"
   ]
  },
  {
   "cell_type": "markdown",
   "metadata": {},
   "source": [
    "### Model Definition"
   ]
  },
  {
   "cell_type": "code",
   "execution_count": 2,
   "metadata": {},
   "outputs": [],
   "source": [
    "# --\n",
    "# Model definition\n",
    "# Derived from models in `https://github.com/kuangliu/pytorch-cifar`\n",
    "\n",
    "class PreActBlock(nn.Module):\n",
    "    def __init__(self, in_channels, out_channels, stride=1):\n",
    "        super().__init__()\n",
    "        \n",
    "        self.bn1   = nn.BatchNorm2d(in_channels)\n",
    "        self.conv1 = nn.Conv2d(in_channels, out_channels, kernel_size=3, stride=stride, padding=1, bias=False)\n",
    "        self.bn2   = nn.BatchNorm2d(out_channels)\n",
    "        self.conv2 = nn.Conv2d(out_channels, out_channels, kernel_size=3, stride=1, padding=1, bias=False)\n",
    "        if stride != 1 or in_channels != out_channels:\n",
    "            self.shortcut = nn.Sequential(\n",
    "                nn.Conv2d(in_channels, out_channels, kernel_size=1, stride=stride, bias=False)\n",
    "            )\n",
    "    def forward(self, x):\n",
    "        out = F.relu(self.bn1(x))\n",
    "        shortcut = self.shortcut(out) if hasattr(self, 'shortcut') else x\n",
    "        out = self.conv1(out)\n",
    "        out = self.conv2(F.relu(self.bn2(out)))\n",
    "        return out + shortcut\n",
    "    \n",
    "class ResNet18(nn.Module):\n",
    "    def __init__(self, num_blocks=[2, 2, 2, 2], num_classes=10):\n",
    "        super().__init__()\n",
    "        self.in_channels = 64\n",
    "        self.prep = nn.Sequential(\n",
    "            nn.Conv2d(3, 64, kernel_size=3, stride=1, padding=1, bias=False),\n",
    "            nn.BatchNorm2d(64),\n",
    "            nn.ReLU()\n",
    "        )\n",
    "        self.layers = nn.Sequential(\n",
    "            self._make_layer(64, 64, num_blocks[0], stride=1),\n",
    "            self._make_layer(64, 128, num_blocks[1], stride=2),\n",
    "            self._make_layer(128, 256, num_blocks[2], stride=2),\n",
    "            self._make_layer(256, 256, num_blocks[3], stride=2),\n",
    "        )\n",
    "        self.classifier = nn.Linear(512, num_classes)\n",
    "        \n",
    "    def _make_layer(self, in_channels, out_channels, num_blocks, stride):\n",
    "        \n",
    "        strides = [stride] + [1] * (num_blocks-1)\n",
    "        layers = []\n",
    "        for stride in strides:\n",
    "            layers.append(PreActBlock(in_channels=in_channels, out_channels=out_channels, stride=stride))\n",
    "            in_channels = out_channels\n",
    "        \n",
    "        return nn.Sequential(*layers)\n",
    "    \n",
    "    def forward(self, x):\n",
    "        x = x.half()\n",
    "        x = self.prep(x)\n",
    "        \n",
    "        x = self.layers(x)\n",
    "        \n",
    "        x_avg = F.adaptive_avg_pool2d(x, (1, 1))\n",
    "        x_avg = x_avg.view(x_avg.size(0), -1)\n",
    "        \n",
    "        x_max = F.adaptive_max_pool2d(x, (1, 1))\n",
    "        x_max = x_max.view(x_max.size(0), -1)\n",
    "        \n",
    "        x = torch.cat([x_avg, x_max], dim=-1)\n",
    "        \n",
    "        x = self.classifier(x)\n",
    "        \n",
    "        return x"
   ]
  },
  {
   "cell_type": "code",
   "execution_count": 3,
   "metadata": {},
   "outputs": [],
   "source": [
    "untar_data(CIFAR_PATH)"
   ]
  },
  {
   "cell_type": "code",
   "execution_count": 4,
   "metadata": {},
   "outputs": [],
   "source": [
    "ds_tfms = ([pad(padding=4), crop(size=32, row_pct=(0,1), col_pct=(0,1)), flip_lr(p=0.5)], [])\n",
    "data = image_data_from_folder(CIFAR_PATH, valid='test', ds_tfms=ds_tfms, tfms=cifar_norm, bs=512)"
   ]
  },
  {
   "cell_type": "code",
   "execution_count": 8,
   "metadata": {},
   "outputs": [
    {
     "data": {
      "image/jpeg": "[encoded data removed]",
      "image/png": "[encoded data removed]",
      "text/plain": [
       "Image (3, 32, 32)"
      ]
     },
     "execution_count": 8,
     "metadata": {},
     "output_type": "execute_result"
    }
   ],
   "source": [
    "data.train_ds[1][0]"
   ]
  },
  {
   "cell_type": "code",
   "execution_count": null,
   "metadata": {},
   "outputs": [],
   "source": [
    "# show_image_batch(data.train_dl, data.train_ds.classes)"
   ]
  },
  {
   "cell_type": "code",
   "execution_count": 6,
   "metadata": {
    "scrolled": true
   },
   "outputs": [
    {
     "data": {
      "application/vnd.jupyter.widget-view+json": {
       "model_id": "",
       "version_major": 2,
       "version_minor": 0
      },
      "text/plain": [
       "VBox(children=(HBox(children=(IntProgress(value=0, max=30), HTML(value='0.00% [0/30 00:00<00:00]'))), HTML(val…"
      ]
     },
     "metadata": {},
     "output_type": "display_data"
    },
    {
     "name": "stdout",
     "output_type": "stream",
     "text": [
      "Total time: 04:19\n",
      "epoch  train loss  valid loss  accuracy\n",
      "0      1.530416    1.379568    0.493400  (00:08)\n",
      "1      1.130145    1.396219    0.556300  (00:08)\n",
      "2      0.885574    1.133361    0.628200  (00:08)\n",
      "3      0.736106    0.775118    0.730000  (00:08)\n",
      "4      0.624078    0.717389    0.765100  (00:08)\n",
      "5      0.563536    0.665837    0.779500  (00:08)\n",
      "6      0.494436    0.568151    0.811600  (00:08)\n",
      "7      0.454518    0.592833    0.807900  (00:08)\n",
      "8      0.420526    0.624459    0.805100  (00:08)\n",
      "9      0.377837    0.466691    0.845000  (00:08)\n",
      "10     0.357294    0.465187    0.846000  (00:08)\n",
      "11     0.327962    0.480546    0.846000  (00:08)\n",
      "12     0.299309    0.580033    0.810400  (00:08)\n",
      "13     0.277412    0.371445    0.878400  (00:08)\n",
      "14     0.262845    0.408074    0.867700  (00:08)\n",
      "15     0.250052    0.456760    0.859100  (00:08)\n",
      "16     0.235815    0.386383    0.876700  (00:08)\n",
      "17     0.218311    0.394265    0.877600  (00:08)\n",
      "18     0.196647    0.348167    0.890900  (00:08)\n",
      "19     0.180495    0.333958    0.894700  (00:08)\n",
      "20     0.165077    0.420826    0.875800  (00:08)\n",
      "21     0.142122    0.312778    0.902500  (00:08)\n",
      "22     0.121653    0.324552    0.902500  (00:08)\n",
      "23     0.104614    0.353988    0.901300  (00:08)\n",
      "24     0.088435    0.320256    0.908200  (00:08)\n",
      "25     0.071169    0.275819    0.920700  (00:08)\n",
      "26     0.054526    0.287457    0.920700  (00:08)\n",
      "27     0.041693    0.275543    0.926200  (00:08)\n",
      "28     0.032788    0.277098    0.926600  (00:08)\n",
      "29     0.029659    0.275930    0.927200  (00:08)\n",
      "\n"
     ]
    }
   ],
   "source": [
    "learn = Learner(data, ResNet18(), metrics=accuracy).to_fp16()\n",
    "learn.opt_fn = optim.SGD\n",
    "learn.fit_one_cycle(30, 2e-1, wd=5e-4, div_factor=20, pct_start=0.5)"
   ]
  },
  {
   "cell_type": "code",
   "execution_count": 8,
   "metadata": {},
   "outputs": [
    {
     "data": {
      "image/png": "[encoded data removed]",
      "text/plain": [
       "<Figure size 432x288 with 1 Axes>"
      ]
     },
     "metadata": {
      "needs_background": "light"
     },
     "output_type": "display_data"
    }
   ],
   "source": [
    "learn.recorder.plot_lr()"
   ]
  },
  {
   "cell_type": "code",
   "execution_count": 5,
   "metadata": {},
   "outputs": [],
   "source": [
    "class fp16cb(Callback):    \n",
    "    def on_train_begin(self, n_epochs:int, **kwargs:Any)->None: pass\n",
    "    def on_loss_begin(self, last_output:Tensor, **kwargs:Any) -> Tensor:\n",
    "        \"Convert half precision output to FP32 to avoid reduction overflow.\"\n",
    "        return last_output.float()\n"
   ]
  },
  {
   "cell_type": "code",
   "execution_count": 6,
   "metadata": {},
   "outputs": [],
   "source": [
    "cb = fp16cb()"
   ]
  },
  {
   "cell_type": "code",
   "execution_count": 8,
   "metadata": {},
   "outputs": [
    {
     "data": {
      "application/vnd.jupyter.widget-view+json": {
       "model_id": "",
       "version_major": 2,
       "version_minor": 0
      },
      "text/plain": [
       "VBox(children=(HBox(children=(IntProgress(value=0, max=35), HTML(value='0.00% [0/35 00:00<00:00]'))), HTML(val…"
      ]
     },
     "metadata": {},
     "output_type": "display_data"
    },
    {
     "name": "stdout",
     "output_type": "stream",
     "text": [
      "Total time: 06:07\n",
      "epoch  train loss  valid loss  accuracy\n",
      "0      1.539109    1.497640    0.467600  (00:14)\n",
      "1      1.142620    1.121808    0.607300  (00:10)\n",
      "2      0.928616    0.865773    0.695100  (00:10)\n",
      "3      0.762179    0.780669    0.733900  (00:10)\n",
      "4      0.649648    0.625514    0.782500  (00:10)\n",
      "5      0.576113    0.700380    0.761500  (00:10)\n",
      "6      0.526197    0.936681    0.721300  (00:10)\n",
      "7      0.473569    0.587559    0.812000  (00:10)\n",
      "8      0.435179    0.564554    0.811000  (00:10)\n",
      "9      0.386101    0.551357    0.812800  (00:10)\n",
      "10     0.354897    0.554939    0.823000  (00:10)\n",
      "11     0.323722    0.441498    0.851300  (00:10)\n",
      "12     0.320642    0.519243    0.831900  (00:10)\n",
      "13     0.293331    0.407579    0.865300  (00:10)\n",
      "14     0.269039    0.480990    0.853200  (00:10)\n",
      "15     0.246027    0.485594    0.844600  (00:10)\n",
      "16     0.228581    0.382021    0.883400  (00:10)\n",
      "17     0.218042    0.381678    0.881000  (00:10)\n",
      "18     0.201535    0.377375    0.886100  (00:10)\n",
      "19     0.183557    0.383780    0.885600  (00:10)\n",
      "20     0.166530    0.346419    0.894000  (00:10)\n",
      "21     0.147838    0.368944    0.889600  (00:10)\n",
      "22     0.129741    0.361803    0.894500  (00:10)\n",
      "23     0.125128    0.322687    0.905400  (00:10)\n",
      "24     0.108967    0.321895    0.904600  (00:10)\n",
      "25     0.093267    0.359864    0.903400  (00:10)\n",
      "26     0.084269    0.309379    0.912100  (00:10)\n",
      "27     0.070521    0.312249    0.914200  (00:10)\n",
      "28     0.060160    0.310228    0.920200  (00:10)\n",
      "29     0.049118    0.296292    0.920800  (00:10)\n",
      "30     0.040079    0.302534    0.922300  (00:10)\n",
      "31     0.031439    0.296864    0.923900  (00:10)\n",
      "32     0.025633    0.295869    0.925700  (00:10)\n",
      "33     0.024233    0.295912    0.926500  (00:10)\n",
      "34     0.023663    0.295485    0.926700  (00:10)\n",
      "\n"
     ]
    }
   ],
   "source": [
    "learn = Learner(data, ResNet18().half(), metrics=accuracy, callbacks=[cb])\n",
    "learn.opt_fn = optim.SGD\n",
    "learn.fit_one_cycle(35, 2e-1, wd=5e-4, div_factor=20, pct_start=0.4)"
   ]
  },
  {
   "cell_type": "code",
   "execution_count": 10,
   "metadata": {},
   "outputs": [
    {
     "data": {
      "application/vnd.jupyter.widget-view+json": {
       "model_id": "",
       "version_major": 2,
       "version_minor": 0
      },
      "text/plain": [
       "VBox(children=(HBox(children=(IntProgress(value=0, max=30), HTML(value='0.00% [0/30 00:00<00:00]'))), HTML(val…"
      ]
     },
     "metadata": {},
     "output_type": "display_data"
    },
    {
     "name": "stdout",
     "output_type": "stream",
     "text": [
      "Total time: 04:27\n",
      "epoch  train loss  valid loss  accuracy\n",
      "0      1.459393    1.352652    0.516700  (00:13)\n",
      "1      1.097356    0.955407    0.663200  (00:08)\n",
      "2      0.871712    0.882830    0.697200  (00:08)\n",
      "3      0.716057    0.865233    0.703300  (00:08)\n",
      "4      0.624700    0.888111    0.697300  (00:08)\n",
      "5      0.562322    0.747895    0.760600  (00:08)\n",
      "6      0.507927    0.540292    0.813300  (00:08)\n",
      "7      0.477725    0.536405    0.816300  (00:08)\n",
      "8      0.453223    0.589041    0.804200  (00:08)\n",
      "9      0.431874    0.568607    0.820700  (00:08)\n",
      "10     0.413762    0.493847    0.836500  (00:08)\n",
      "11     0.390790    0.513445    0.823000  (00:08)\n",
      "12     0.386272    0.680366    0.784900  (00:08)\n",
      "13     0.364594    0.553557    0.819800  (00:08)\n",
      "14     0.357883    0.552096    0.819000  (00:08)\n",
      "15     0.343935    0.541053    0.818500  (00:08)\n",
      "16     0.317558    0.720075    0.776300  (00:08)\n",
      "17     0.301984    0.491570    0.841200  (00:08)\n",
      "18     0.277464    0.406890    0.869500  (00:08)\n",
      "19     0.251276    0.458435    0.852300  (00:08)\n",
      "20     0.226377    0.385316    0.873300  (00:08)\n",
      "21     0.198505    0.304312    0.899300  (00:08)\n",
      "22     0.170844    0.303239    0.898600  (00:08)\n",
      "23     0.136836    0.302311    0.906000  (00:08)\n",
      "24     0.108864    0.279146    0.915800  (00:08)\n",
      "25     0.077757    0.243518    0.930300  (00:08)\n",
      "26     0.055426    0.225214    0.934300  (00:08)\n",
      "27     0.038126    0.225966    0.937500  (00:08)\n",
      "28     0.029066    0.229455    0.938300  (00:08)\n",
      "29     0.025448    0.228842    0.938800  (00:08)\n",
      "\n"
     ]
    }
   ],
   "source": [
    "learn = Learner(data, ResNet18(), metrics=accuracy).to_fp16()\n",
    "learn.fit_one_cycle(30, 3e-3, wd=0.4, div_factor=20, pct_start=0.5)"
   ]
  },
  {
   "cell_type": "code",
   "execution_count": 11,
   "metadata": {},
   "outputs": [
    {
     "data": {
      "application/vnd.jupyter.widget-view+json": {
       "model_id": "",
       "version_major": 2,
       "version_minor": 0
      },
      "text/plain": [
       "VBox(children=(HBox(children=(IntProgress(value=0, max=35), HTML(value='0.00% [0/35 00:00<00:00]'))), HTML(val…"
      ]
     },
     "metadata": {},
     "output_type": "display_data"
    },
    {
     "name": "stdout",
     "output_type": "stream",
     "text": [
      "Total time: 05:08\n",
      "epoch  train loss  valid loss  accuracy\n",
      "0      1.455054    1.274407    0.543100  (00:08)\n",
      "1      1.099003    1.041518    0.626600  (00:08)\n",
      "2      0.880916    0.872910    0.696300  (00:08)\n",
      "3      0.723419    0.898510    0.705400  (00:08)\n",
      "4      0.641229    0.905334    0.699500  (00:08)\n",
      "5      0.568467    0.603942    0.793600  (00:08)\n",
      "6      0.528590    0.689208    0.765900  (00:08)\n",
      "7      0.485835    0.757593    0.765700  (00:08)\n",
      "8      0.455879    0.796962    0.757900  (00:08)\n",
      "9      0.431740    0.601925    0.797600  (00:08)\n",
      "10     0.415235    0.585637    0.814500  (00:08)\n",
      "11     0.396382    0.796510    0.732600  (00:08)\n",
      "12     0.383806    0.640150    0.782700  (00:08)\n",
      "13     0.363625    0.456593    0.845400  (00:08)\n",
      "14     0.357001    0.574362    0.815900  (00:08)\n",
      "15     0.350539    0.640498    0.786400  (00:08)\n",
      "16     0.337842    0.585591    0.815400  (00:08)\n",
      "17     0.328715    0.948967    0.721400  (00:08)\n",
      "18     0.310570    0.574036    0.815600  (00:08)\n",
      "19     0.295990    0.497104    0.839100  (00:08)\n",
      "20     0.284290    0.442815    0.851400  (00:08)\n",
      "21     0.261464    0.466466    0.850500  (00:08)\n",
      "22     0.244203    0.375379    0.873500  (00:08)\n",
      "23     0.213722    0.331161    0.887400  (00:08)\n",
      "24     0.203105    0.378023    0.875500  (00:08)\n",
      "25     0.168386    0.378517    0.881200  (00:08)\n",
      "26     0.143708    0.353505    0.892700  (00:08)\n",
      "27     0.122740    0.276806    0.912500  (00:08)\n",
      "28     0.096646    0.248949    0.921400  (00:08)\n",
      "29     0.073089    0.251498    0.928500  (00:08)\n",
      "30     0.054419    0.242464    0.931500  (00:08)\n",
      "31     0.037490    0.238944    0.935700  (00:08)\n",
      "32     0.026245    0.235594    0.939500  (00:08)\n",
      "33     0.021157    0.235666    0.940300  (00:08)\n",
      "34     0.018666    0.235901    0.940700  (00:08)\n",
      "\n"
     ]
    }
   ],
   "source": [
    "learn = Learner(data, ResNet18(), metrics=accuracy).to_fp16()\n",
    "learn.fit_one_cycle(35, 3e-3, wd=0.4, div_factor=20, pct_start=0.5)"
   ]
  },
  {
   "cell_type": "markdown",
   "metadata": {},
   "source": [
    "With mixup"
   ]
  },
  {
   "cell_type": "code",
   "execution_count": 14,
   "metadata": {},
   "outputs": [
    {
     "data": {
      "application/vnd.jupyter.widget-view+json": {
       "model_id": "",
       "version_major": 2,
       "version_minor": 0
      },
      "text/plain": [
       "VBox(children=(HBox(children=(IntProgress(value=0, max=30), HTML(value='0.00% [0/30 00:00<00:00]'))), HTML(val…"
      ]
     },
     "metadata": {},
     "output_type": "display_data"
    },
    {
     "name": "stdout",
     "output_type": "stream",
     "text": [
      "Total time: 04:30\n",
      "epoch  train loss  valid loss  accuracy\n",
      "0      1.783943    1.366350    0.530900  (00:09)\n",
      "1      1.574135    1.104068    0.630200  (00:09)\n",
      "2      1.423152    1.055698    0.651700  (00:09)\n",
      "3      1.333341    0.958992    0.693400  (00:08)\n",
      "4      1.269880    0.915712    0.701700  (00:08)\n",
      "5      1.244004    0.820816    0.750000  (00:09)\n",
      "6      1.207853    0.894880    0.709500  (00:09)\n",
      "7      1.178378    0.800282    0.753600  (00:08)\n",
      "8      1.159106    0.726651    0.787500  (00:09)\n",
      "9      1.142798    0.614729    0.834800  (00:09)\n",
      "10     1.125106    0.692901    0.797200  (00:09)\n",
      "11     1.115769    0.652341    0.806900  (00:09)\n",
      "12     1.108503    0.572612    0.844300  (00:09)\n",
      "13     1.098410    0.567430    0.847700  (00:09)\n",
      "14     1.088326    0.618596    0.828600  (00:08)\n",
      "15     1.080122    0.574720    0.843800  (00:09)\n",
      "16     1.055061    0.613559    0.833900  (00:08)\n",
      "17     1.044709    0.488805    0.875500  (00:08)\n",
      "18     1.030277    0.501339    0.865100  (00:08)\n",
      "19     1.008159    0.510418    0.864500  (00:09)\n",
      "20     0.987988    0.477334    0.879100  (00:09)\n",
      "21     0.970334    0.457590    0.888800  (00:08)\n",
      "22     0.954112    0.405572    0.905600  (00:08)\n",
      "23     0.937881    0.377486    0.915500  (00:09)\n",
      "24     0.915659    0.340885    0.929000  (00:08)\n",
      "25     0.897910    0.340739    0.933100  (00:09)\n",
      "26     0.878873    0.330259    0.934000  (00:08)\n",
      "27     0.871340    0.319105    0.936900  (00:09)\n",
      "28     0.858658    0.315448    0.939900  (00:08)\n",
      "29     0.859607    0.315157    0.939300  (00:08)\n",
      "\n"
     ]
    }
   ],
   "source": [
    "learn = Learner(data, ResNet18(), metrics=accuracy).to_fp16().mixup()\n",
    "learn.fit_one_cycle(30, 4e-3, wd=0.2, div_factor=20, pct_start=0.5)"
   ]
  },
  {
   "cell_type": "code",
   "execution_count": 15,
   "metadata": {},
   "outputs": [
    {
     "data": {
      "application/vnd.jupyter.widget-view+json": {
       "model_id": "",
       "version_major": 2,
       "version_minor": 0
      },
      "text/plain": [
       "VBox(children=(HBox(children=(IntProgress(value=0, max=30), HTML(value='0.00% [0/30 00:00<00:00]'))), HTML(val…"
      ]
     },
     "metadata": {},
     "output_type": "display_data"
    },
    {
     "name": "stdout",
     "output_type": "stream",
     "text": [
      "Total time: 04:27\n",
      "epoch  train loss  valid loss  accuracy\n",
      "0      1.778933    1.309423    0.543400  (00:09)\n",
      "1      1.556352    1.174423    0.606600  (00:08)\n",
      "2      1.424417    1.053863    0.641800  (00:08)\n",
      "3      1.316883    0.786578    0.759300  (00:08)\n",
      "4      1.266567    0.773655    0.763800  (00:09)\n",
      "5      1.231167    0.740276    0.772000  (00:08)\n",
      "6      1.201747    0.855282    0.753600  (00:08)\n",
      "7      1.181880    0.922986    0.715600  (00:08)\n",
      "8      1.157279    0.777241    0.769300  (00:08)\n",
      "9      1.140411    0.743691    0.772400  (00:08)\n",
      "10     1.136511    0.629735    0.820500  (00:08)\n",
      "11     1.122841    0.617330    0.829000  (00:08)\n",
      "12     1.112077    0.692506    0.799300  (00:08)\n",
      "13     1.083418    0.693686    0.795900  (00:08)\n",
      "14     1.067284    0.541464    0.859900  (00:08)\n",
      "15     1.054240    0.503023    0.870900  (00:08)\n",
      "16     1.031116    0.485405    0.875700  (00:09)\n",
      "17     1.018757    0.445375    0.888900  (00:08)\n",
      "18     1.005884    0.479785    0.879900  (00:08)\n",
      "19     0.985579    0.460447    0.880300  (00:08)\n",
      "20     0.964326    0.419024    0.901100  (00:08)\n",
      "21     0.945868    0.401273    0.907200  (00:08)\n",
      "22     0.929569    0.379149    0.917700  (00:08)\n",
      "23     0.908831    0.354360    0.925000  (00:08)\n",
      "24     0.899563    0.340669    0.926400  (00:08)\n",
      "25     0.885064    0.331464    0.933800  (00:08)\n",
      "26     0.877540    0.323874    0.934500  (00:08)\n",
      "27     0.857042    0.317681    0.936200  (00:08)\n",
      "28     0.858626    0.313448    0.937400  (00:08)\n",
      "29     0.851022    0.312053    0.937700  (00:08)\n",
      "\n"
     ]
    }
   ],
   "source": [
    "learn = Learner(data, ResNet18(), metrics=accuracy).to_fp16().mixup()\n",
    "learn.fit_one_cycle(30, 4e-3, wd=0.2, div_factor=20, pct_start=0.4)"
   ]
  },
  {
   "cell_type": "code",
   "execution_count": 16,
   "metadata": {},
   "outputs": [
    {
     "data": {
      "application/vnd.jupyter.widget-view+json": {
       "model_id": "",
       "version_major": 2,
       "version_minor": 0
      },
      "text/plain": [
       "VBox(children=(HBox(children=(IntProgress(value=0, max=30), HTML(value='0.00% [0/30 00:00<00:00]'))), HTML(val…"
      ]
     },
     "metadata": {},
     "output_type": "display_data"
    },
    {
     "name": "stdout",
     "output_type": "stream",
     "text": [
      "Total time: 04:28\n",
      "epoch  train loss  valid loss  accuracy\n",
      "0      1.783304    1.367150    0.530200  (00:08)\n",
      "1      1.564085    1.277960    0.550100  (00:08)\n",
      "2      1.424749    1.399362    0.510300  (00:08)\n",
      "3      1.329865    1.091383    0.637100  (00:08)\n",
      "4      1.276612    0.786759    0.762000  (00:08)\n",
      "5      1.239738    0.906564    0.719300  (00:08)\n",
      "6      1.213753    0.912355    0.707900  (00:08)\n",
      "7      1.180831    0.811349    0.752300  (00:09)\n",
      "8      1.170998    0.745712    0.783400  (00:08)\n",
      "9      1.143000    0.688182    0.802600  (00:09)\n",
      "10     1.137374    0.679035    0.803500  (00:08)\n",
      "11     1.123784    0.711818    0.791500  (00:08)\n",
      "12     1.109351    0.654117    0.810200  (00:09)\n",
      "13     1.095625    0.585562    0.834800  (00:08)\n",
      "14     1.085747    0.629815    0.821400  (00:08)\n",
      "15     1.073780    0.666082    0.814100  (00:08)\n",
      "16     1.065351    0.558892    0.849200  (00:08)\n",
      "17     1.052814    0.553235    0.851900  (00:08)\n",
      "18     1.033303    0.465284    0.888300  (00:08)\n",
      "19     1.007872    0.558660    0.847500  (00:08)\n",
      "20     0.993704    0.457426    0.882900  (00:08)\n",
      "21     0.975976    0.404525    0.902300  (00:09)\n",
      "22     0.954410    0.407277    0.905900  (00:08)\n",
      "23     0.932818    0.373096    0.917400  (00:08)\n",
      "24     0.913439    0.347844    0.925200  (00:08)\n",
      "25     0.888404    0.330377    0.934000  (00:08)\n",
      "26     0.882977    0.320313    0.935900  (00:08)\n",
      "27     0.875992    0.322657    0.937300  (00:08)\n",
      "28     0.861310    0.314933    0.938800  (00:08)\n",
      "29     0.858636    0.309697    0.938800  (00:09)\n",
      "\n"
     ]
    }
   ],
   "source": [
    "learn = Learner(data, ResNet18(), metrics=accuracy).to_fp16().mixup()\n",
    "learn.bn_wd = False\n",
    "learn.fit_one_cycle(30, 4e-3, wd=0.2, div_factor=20, pct_start=0.5)"
   ]
  },
  {
   "cell_type": "code",
   "execution_count": 17,
   "metadata": {},
   "outputs": [
    {
     "data": {
      "application/vnd.jupyter.widget-view+json": {
       "model_id": "",
       "version_major": 2,
       "version_minor": 0
      },
      "text/plain": [
       "VBox(children=(HBox(children=(IntProgress(value=0, max=30), HTML(value='0.00% [0/30 00:00<00:00]'))), HTML(val…"
      ]
     },
     "metadata": {},
     "output_type": "display_data"
    },
    {
     "name": "stdout",
     "output_type": "stream",
     "text": [
      "Total time: 04:29\n",
      "epoch  train loss  valid loss  accuracy\n",
      "0      1.769233    1.437197    0.489600  (00:08)\n",
      "1      1.545924    1.079745    0.624300  (00:09)\n",
      "2      1.410285    0.933421    0.705100  (00:08)\n",
      "3      1.327269    0.873975    0.718000  (00:09)\n",
      "4      1.270195    0.808721    0.740300  (00:08)\n",
      "5      1.243057    0.876885    0.723400  (00:08)\n",
      "6      1.216841    0.793499    0.766200  (00:08)\n",
      "7      1.193252    0.860011    0.733400  (00:08)\n",
      "8      1.178466    1.035099    0.676600  (00:08)\n",
      "9      1.159536    0.755469    0.774000  (00:09)\n",
      "10     1.150020    0.674637    0.807000  (00:08)\n",
      "11     1.131772    0.709780    0.785900  (00:08)\n",
      "12     1.123006    0.661617    0.819000  (00:08)\n",
      "13     1.117477    0.634425    0.828500  (00:08)\n",
      "14     1.116923    0.757135    0.762600  (00:09)\n",
      "15     1.106529    0.678172    0.810600  (00:09)\n",
      "16     1.090535    0.703022    0.790800  (00:09)\n",
      "17     1.079373    0.531510    0.853700  (00:08)\n",
      "18     1.056396    0.536513    0.858100  (00:09)\n",
      "19     1.041657    0.509942    0.865300  (00:09)\n",
      "20     1.023650    0.466157    0.884100  (00:09)\n",
      "21     1.004164    0.452516    0.890300  (00:08)\n",
      "22     0.979511    0.411181    0.903400  (00:09)\n",
      "23     0.959893    0.390050    0.911700  (00:08)\n",
      "24     0.931357    0.360588    0.920100  (00:08)\n",
      "25     0.919253    0.348721    0.925800  (00:09)\n",
      "26     0.900043    0.337068    0.931500  (00:08)\n",
      "27     0.880537    0.319871    0.934000  (00:09)\n",
      "28     0.870106    0.316715    0.937300  (00:08)\n",
      "29     0.863903    0.317541    0.936100  (00:08)\n",
      "\n"
     ]
    }
   ],
   "source": [
    "learn = Learner(data, ResNet18(), metrics=accuracy).to_fp16().mixup()\n",
    "learn.bn_wd = False\n",
    "learn.fit_one_cycle(30, 5e-3, wd=0.3, div_factor=20, pct_start=0.5)"
   ]
  },
  {
   "cell_type": "code",
   "execution_count": 18,
   "metadata": {},
   "outputs": [
    {
     "data": {
      "application/vnd.jupyter.widget-view+json": {
       "model_id": "",
       "version_major": 2,
       "version_minor": 0
      },
      "text/plain": [
       "VBox(children=(HBox(children=(IntProgress(value=0, max=30), HTML(value='0.00% [0/30 00:00<00:00]'))), HTML(val…"
      ]
     },
     "metadata": {},
     "output_type": "display_data"
    },
    {
     "name": "stdout",
     "output_type": "stream",
     "text": [
      "Total time: 04:29\n",
      "epoch  train loss  valid loss  accuracy\n",
      "0      1.877444    1.428249    0.507000  (00:08)\n",
      "1      1.686779    1.146363    0.612000  (00:08)\n",
      "2      1.579537    1.073184    0.661000  (00:08)\n",
      "3      1.497711    1.062948    0.642100  (00:09)\n",
      "4      1.451493    1.008876    0.683300  (00:09)\n",
      "5      1.418720    0.812472    0.778200  (00:09)\n",
      "6      1.388074    0.820787    0.759600  (00:09)\n",
      "7      1.368962    0.814821    0.766300  (00:08)\n",
      "8      1.348453    0.852179    0.742600  (00:08)\n",
      "9      1.335535    0.857848    0.747100  (00:09)\n",
      "10     1.317953    0.722277    0.806300  (00:08)\n",
      "11     1.310171    0.699505    0.813700  (00:09)\n",
      "12     1.298111    0.782189    0.772800  (00:08)\n",
      "13     1.287443    0.748586    0.801800  (00:08)\n",
      "14     1.283934    0.734944    0.786200  (00:09)\n",
      "15     1.267580    0.685324    0.816600  (00:08)\n",
      "16     1.252237    0.754310    0.789400  (00:08)\n",
      "17     1.237169    0.573412    0.867000  (00:09)\n",
      "18     1.229106    0.616179    0.845500  (00:08)\n",
      "19     1.212472    0.594400    0.849200  (00:08)\n",
      "20     1.197014    0.496690    0.897300  (00:09)\n",
      "21     1.175467    0.524821    0.879300  (00:09)\n",
      "22     1.154777    0.467225    0.902600  (00:08)\n",
      "23     1.135411    0.422333    0.922400  (00:09)\n",
      "24     1.116225    0.404814    0.925300  (00:09)\n",
      "25     1.096501    0.402886    0.928200  (00:09)\n",
      "26     1.076979    0.388674    0.931300  (00:09)\n",
      "27     1.070010    0.384861    0.935700  (00:08)\n",
      "28     1.060380    0.386066    0.937000  (00:08)\n",
      "29     1.058733    0.378859    0.937300  (00:08)\n",
      "\n"
     ]
    }
   ],
   "source": [
    "learn = Learner(data, ResNet18(), metrics=accuracy).to_fp16().mixup(.8)\n",
    "learn.fit_one_cycle(30, 4e-3, wd=0.2, div_factor=20, pct_start=0.5)"
   ]
  },
  {
   "cell_type": "code",
   "execution_count": null,
   "metadata": {},
   "outputs": [],
   "source": []
  }
 ],
 "metadata": {
  "kernelspec": {
   "display_name": "Python 3",
   "language": "python",
   "name": "python3"
  },
  "language_info": {
   "codemirror_mode": {
    "name": "ipython",
    "version": 3
   },
   "file_extension": ".py",
   "mimetype": "text/x-python",
   "name": "python",
   "nbconvert_exporter": "python",
   "pygments_lexer": "ipython3",
   "version": "3.7.0"
  },
  "toc": {
   "base_numbering": 1,
   "nav_menu": {},
   "number_sections": false,
   "sideBar": true,
   "skip_h1_title": false,
   "title_cell": "Table of Contents",
   "title_sidebar": "Contents",
   "toc_cell": false,
   "toc_position": {},
   "toc_section_display": true,
   "toc_window_display": false
  }
 },
 "nbformat": 4,
 "nbformat_minor": 2
}
