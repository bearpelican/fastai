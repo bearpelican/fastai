{
 "cells": [
  {
   "cell_type": "code",
   "execution_count": 1,
   "metadata": {},
   "outputs": [
    {
     "name": "stderr",
     "output_type": "stream",
     "text": [
      "/home/ubuntu/anaconda3/envs/fastai/lib/python3.7/site-packages/matplotlib/font_manager.py:229: UserWarning: Matplotlib is building the font cache using fc-list. This may take a moment.\n",
      "  'Matplotlib is building the font cache using fc-list. '\n"
     ]
    }
   ],
   "source": [
    "%reload_ext autoreload\n",
    "%autoreload 2\n",
    "\n",
    "from fastai import *\n",
    "from fastai.vision import *\n",
    "from fastai.vision.models.wrn import wrn_22\n",
    "\n",
    "torch.backends.cudnn.benchmark = True"
   ]
  },
  {
   "cell_type": "code",
   "execution_count": 2,
   "metadata": {},
   "outputs": [
    {
     "data": {
      "application/vnd.jupyter.widget-view+json": {
       "model_id": "3d27583e1296474ba22cdcdfd2ccf570",
       "version_major": 2,
       "version_minor": 0
      },
      "text/plain": [
       "HBox(children=(IntProgress(value=0, max=168168549), HTML(value='')))"
      ]
     },
     "metadata": {},
     "output_type": "display_data"
    }
   ],
   "source": [
    "path = untar_data(URLs.CIFAR)\n",
    "path"
   ]
  },
  {
   "cell_type": "code",
   "execution_count": null,
   "metadata": {},
   "outputs": [],
   "source": [
    "ds_tfms = ([*rand_pad(4, 32), flip_lr(p=0.5)], [])\n",
    "data = ImageDataBunch.from_folder(path, valid='test', ds_tfms=ds_tfms, tfms=cifar_norm, bs=512)"
   ]
  },
  {
   "cell_type": "code",
   "execution_count": 5,
   "metadata": {
    "scrolled": true
   },
   "outputs": [
    {
     "data": {
      "application/vnd.jupyter.widget-view+json": {
       "model_id": "",
       "version_major": 2,
       "version_minor": 0
      },
      "text/plain": [
       "VBox(children=(HBox(children=(IntProgress(value=0, max=30), HTML(value='0.00% [0/30 00:00<00:00]'))), HTML(val…"
      ]
     },
     "metadata": {},
     "output_type": "display_data"
    },
    {
     "name": "stdout",
     "output_type": "stream",
     "text": [
      "Total time: 07:32\n",
      "epoch  train loss  valid loss  accuracy\n",
      "0      1.450026    1.359184    0.507400  (00:18)\n",
      "1      1.102604    1.153077    0.580600  (00:14)\n",
      "2      0.879822    0.868861    0.696600  (00:14)\n",
      "3      0.735520    1.153971    0.634000  (00:14)\n",
      "4      0.620808    0.835092    0.730600  (00:14)\n",
      "5      0.559565    0.621609    0.785000  (00:14)\n",
      "6      0.503048    0.625497    0.785600  (00:14)\n",
      "7      0.466957    1.008202    0.700400  (00:14)\n",
      "8      0.435348    0.634441    0.790600  (00:14)\n",
      "9      0.404882    0.862379    0.720500  (00:14)\n",
      "10     0.387860    0.531724    0.815500  (00:14)\n",
      "11     0.375105    0.654331    0.794900  (00:14)\n",
      "12     0.353301    0.589967    0.808200  (00:14)\n",
      "13     0.349062    0.432656    0.857000  (00:14)\n",
      "14     0.338041    0.624435    0.802300  (00:14)\n",
      "15     0.322897    0.508348    0.834200  (00:14)\n",
      "16     0.303015    0.554365    0.818200  (00:14)\n",
      "17     0.280852    0.564493    0.813200  (00:15)\n",
      "18     0.259715    0.387282    0.871400  (00:15)\n",
      "19     0.229827    0.343410    0.889100  (00:15)\n",
      "20     0.205746    0.329835    0.894400  (00:15)\n",
      "21     0.175344    0.339298    0.892000  (00:15)\n",
      "22     0.146428    0.329819    0.899700  (00:14)\n",
      "23     0.113980    0.273823    0.913500  (00:14)\n",
      "24     0.085635    0.258620    0.920200  (00:15)\n",
      "25     0.063475    0.225523    0.929500  (00:15)\n",
      "26     0.040402    0.214808    0.937200  (00:14)\n",
      "27     0.026367    0.210924    0.940900  (00:15)\n",
      "28     0.020865    0.213681    0.940000  (00:15)\n",
      "29     0.016636    0.216052    0.939600  (00:14)\n",
      "\n"
     ]
    }
   ],
   "source": [
    "learn = Learner(data, wrn_22(), metrics=accuracy).to_fp16()\n",
    "learn.fit_one_cycle(30, 3e-3, wd=0.4, div_factor=10, pct_start=0.5)"
   ]
  },
  {
   "cell_type": "markdown",
   "metadata": {},
   "source": [
    "With mixup"
   ]
  },
  {
   "cell_type": "code",
   "execution_count": 6,
   "metadata": {},
   "outputs": [
    {
     "data": {
      "application/vnd.jupyter.widget-view+json": {
       "model_id": "",
       "version_major": 2,
       "version_minor": 0
      },
      "text/plain": [
       "VBox(children=(HBox(children=(IntProgress(value=0, max=24), HTML(value='0.00% [0/24 00:00<00:00]'))), HTML(val…"
      ]
     },
     "metadata": {},
     "output_type": "display_data"
    },
    {
     "name": "stdout",
     "output_type": "stream",
     "text": [
      "Total time: 06:06\n",
      "epoch  train loss  valid loss  accuracy\n",
      "0      1.747541    1.371012    0.510100  (00:15)\n",
      "1      1.548095    1.069746    0.642400  (00:15)\n",
      "2      1.430582    1.096776    0.634200  (00:15)\n",
      "3      1.330330    0.861186    0.729700  (00:15)\n",
      "4      1.259539    0.774822    0.759000  (00:15)\n",
      "5      1.213110    0.729847    0.787800  (00:15)\n",
      "6      1.178659    0.844735    0.731800  (00:15)\n",
      "7      1.150209    0.641020    0.812700  (00:15)\n",
      "8      1.128673    0.680111    0.798200  (00:15)\n",
      "9      1.117596    0.602501    0.827000  (00:15)\n",
      "10     1.101462    0.702819    0.794500  (00:15)\n",
      "11     1.090931    0.726885    0.784200  (00:15)\n",
      "12     1.075520    0.793775    0.758100  (00:15)\n",
      "13     1.051197    0.610172    0.836100  (00:15)\n",
      "14     1.031767    0.518531    0.870400  (00:15)\n",
      "15     1.019747    0.547122    0.857000  (00:15)\n",
      "16     0.990593    0.438541    0.891200  (00:15)\n",
      "17     0.965453    0.377934    0.911500  (00:15)\n",
      "18     0.936112    0.373625    0.911900  (00:15)\n",
      "19     0.920882    0.344201    0.927000  (00:15)\n",
      "20     0.898256    0.324375    0.932100  (00:15)\n",
      "21     0.880038    0.314042    0.938200  (00:15)\n",
      "22     0.868447    0.299869    0.940200  (00:15)\n",
      "23     0.863397    0.298463    0.941100  (00:15)\n",
      "\n"
     ]
    }
   ],
   "source": [
    "learn = Learner(data, wrn_22(), metrics=accuracy).to_fp16().mixup()\n",
    "learn.fit_one_cycle(24, 3e-3, wd=0.2, div_factor=10, pct_start=0.5)"
   ]
  },
  {
   "cell_type": "code",
   "execution_count": null,
   "metadata": {},
   "outputs": [],
   "source": []
  }
 ],
 "metadata": {
  "kernelspec": {
   "display_name": "Python 3",
   "language": "python",
   "name": "python3"
  },
  "language_info": {
   "codemirror_mode": {
    "name": "ipython",
    "version": 3
   },
   "file_extension": ".py",
   "mimetype": "text/x-python",
   "name": "python",
   "nbconvert_exporter": "python",
   "pygments_lexer": "ipython3",
   "version": "3.7.0"
  },
  "toc": {
   "base_numbering": 1,
   "nav_menu": {},
   "number_sections": false,
   "sideBar": true,
   "skip_h1_title": false,
   "title_cell": "Table of Contents",
   "title_sidebar": "Contents",
   "toc_cell": false,
   "toc_position": {},
   "toc_section_display": true,
   "toc_window_display": false
  }
 },
 "nbformat": 4,
 "nbformat_minor": 2
}
