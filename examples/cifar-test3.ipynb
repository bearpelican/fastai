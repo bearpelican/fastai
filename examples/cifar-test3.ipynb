{
 "cells": [
  {
   "cell_type": "code",
   "execution_count": 1,
   "metadata": {},
   "outputs": [],
   "source": [
    "%reload_ext autoreload\n",
    "%autoreload 2\n",
    "\n",
    "from fastai import *\n",
    "from fastai.vision import *\n",
    "from fastai.vision.models.wrn import wrn_22\n",
    "from fastai.docs import *\n",
    "from fastai.docs import CIFAR_PATH\n",
    "\n",
    "torch.backends.cudnn.benchmark = True"
   ]
  },
  {
   "cell_type": "markdown",
   "metadata": {},
   "source": [
    "### Model Definition"
   ]
  },
  {
   "cell_type": "code",
   "execution_count": 2,
   "metadata": {},
   "outputs": [],
   "source": [
    "# --\n",
    "# Model definition\n",
    "# Derived from models in `https://github.com/kuangliu/pytorch-cifar`\n",
    "\n",
    "class PreActBlock(nn.Module):\n",
    "    def __init__(self, in_channels, out_channels, stride=1):\n",
    "        super().__init__()\n",
    "        \n",
    "        self.bn1   = nn.BatchNorm2d(in_channels)\n",
    "        self.conv1 = nn.Conv2d(in_channels, out_channels, kernel_size=3, stride=stride, padding=1, bias=False)\n",
    "        self.bn2   = nn.BatchNorm2d(out_channels)\n",
    "        self.conv2 = nn.Conv2d(out_channels, out_channels, kernel_size=3, stride=1, padding=1, bias=False)\n",
    "        if stride != 1 or in_channels != out_channels:\n",
    "            self.shortcut = nn.Sequential(\n",
    "                nn.Conv2d(in_channels, out_channels, kernel_size=1, stride=stride, bias=False)\n",
    "            )\n",
    "    def forward(self, x):\n",
    "        out = F.relu(self.bn1(x))\n",
    "        shortcut = self.shortcut(out) if hasattr(self, 'shortcut') else x\n",
    "        out = self.conv1(out)\n",
    "        out = self.conv2(F.relu(self.bn2(out)))\n",
    "        return out + shortcut\n",
    "    \n",
    "class ResNet18(nn.Module):\n",
    "    def __init__(self, num_blocks=[2, 2, 2, 2], num_classes=10):\n",
    "        super().__init__()\n",
    "        self.in_channels = 64\n",
    "        self.prep = nn.Sequential(\n",
    "            nn.Conv2d(3, 64, kernel_size=3, stride=1, padding=1, bias=False),\n",
    "            nn.BatchNorm2d(64),\n",
    "            nn.ReLU()\n",
    "        )\n",
    "        self.layers = nn.Sequential(\n",
    "            self._make_layer(64, 64, num_blocks[0], stride=1),\n",
    "            self._make_layer(64, 128, num_blocks[1], stride=2),\n",
    "            self._make_layer(128, 256, num_blocks[2], stride=2),\n",
    "            self._make_layer(256, 256, num_blocks[3], stride=2),\n",
    "        )\n",
    "        self.classifier = nn.Linear(512, num_classes)\n",
    "        \n",
    "    def _make_layer(self, in_channels, out_channels, num_blocks, stride):\n",
    "        \n",
    "        strides = [stride] + [1] * (num_blocks-1)\n",
    "        layers = []\n",
    "        for stride in strides:\n",
    "            layers.append(PreActBlock(in_channels=in_channels, out_channels=out_channels, stride=stride))\n",
    "            in_channels = out_channels\n",
    "        \n",
    "        return nn.Sequential(*layers)\n",
    "    \n",
    "    def forward(self, x):\n",
    "        x = x.half()\n",
    "        x = self.prep(x)\n",
    "        \n",
    "        x = self.layers(x)\n",
    "        \n",
    "        x_avg = F.adaptive_avg_pool2d(x, (1, 1))\n",
    "        x_avg = x_avg.view(x_avg.size(0), -1)\n",
    "        \n",
    "        x_max = F.adaptive_max_pool2d(x, (1, 1))\n",
    "        x_max = x_max.view(x_max.size(0), -1)\n",
    "        \n",
    "        x = torch.cat([x_avg, x_max], dim=-1)\n",
    "        \n",
    "        x = self.classifier(x)\n",
    "        \n",
    "        return x"
   ]
  },
  {
   "cell_type": "code",
   "execution_count": 3,
   "metadata": {},
   "outputs": [],
   "source": [
    "untar_data(CIFAR_PATH)"
   ]
  },
  {
   "cell_type": "code",
   "execution_count": 6,
   "metadata": {},
   "outputs": [],
   "source": [
    "ds_tfms = ([pad(padding=4), crop(size=32, row_pct=(0,1), col_pct=(0,1)), flip_lr(p=0.5)], [])\n",
    "data = image_data_from_folder(CIFAR_PATH, valid='test', ds_tfms=ds_tfms, tfms=cifar_norm, bs=512)"
   ]
  },
  {
   "cell_type": "code",
   "execution_count": 7,
   "metadata": {},
   "outputs": [
    {
     "data": {
      "image/jpeg": "[encoded data removed]",
      "image/png": "[encoded data removed]",
      "text/plain": [
       "Image (3, 32, 32)"
      ]
     },
     "execution_count": 7,
     "metadata": {},
     "output_type": "execute_result"
    }
   ],
   "source": [
    "data.train_ds[1][0]"
   ]
  },
  {
   "cell_type": "code",
   "execution_count": null,
   "metadata": {},
   "outputs": [],
   "source": [
    "# show_image_batch(data.train_dl, data.train_ds.classes)"
   ]
  },
  {
   "cell_type": "code",
   "execution_count": 8,
   "metadata": {
    "scrolled": true
   },
   "outputs": [
    {
     "data": {
      "application/vnd.jupyter.widget-view+json": {
       "model_id": "",
       "version_major": 2,
       "version_minor": 0
      },
      "text/plain": [
       "VBox(children=(HBox(children=(IntProgress(value=0, max=30), HTML(value='0.00% [0/30 00:00<00:00]'))), HTML(val…"
      ]
     },
     "metadata": {},
     "output_type": "display_data"
    },
    {
     "name": "stdout",
     "output_type": "stream",
     "text": [
      "Total time: 04:28\n",
      "epoch  train loss  valid loss  accuracy\n",
      "0      1.795702    1.365861    0.535200  (00:20)\n",
      "1      1.581178    1.207135    0.577200  (00:08)\n",
      "2      1.440670    1.063459    0.641600  (00:08)\n",
      "3      1.334411    1.294384    0.584400  (00:08)\n",
      "4      1.289912    1.274863    0.565400  (00:08)\n",
      "5      1.241590    0.927619    0.699300  (00:08)\n",
      "6      1.201504    0.752876    0.767600  (00:08)\n",
      "7      1.173325    0.698428    0.791800  (00:08)\n",
      "8      1.162377    0.771245    0.769500  (00:08)\n",
      "9      1.139921    0.648074    0.817400  (00:08)\n",
      "10     1.126804    0.617434    0.825300  (00:08)\n",
      "11     1.117855    0.647468    0.817300  (00:08)\n",
      "12     1.107589    0.646871    0.801700  (00:08)\n",
      "13     1.098015    0.714905    0.796200  (00:08)\n",
      "14     1.087251    0.770405    0.777800  (00:08)\n",
      "15     1.076816    0.501551    0.870600  (00:08)\n",
      "16     1.060990    0.556516    0.844400  (00:08)\n",
      "17     1.043575    0.538492    0.855700  (00:08)\n",
      "18     1.035051    0.510318    0.875400  (00:08)\n",
      "19     1.011068    0.435927    0.894200  (00:08)\n",
      "20     0.992082    0.453798    0.885000  (00:08)\n",
      "21     0.973627    0.433991    0.890600  (00:08)\n",
      "22     0.949603    0.390490    0.911700  (00:08)\n",
      "23     0.939600    0.365594    0.915900  (00:08)\n",
      "24     0.921042    0.359234    0.925100  (00:08)\n",
      "25     0.893907    0.336610    0.932700  (00:08)\n",
      "26     0.882428    0.328191    0.935300  (00:08)\n",
      "27     0.868656    0.316287    0.935300  (00:08)\n",
      "28     0.865694    0.314341    0.938500  (00:08)\n",
      "29     0.855949    0.313705    0.938600  (00:08)\n",
      "\n"
     ]
    }
   ],
   "source": [
    "learn = Learner(data, ResNet18(), metrics=accuracy).to_fp16().mixup()\n",
    "learn.fit_one_cycle(30, 4e-3, wd=0.2, div_factor=20, pct_start=0.5)"
   ]
  },
  {
   "cell_type": "code",
   "execution_count": 9,
   "metadata": {},
   "outputs": [
    {
     "data": {
      "application/vnd.jupyter.widget-view+json": {
       "model_id": "",
       "version_major": 2,
       "version_minor": 0
      },
      "text/plain": [
       "VBox(children=(HBox(children=(IntProgress(value=0, max=30), HTML(value='0.00% [0/30 00:00<00:00]'))), HTML(val…"
      ]
     },
     "metadata": {},
     "output_type": "display_data"
    },
    {
     "name": "stdout",
     "output_type": "stream",
     "text": [
      "Total time: 04:13\n",
      "epoch  train loss  valid loss  accuracy\n",
      "0      1.789306    1.456366    0.468000  (00:08)\n",
      "1      1.571725    1.181943    0.604300  (00:08)\n",
      "2      1.428148    0.898890    0.718400  (00:08)\n",
      "3      1.333608    1.044259    0.660000  (00:08)\n",
      "4      1.275320    1.186650    0.592100  (00:08)\n",
      "5      1.228309    0.843180    0.736200  (00:08)\n",
      "6      1.206232    0.662824    0.803300  (00:08)\n",
      "7      1.178555    0.763833    0.772100  (00:08)\n",
      "8      1.159437    0.754386    0.781800  (00:08)\n",
      "9      1.148030    0.651326    0.810700  (00:08)\n",
      "10     1.133018    0.883851    0.723200  (00:08)\n",
      "11     1.125575    0.666752    0.808100  (00:08)\n",
      "12     1.109944    0.824744    0.751900  (00:08)\n",
      "13     1.105049    0.620707    0.822100  (00:08)\n",
      "14     1.094006    0.743840    0.768300  (00:08)\n",
      "15     1.086294    0.560766    0.852300  (00:08)\n",
      "16     1.070282    0.493755    0.865100  (00:08)\n",
      "17     1.045532    0.488506    0.875600  (00:08)\n",
      "18     1.037327    0.475848    0.881500  (00:08)\n",
      "19     1.017956    0.455821    0.887500  (00:08)\n",
      "20     0.995424    0.461125    0.892300  (00:08)\n",
      "21     0.973048    0.410172    0.902000  (00:08)\n",
      "22     0.951355    0.389699    0.911900  (00:08)\n",
      "23     0.936195    0.372342    0.914100  (00:08)\n",
      "24     0.917232    0.353124    0.926600  (00:08)\n",
      "25     0.893314    0.323894    0.932900  (00:08)\n",
      "26     0.882400    0.325098    0.933800  (00:08)\n",
      "27     0.875555    0.321898    0.937500  (00:08)\n",
      "28     0.863448    0.320172    0.938500  (00:08)\n",
      "29     0.857723    0.316557    0.938900  (00:08)\n",
      "\n"
     ]
    }
   ],
   "source": [
    "learn = Learner(data, ResNet18(), metrics=accuracy).to_fp16().mixup()\n",
    "learn.bn_wd = False\n",
    "learn.fit_one_cycle(30, 4e-3, wd=0.2, div_factor=20, pct_start=0.5)"
   ]
  },
  {
   "cell_type": "code",
   "execution_count": null,
   "metadata": {},
   "outputs": [],
   "source": [
    "learn = Learner(data, ResNet18(), metrics=accuracy).to_fp16().mixup()\n",
    "learn.bn_wd = False\n",
    "learn.fit_one_cycle(30, 4e-3, wd=0.2, div_factor=20, pct_start=0.5)"
   ]
  },
  {
   "cell_type": "code",
   "execution_count": 5,
   "metadata": {},
   "outputs": [],
   "source": [
    "class fp16cb(Callback):    \n",
    "    def on_train_begin(self, n_epochs:int, **kwargs:Any)->None: pass\n",
    "    def on_loss_begin(self, last_output:Tensor, **kwargs:Any) -> Tensor:\n",
    "        \"Convert half precision output to FP32 to avoid reduction overflow.\"\n",
    "        return last_output.float()\n"
   ]
  }
 ],
 "metadata": {
  "kernelspec": {
   "display_name": "Python 3",
   "language": "python",
   "name": "python3"
  },
  "language_info": {
   "codemirror_mode": {
    "name": "ipython",
    "version": 3
   },
   "file_extension": ".py",
   "mimetype": "text/x-python",
   "name": "python",
   "nbconvert_exporter": "python",
   "pygments_lexer": "ipython3",
   "version": "3.7.0"
  },
  "toc": {
   "base_numbering": 1,
   "nav_menu": {},
   "number_sections": false,
   "sideBar": true,
   "skip_h1_title": false,
   "title_cell": "Table of Contents",
   "title_sidebar": "Contents",
   "toc_cell": false,
   "toc_position": {},
   "toc_section_display": true,
   "toc_window_display": false
  }
 },
 "nbformat": 4,
 "nbformat_minor": 2
}
